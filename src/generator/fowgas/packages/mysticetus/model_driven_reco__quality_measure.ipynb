{
 "cells": [
  {
   "cell_type": "markdown",
   "metadata": {},
   "source": [
    "## Import stuff"
   ]
  },
  {
   "cell_type": "code",
   "execution_count": 1,
   "metadata": {
    "collapsed": true
   },
   "outputs": [],
   "source": [
    "import numpy as np\n",
    "from mysticetus.model_driven_reco import *"
   ]
  },
  {
   "cell_type": "markdown",
   "metadata": {},
   "source": [
    "## Identical input"
   ]
  },
  {
   "cell_type": "code",
   "execution_count": 2,
   "metadata": {
    "collapsed": false
   },
   "outputs": [
    {
     "name": "stdout",
     "output_type": "stream",
     "text": [
      "q of (x1, y1):  0.0\n",
      "\n",
      "q of (x2, y2):  0.0\n"
     ]
    }
   ],
   "source": [
    "x1 = np.array([1.0])\n",
    "y1 = np.array([1.0])\n",
    "print('q of (x1, y1): ', q_measure(x1, y1))\n",
    "\n",
    "n = 10\n",
    "x2 = np.random.rand(4)\n",
    "y2 = x2\n",
    "print()\n",
    "print('q of (x2, y2): ', q_measure(x2, y2))"
   ]
  },
  {
   "cell_type": "markdown",
   "metadata": {},
   "source": [
    "## Scaling invariance"
   ]
  },
  {
   "cell_type": "code",
   "execution_count": 3,
   "metadata": {
    "collapsed": false
   },
   "outputs": [
    {
     "name": "stdout",
     "output_type": "stream",
     "text": [
      "q of (x3, y3):  0.1\n",
      "\n",
      "x4 = 0.45 * x3\n",
      "y4 = 0.0083 * y3\n",
      "q of (x4, y4):  0.1\n"
     ]
    }
   ],
   "source": [
    "x3 = np.array([1.0, 1.0])\n",
    "y3 = np.array([0.9, 1.1])\n",
    "print('q of (x3, y3): ', q_measure(x3, y3))\n",
    "\n",
    "alpha = np.random.rand()\n",
    "beta  = np.random.rand()\n",
    "x4 = alpha * x3\n",
    "y4 = beta  * y3\n",
    "print()\n",
    "print('x4 = {:.2} * x3'.format(alpha))\n",
    "print('y4 = {:.2} * y3'.format(beta))\n",
    "print('q of (x4, y4): ', q_measure(x4, y4))"
   ]
  },
  {
   "cell_type": "markdown",
   "metadata": {},
   "source": [
    "## Dimension invariance"
   ]
  },
  {
   "cell_type": "code",
   "execution_count": 4,
   "metadata": {
    "collapsed": false
   },
   "outputs": [
    {
     "name": "stdout",
     "output_type": "stream",
     "text": [
      "lenght of x5, y5:  10\n",
      "0.428462674933\n",
      "\n",
      "lenght of x6, y6:  40\n",
      "0.428462674933\n"
     ]
    }
   ],
   "source": [
    "n = 10\n",
    "x5 = np.random.rand(n)\n",
    "y5 = np.random.rand(n)\n",
    "print('lenght of x5, y5: ', len(x5))\n",
    "print(q_measure(x5, y5))\n",
    "\n",
    "m = 4\n",
    "x6 = np.array([])\n",
    "y6 = np.array([])\n",
    "for i in range(m):\n",
    "    x6 = np.concatenate((x6, x5))\n",
    "    y6 = np.concatenate((y6, y5))\n",
    "print()\n",
    "print('lenght of x6, y6: ', len(x6))\n",
    "print(q_measure(x6, y6))"
   ]
  },
  {
   "cell_type": "markdown",
   "metadata": {},
   "source": [
    "## Condensing"
   ]
  },
  {
   "cell_type": "code",
   "execution_count": 5,
   "metadata": {
    "collapsed": false
   },
   "outputs": [
    {
     "name": "stdout",
     "output_type": "stream",
     "text": [
      "0.815033024278\n",
      "\n",
      "0.575174100322\n"
     ]
    }
   ],
   "source": [
    "k = 100000\n",
    "n = 2*k\n",
    "x7 = np.random.rand(n)\n",
    "y7 = np.random.rand(n)\n",
    "print(q_measure(x7, y7))\n",
    "\n",
    "x8 = np.zeros(k)\n",
    "y8 = np.zeros(k)\n",
    "for i in range(k):\n",
    "    x8[i] = x7[2*i] + x7[2*i+1]\n",
    "    y8[i] = y7[2*i] + y7[2*i+1]\n",
    "print()\n",
    "print(q_measure(x8, y8))"
   ]
  },
  {
   "cell_type": "markdown",
   "metadata": {},
   "source": [
    "## Using mask"
   ]
  },
  {
   "cell_type": "code",
   "execution_count": 6,
   "metadata": {
    "collapsed": false
   },
   "outputs": [
    {
     "name": "stdout",
     "output_type": "stream",
     "text": [
      "0.458257569496\n",
      "0.9\n"
     ]
    }
   ],
   "source": [
    "mask = np.array([1.0, 1.0, 0.0, 0.0, 0.0, 0.0, 0.0, 0.0])\n",
    "x9   = np.array([1.0, 1.0, 1.0, 1.0, 1.0, 1.0, 1.0, 1.0])\n",
    "y9   = np.array([0.1, 1.9, 0.9, 1.1, 0.9, 1.1, 0.9, 1.1])\n",
    "print(q_measure(x9, y9))\n",
    "print(q_measure(x9, y9, mask=mask))"
   ]
  }
 ],
 "metadata": {
  "anaconda-cloud": {},
  "kernelspec": {
   "display_name": "Python [conda env:my_root]",
   "language": "python",
   "name": "conda-env-my_root-py"
  },
  "language_info": {
   "codemirror_mode": {
    "name": "ipython",
    "version": 3
   },
   "file_extension": ".py",
   "mimetype": "text/x-python",
   "name": "python",
   "nbconvert_exporter": "python",
   "pygments_lexer": "ipython3",
   "version": "3.5.2"
  }
 },
 "nbformat": 4,
 "nbformat_minor": 2
}
