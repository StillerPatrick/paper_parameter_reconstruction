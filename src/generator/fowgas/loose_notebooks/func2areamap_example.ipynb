{
 "cells": [
  {
   "cell_type": "code",
   "execution_count": 1,
   "metadata": {
    "collapsed": false
   },
   "outputs": [],
   "source": [
    "# import common packages\n",
    "import numpy as np\n",
    "from matplotlib import pyplot as plt\n",
    "\n",
    "# append path for loading own packages\n",
    "import sys\n",
    "sys.path.append(\"../packages\")\n",
    "\n",
    "# switch on inline plotting\n",
    "%matplotlib inline"
   ]
  },
  {
   "cell_type": "code",
   "execution_count": 2,
   "metadata": {
    "collapsed": false
   },
   "outputs": [],
   "source": [
    "# define some function f\n",
    "scale = 100.\n",
    "f = np.vectorize(lambda x: np.cos(4.*np.pi*x/scale))\n",
    "fmin = -1.\n",
    "fmax = 1.\n",
    "\n",
    "# setup grid for graph rasterization\n",
    "xres = 128\n",
    "xmin = 0.\n",
    "xmax = 2.*scale\n",
    "x = np.linspace(xmin, xmax, xres, endpoint=True)\n",
    "\n",
    "yres = 128\n",
    "ymin = fmin - 1.*(fmax-fmin)\n",
    "ymax = fmax + 1.*(fmax-fmin)\n",
    "y = np.linspace(ymin, ymax, yres, endpoint=True)"
   ]
  },
  {
   "cell_type": "code",
   "execution_count": 3,
   "metadata": {
    "collapsed": false
   },
   "outputs": [
    {
     "data": {
      "image/png": "[encoded data removed]",
      "text/plain": [
       "<matplotlib.figure.Figure at 0x7fa028535d30>"
      ]
     },
     "metadata": {},
     "output_type": "display_data"
    }
   ],
   "source": [
    "# import own function rasterizing package\n",
    "import func2areamap\n",
    "\n",
    "# rasterize graph to array\n",
    "arr = func2areamap.func2areamap(x, y, f(x)) \n",
    "\n",
    "# show\n",
    "plt.imshow(np.swapaxes(arr,0,1), interpolation='nearest', origin='lower', cmap=plt.cm.gray)\n",
    "plt.show()"
   ]
  },
  {
   "cell_type": "code",
   "execution_count": 4,
   "metadata": {
    "collapsed": false
   },
   "outputs": [
    {
     "data": {
      "text/plain": [
       "<matplotlib.colorbar.Colorbar at 0x7f9ffe309518>"
      ]
     },
     "execution_count": 4,
     "metadata": {},
     "output_type": "execute_result"
    },
    {
     "data": {
      "image/png": "[encoded data removed]",
      "text/plain": [
       "<matplotlib.figure.Figure at 0x7f9ffe6d2fd0>"
      ]
     },
     "metadata": {},
     "output_type": "display_data"
    }
   ],
   "source": [
    "arr2 = func2areamap.func2areamap2(x, y, f)\n",
    "plt.imshow(np.swapaxes(arr2,0,1), interpolation='nearest', origin='lower', cmap=plt.cm.gray)\n",
    "plt.colorbar()"
   ]
  }
 ],
 "metadata": {
  "anaconda-cloud": {},
  "kernelspec": {
   "display_name": "Python [Root]",
   "language": "python",
   "name": "Python [Root]"
  },
  "language_info": {
   "codemirror_mode": {
    "name": "ipython",
    "version": 3
   },
   "file_extension": ".py",
   "mimetype": "text/x-python",
   "name": "python",
   "nbconvert_exporter": "python",
   "pygments_lexer": "ipython3",
   "version": "3.5.2"
  }
 },
 "nbformat": 4,
 "nbformat_minor": 0
}
