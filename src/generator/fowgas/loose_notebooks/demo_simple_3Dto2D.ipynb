{
 "cells": [
  {
   "cell_type": "markdown",
   "metadata": {},
   "source": [
    "# Demonstration of density 3Dto2D\n",
    "\n",
    "Demonstrates the summation of 2D slices of a 3D target density distribution. Slices are perpedicular to an \"X-ray\" that travels through the target at an angle of 45 degrees to the target-aligned coordinates. The target density distribution is a homogenous slab."
   ]
  },
  {
   "cell_type": "code",
   "execution_count": 1,
   "metadata": {
    "collapsed": true
   },
   "outputs": [],
   "source": [
    "# import packages\n",
    "import numpy as np\n",
    "from matplotlib import pyplot as plt\n",
    "from scipy import special\n",
    "\n",
    "# append path for loading own packages\n",
    "import sys\n",
    "sys.path.append(\"../packages\")\n",
    "\n",
    "# switch on inline plotting\n",
    "%matplotlib inline"
   ]
  },
  {
   "cell_type": "code",
   "execution_count": 3,
   "metadata": {
    "collapsed": false
   },
   "outputs": [
    {
     "data": {
      "text/plain": [
       "[<matplotlib.lines.Line2D at 0x7f23c089aa20>]"
      ]
     },
     "execution_count": 3,
     "metadata": {},
     "output_type": "execute_result"
    },
    {
     "data": {
      "image/png": "[encoded data removed]",
      "text/plain": [
       "<matplotlib.figure.Figure at 0x7f23c0f9b198>"
      ]
     },
     "metadata": {},
     "output_type": "display_data"
    }
   ],
   "source": [
    "# import own package auxiliary\n",
    "import auxiliary as aux\n",
    "\n",
    "# density distribution\n",
    "def f(xp, yp, zp):\n",
    "    \"\"\"\n",
    "    Density distribution in target coordinates.\n",
    "    \"\"\"\n",
    "    return aux.theta(xp + 0.25) * aux.theta(-xp + 0.25)\n",
    "\n",
    "x_test = np.linspace(-1., 1., 64)\n",
    "\n",
    "plt.plot(x_test, f(x_test, 0, 0))"
   ]
  },
  {
   "cell_type": "code",
   "execution_count": 10,
   "metadata": {
    "collapsed": false
   },
   "outputs": [
    {
     "name": "stdout",
     "output_type": "stream",
     "text": [
      " "
     ]
    },
    {
     "data": {
      "text/plain": [
       "<matplotlib.colorbar.Colorbar at 0x7f23be45a5c0>"
      ]
     },
     "execution_count": 10,
     "metadata": {},
     "output_type": "execute_result"
    },
    {
     "data": {
      "image/png": "[encoded data removed]",
      "text/plain": [
       "<matplotlib.figure.Figure at 0x7f23bda5aa58>"
      ]
     },
     "metadata": {},
     "output_type": "display_data"
    }
   ],
   "source": [
    "# define axis coordinate arrays\n",
    "zpmin = 0.\n",
    "zpmax = 10.\n",
    "zpres = 128\n",
    "zp = np.linspace(zpmin, zpmax, zpres, endpoint=False)\n",
    "\n",
    "xpmin = -1.\n",
    "xpmax = 1.\n",
    "xpres = 128\n",
    "xp = np.linspace(xpmin, xpmax, xpres, endpoint=False)\n",
    "\n",
    "ypmin = -1.\n",
    "ypmax = 1.\n",
    "ypres = xres\n",
    "yp = np.linspace(ypmin, ypmax, ypres, endpoint=False)\n",
    "\n",
    "# make 2D grids from x and y (1D-)arrays\n",
    "xx, yy = np.meshgrid(x, y)\n",
    "\n",
    "# initialize \n",
    "D = np.zeros(shape=xx.shape)\n",
    "\n",
    "def helper(D, z):\n",
    "    for zpos in z:\n",
    "        xp, yp, zp = rcoords2tcoords(xx, yy, zpos*np.ones(shape=xx.shape))\n",
    "        D += f(xp, yp, zp)\n",
    "\n",
    "%prun helper(D, z)\n",
    "\n",
    "aux.imshow(D)\n",
    "plt.colorbar()"
   ]
  },
  {
   "cell_type": "markdown",
   "metadata": {},
   "source": [
    "### Running time (cell above)\n",
    "\n",
    "zres = 4\n",
    "xres = yres = 1024\n",
    "-> ca. 35 sec\n",
    "\n",
    "-----\n",
    "\n",
    "zres = 4\n",
    "xres = yres = 512\n",
    "-> ca. 9 sec\n",
    "\n",
    "-----\n",
    "\n",
    "zres = 256\n",
    "xres = yres = 256\n",
    "-> ca. 2,5 min"
   ]
  }
 ],
 "metadata": {
  "anaconda-cloud": {},
  "kernelspec": {
   "display_name": "Python [Root]",
   "language": "python",
   "name": "Python [Root]"
  },
  "language_info": {
   "codemirror_mode": {
    "name": "ipython",
    "version": 3
   },
   "file_extension": ".py",
   "mimetype": "text/x-python",
   "name": "python",
   "nbconvert_exporter": "python",
   "pygments_lexer": "ipython3",
   "version": "3.5.2"
  }
 },
 "nbformat": 4,
 "nbformat_minor": 0
}
