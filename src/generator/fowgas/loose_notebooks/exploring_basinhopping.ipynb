{
 "cells": [
  {
   "cell_type": "markdown",
   "metadata": {},
   "source": [
    "# Explore basinhopping algorithm\n",
    "\n",
    "scipy.optimzie.basinhopping\n",
    "\n",
    "In great parts taken from the scipy example: [https://docs.scipy.org/doc/scipy-0.14.0/reference/generated/scipy.optimize.basinhopping.html]"
   ]
  },
  {
   "cell_type": "markdown",
   "metadata": {},
   "source": [
    "## Import stuff"
   ]
  },
  {
   "cell_type": "code",
   "execution_count": 26,
   "metadata": {
    "collapsed": true
   },
   "outputs": [],
   "source": [
    "import numpy as np\n",
    "from matplotlib import pyplot as plt\n",
    "%matplotlib inline\n",
    "from scipy.optimize import basinhopping"
   ]
  },
  {
   "cell_type": "markdown",
   "metadata": {},
   "source": [
    "## 1d example"
   ]
  },
  {
   "cell_type": "code",
   "execution_count": 27,
   "metadata": {
    "collapsed": false
   },
   "outputs": [
    {
     "name": "stdout",
     "output_type": "stream",
     "text": [
      "global minimum: x = -0.1951, f = -1.0009\n"
     ]
    },
    {
     "data": {
      "image/png": "[encoded data removed]",
      "text/plain": [
       "<matplotlib.figure.Figure at 0x7f1bdb86fb38>"
      ]
     },
     "metadata": {},
     "output_type": "display_data"
    }
   ],
   "source": [
    "# Define function 1d function whose global minimum is of interest.\n",
    "# It has many local minima\n",
    "fct = lambda x : np.cos(14.5 * x - 0.3) + (x + 0.2) * x\n",
    "\n",
    "# Show this function\n",
    "xres = 256\n",
    "xmin = -5.\n",
    "xmax = 5.\n",
    "x    = np.linspace(xmin, xmax, xres)\n",
    "plt.plot(x, fct(x))\n",
    "\n",
    "# Set up the arguments to the local minimizer that basinhopping internally uses\n",
    "minimizer_kwargs = {'method' : 'BFGS'}\n",
    "\n",
    "# Set the initial guess\n",
    "x0  = [1.]\n",
    "\n",
    "# Run\n",
    "ret = basinhopping(fct, x0, minimizer_kwargs=minimizer_kwargs, niter=200)\n",
    "\n",
    "# Print the result\n",
    "print('global minimum: x = %.4f, f = %.4f' % (ret.x, ret.fun))"
   ]
  },
  {
   "cell_type": "markdown",
   "metadata": {},
   "source": [
    "## 2d example"
   ]
  },
  {
   "cell_type": "code",
   "execution_count": 28,
   "metadata": {
    "collapsed": false
   },
   "outputs": [
    {
     "name": "stdout",
     "output_type": "stream",
     "text": [
      "global minimum: x = [-0.1951, -0.1000], f = -1.0109\n"
     ]
    }
   ],
   "source": [
    "# Define 2d function whose global minimum is of interest.\n",
    "# This time, the function also provides gradient information.\n",
    "def func2d(x):\n",
    "    f     = np.cos(14.5 * x[0] - 0.3) + (x[1] + 0.2) * x[1] + (x[0] + 0.2) * x[0]\n",
    "    df    = np.zeros(2)\n",
    "    df[0] = -14.5 * np.sin(14.5 * x[0] - 0.3) + 2. * x[0] + 0.2\n",
    "    df[1] = 2. * x[1] + 0.2\n",
    "    return f, df\n",
    "\n",
    "# Set up the arguments to the local minimizer that basinhopping internally uses.\n",
    "# Tell the minimizer that gradient information is available from the function.\n",
    "minimizer_kwargs = {\"method\":\"L-BFGS-B\", \"jac\":True}\n",
    "\n",
    "# Set the initial guess\n",
    "x0 = [1.0, 1.0]\n",
    "\n",
    "# Run\n",
    "ret = basinhopping(func2d, x0, minimizer_kwargs=minimizer_kwargs, niter=200)\n",
    "\n",
    "# Print results\n",
    "print(\"global minimum: x = [%.4f, %.4f], f = %.4f\" % (ret.x[0], ret.x[1], ret.fun))"
   ]
  },
  {
   "cell_type": "code",
   "execution_count": 29,
   "metadata": {
    "collapsed": false
   },
   "outputs": [
    {
     "name": "stdout",
     "output_type": "stream",
     "text": [
      "global minimum: x = [-0.1951, -0.1000], f(x0) = -1.0109\n"
     ]
    }
   ],
   "source": [
    "# Define a custom step taking routine that uses bigger steps in one dimension than in the other.\n",
    "class MyTakeStep(object):\n",
    "    def __init__(self, stepsize=0.5):\n",
    "        self.stepsize = stepsize\n",
    "    def __call__(self, x):\n",
    "        s      = self.stepsize\n",
    "        x[0]  += np.random.uniform(-2.*s, 2.*s)\n",
    "        x[1:] += np.random.uniform(-s, s, x[1:].shape)\n",
    "        return x\n",
    "\n",
    "# Use the same 2d function as before, now with the custom step taker\n",
    "mytakestep = MyTakeStep()\n",
    "ret = basinhopping(func2d, x0, minimizer_kwargs=minimizer_kwargs, niter=200, take_step=mytakestep)\n",
    "print(\"global minimum: x = [%.4f, %.4f], f(x0) = %.4f\" % (ret.x[0], ret.x[1], ret.fun))"
   ]
  },
  {
   "cell_type": "code",
   "execution_count": 30,
   "metadata": {
    "collapsed": false
   },
   "outputs": [
    {
     "name": "stdout",
     "output_type": "stream",
     "text": [
      "at minimum 0.4159 accepted 1\n",
      "at minimum -0.9073 accepted 1\n",
      "at minimum -0.1021 accepted 1\n",
      "at minimum -0.1021 accepted 1\n",
      "at minimum 0.9102 accepted 1\n",
      "at minimum 0.9102 accepted 1\n",
      "at minimum 2.2945 accepted 0\n",
      "at minimum -0.1021 accepted 1\n",
      "at minimum -1.0109 accepted 1\n",
      "at minimum -1.0109 accepted 1\n"
     ]
    }
   ],
   "source": [
    "# Define a callback function\n",
    "def print_fun(x, f, accepted):\n",
    "    print(\"at minimum %.4f accepted %d\" % (f, int(accepted)))\n",
    "\n",
    "# Use the same 2d function as before, together with the callback function\n",
    "np.random.seed(1)\n",
    "ret = basinhopping(func2d, x0, minimizer_kwargs=minimizer_kwargs, niter=10, callback=print_fun)"
   ]
  },
  {
   "cell_type": "code",
   "execution_count": 37,
   "metadata": {
    "collapsed": false
   },
   "outputs": [
    {
     "name": "stdout",
     "output_type": "stream",
     "text": [
      "at minimum -0.9073 accepted 1\n",
      "at minimum -0.4317 accepted 0\n",
      "at minimum -0.9073 accepted 1\n",
      "at minimum -0.9073 accepted 1\n",
      "at minimum -0.4317 accepted 1\n",
      "at minimum -1.0109 accepted 1\n",
      "at minimum -0.7425 accepted 0\n",
      "at minimum -0.7425 accepted 1\n",
      "at minimum -0.7425 accepted 1\n",
      "at minimum -1.0109 accepted 1\n"
     ]
    }
   ],
   "source": [
    "# Implement a custom accept test. It will be used to judge if a step is acceptable or not but it's not the only criterion!\n",
    "class MyBounds(object):\n",
    "    def __init__(self, xmax=[1.1,1.1], xmin=[-1.1,-1.1] ):\n",
    "        self.xmax = np.array(xmax)\n",
    "        self.xmin = np.array(xmin)\n",
    "    def __call__(self, **kwargs):\n",
    "        x = kwargs[\"x_new\"]\n",
    "        tmax = bool(np.all(x <= self.xmax))\n",
    "        tmin = bool(np.all(x >= self.xmin))\n",
    "        return tmax and tmin\n",
    "\n",
    "# Run\n",
    "mybounds = MyBounds()\n",
    "ret = basinhopping(func2d, x0, minimizer_kwargs=minimizer_kwargs, niter=10, accept_test=mybounds, callback=print_fun)"
   ]
  }
 ],
 "metadata": {
  "anaconda-cloud": {},
  "kernelspec": {
   "display_name": "Python [conda env:my_root]",
   "language": "python",
   "name": "conda-env-my_root-py"
  },
  "language_info": {
   "codemirror_mode": {
    "name": "ipython",
    "version": 3
   },
   "file_extension": ".py",
   "mimetype": "text/x-python",
   "name": "python",
   "nbconvert_exporter": "python",
   "pygments_lexer": "ipython3",
   "version": "3.5.2"
  }
 },
 "nbformat": 4,
 "nbformat_minor": 2
}
