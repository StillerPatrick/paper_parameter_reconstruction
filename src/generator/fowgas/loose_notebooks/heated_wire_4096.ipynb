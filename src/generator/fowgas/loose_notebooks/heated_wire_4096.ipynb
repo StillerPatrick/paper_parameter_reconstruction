{
 "cells": [
  {
   "cell_type": "code",
   "execution_count": 1,
   "metadata": {
    "collapsed": false
   },
   "outputs": [],
   "source": [
    "from matplotlib.colors import LogNorm"
   ]
  },
  {
   "cell_type": "code",
   "execution_count": 2,
   "metadata": {
    "collapsed": false
   },
   "outputs": [],
   "source": [
    "# create 2d pink noise from -1.0 to 1.0 for the surface roughness\n",
    "# pink noise has a natural \"cloudy\" shape\n",
    "# make modulated lateral surface around the wire\n",
    "\n",
    "\"\"\"\n",
    "Created on Fri Jul 31 10:44:22 2015\n",
    "\n",
    "@author: Melanie Roedel\n",
    "source: java script: http://www.redblobgames.com/articles/noise/2d/\n",
    "\"\"\"\n",
    "from scipy import fftpack\n",
    "def noise2d(dim,exp,display=False,filepath=False,fmin=1,fmax=None):\n",
    "    \"\"\"\n",
    "    noise2d creates a 2d array with noise\n",
    "    args:\n",
    "        dim= dimension of array\n",
    "        exp= exponential of I over frequency I=f^exp\n",
    "                -1=pink noise\n",
    "                -2=red/brown noise\n",
    "                0=white noise\n",
    "        \n",
    "    kvargs: \n",
    "        filepath = filepath, default=False (no saving)\n",
    "        fmin==1 minimal frequency\n",
    "        fmax==None maximal frequency\n",
    "        will apply a filter in frequency domain and blur the image\n",
    "    \"\"\"    \n",
    "    \n",
    "    # create random complex numbers\n",
    "    r=np.random.rand(dim,dim)*dim**2.0\n",
    "    phi=np.random.rand(dim,dim)*2*np.pi\n",
    "    random_x=r*np.cos(phi)\n",
    "    random_y=r*np.sin(phi)\n",
    "\n",
    "    \n",
    "    # scale array that falls off with f^exp           \n",
    "    y,x = np.ogrid[0:dim, 0:dim]\n",
    "    f = np.sqrt((x-dim//2.0)**2 + (y-dim//2.0)**2)**(2*exp)\n",
    "    f[dim//2,dim//2]=0\n",
    "    # fmin and fmax create masks in f-space to blur the image\n",
    "    if fmin>1:\n",
    "        innermask=(x-dim//2.0)**2 + (y-dim//2.0)**2 >=fmin**2\n",
    "        f==f*innermask\n",
    "    if fmax!=None:\n",
    "        outermask=(x-dim//2.0)**2 + (y-dim//2.0)**2 <=fmax**2\n",
    "        f=f*outermask\n",
    "        \n",
    "    scale=fftpack.fftshift(f)\n",
    "    \n",
    "    # scale random numbers\n",
    "    real=random_x*scale\n",
    "    imag=random_y*scale\n",
    "    \n",
    "    # ifft real and imag\n",
    "    rfft=np.fft.ifft2(real+imag*1j)\n",
    "    realrfft=np.real(rfft)\n",
    "    rMin = np.amin(realrfft)\n",
    "    rMax = np.amax(realrfft)\n",
    "    \n",
    "    # normalize noise to [0,1]\n",
    "    noise = (realrfft - rMin) / (rMax - rMin)\n",
    "    \n",
    "    if display==True:\n",
    "        plt.figure(display)\n",
    "        plt.imshow(noise)\n",
    "        plt.colorbar()\n",
    "    \n",
    "    if filepath!=False:\n",
    "        print \"Saving to\",filepath+'pow'+str(exp)+'noise_'\\\n",
    "        +str(dim)+'pix'+'.tif'\n",
    "        # save noise\n",
    "        img = Image.fromarray(noise)\n",
    "        img.save(filepath+'pow'+str(exp)+'noise_'+str(dim)\\\n",
    "                 +'pix'+'.tif')\n",
    "    return noise\n"
   ]
  },
  {
   "cell_type": "code",
   "execution_count": 3,
   "metadata": {
    "collapsed": false
   },
   "outputs": [],
   "source": [
    "from scipy.special import erf\n",
    "\n",
    "def theta(x):\n",
    "    return 0.5 * (np.sign(x) + 1)\n",
    "\n",
    "import scipy\n",
    "def logn(x,N):\n",
    "    return np.log(x)/np.log(N)\n",
    "def supergaussian(x, A, mu, sigma, offset, N=8):\n",
    "    \"\"\"Supergaussian function, amplitude A, centroid mu, st dev sigma, exponent N, with constant offset\"\"\"\n",
    "    denom = np.float64(2*sigma**N)\n",
    "    return A * (1/(2**(1+1/N)*sigma*2*scipy.special.gamma(1+1/N))) *\\\n",
    "                np.exp(-numpy.absolute(numpy.power(x-mu,N))/denom) *4. *sigma + offset\n",
    "\n",
    "def inv_supergaussian(y, A, mu, sigma, offset, N=8):\n",
    "    \"\"\"Supergaussian function, amplitude A, centroid mu, st dev sigma, exponent N, with constant offset\"\"\"\n",
    "    y[y>A]=0.\n",
    "    denom = np.float64(2*sigma**N)\n",
    "    #print (y-offset)/(A * (1/(2**(1+1/N)*sigma*2*scipy.special.gamma(1+1/N))) *4. *sigma)\n",
    "    #print denom*np.log((y-offset)/(A * (1/(2**(1+1/N)*sigma*2*scipy.special.gamma(1+1/N))) *4. *sigma))\n",
    "    #print logn(-1.0*denom*np.log((y-offset)/(A * (1/(2**(1+1/N)*sigma*2*scipy.special.gamma(1+1/N))) *4. *sigma)),N)\n",
    "    return (abs(-1.0*denom*np.log((y-offset)/(A * (1/(2**(1+1/N)*sigma*2*scipy.special.gamma(1+1/N))) *4. *sigma))))**(1./N)+mu\n",
    "\n",
    "def trapezoid(x,A1,A2,x1,x2):\n",
    "    m=1.0*(A2-A1)/(x2-x1)\n",
    "    n=A1-m*x1\n",
    "    #return (-theta(x-x2)+theta(x-x1))*(m*x+n)\n",
    "    return (-theta(x-x1)+1)*A1+(-theta(x-x2)+theta(x-x1))*(m*x+n)\n",
    "\n",
    "# front sharpness:\n",
    "\n",
    "def sharp_front(x,center,length):\n",
    "    return theta(x+length/2-center)-theta(x-length/2-center)\n",
    "\n",
    "def erf_front(x,center,length,width1,width2):\n",
    "    return (erf((x-(center-length/2.))/width1)-erf((x-(center+length/2.))/width2))/2.\n",
    "\n",
    "def supergauss_front(x,center,length,sharpness=8):\n",
    "    return supergaussian(x, 1.0, center, length/2., 0., N=sharpness)\n",
    "\n",
    "def erf_filled(x,radius,width):\n",
    "    return (erf(-(x-radius)/width)+1.)/2.\n",
    "\n",
    "def supergauss_filled(x,radius,sharpness=8):\n",
    "    return supergaussian(x, 1.0, 0., radius, 0., N=sharpness)\n",
    "\n",
    "# front curvature:\n",
    "def square_curvature(y,a=5e-4,y0=None,d=None):\n",
    "    if y0==None:\n",
    "        y0=y[len(y)//2]\n",
    "    if d==None:\n",
    "        d=y[len(y)//2]\n",
    "    return -a*(y-y0)**2.0+d\n",
    "\n",
    "def supergauss_curvature(y,A=None,y0=None,sigma=None,d=None,sharpness=5.):\n",
    "    if y0==None:\n",
    "        y0=y[len(y)//2]\n",
    "    if d==None:\n",
    "        d=y[len(y)//2]\n",
    "    if A==None:\n",
    "        A=y[len(y)//4]\n",
    "    if sigma==None:\n",
    "        sigma=y[len(y)//4]\n",
    "    return supergaussian(y, A, y0, sigma, d, N=sharpness)\n",
    "\n",
    "par_sharp_filled=[]\n",
    "par_erf_filled=[10.]\n",
    "par_supergauss_filled=[10.]\n",
    "par_erf_front=[75.,10.,30.]\n",
    "par_sharp_front=[75.]"
   ]
  },
  {
   "cell_type": "code",
   "execution_count": 4,
   "metadata": {
    "collapsed": false
   },
   "outputs": [],
   "source": [
    "def cart2polar(x, y,center):\n",
    "    \"\"\"\n",
    "    converts cartesian to polar coordinates\n",
    "    input:\n",
    "        x,y: cartesian coordinated\n",
    "        center: array [x_center,y_center]\n",
    "    output:\n",
    "        r,theta: polar coordinates\n",
    "    \"\"\"\n",
    "    r = np.sqrt((x-center[0])**2 + (y-center[1])**2)\n",
    "    theta = np.arctan2((y-center[1]), (x-center[0]))\n",
    "    return r, theta"
   ]
  },
  {
   "cell_type": "code",
   "execution_count": 5,
   "metadata": {
    "collapsed": false
   },
   "outputs": [],
   "source": [
    "def blurrycircle(imdim, radius,frontparams,center=None,edge='sharp_filled'):\n",
    "    \"\"\"\n",
    "    Creates a uniform filled circle with a blurred edge\n",
    "    input:\n",
    "        args:\n",
    "        imdim: array [xdim,zdim] for the 2d output\n",
    "        meanradius: average radius of the circle\n",
    "        kvarg:\n",
    "        center=None: center of the circle, if center=None it will be set \n",
    "                        to imdim//2\n",
    "    output:\n",
    "        array with noisy uniformly filled circle and blurred edge\n",
    "    \"\"\"\n",
    "    # define center to center of image    \n",
    "    if center==None:\n",
    "        center=np.array([imdim[0]//2,imdim[1]//2])\n",
    "    # create 2D circle\n",
    "    zz,xx=np.meshgrid(np.arange(imdim[1]),np.arange(imdim[0])) \n",
    "    \n",
    "    r,phi=cart2polar(xx,zz,center)\n",
    "    if edge=='sharp_filled':\n",
    "        circ=r<radius\n",
    "        circ=circ*1.0\n",
    "    if edge=='sharp_front':\n",
    "        circ=sharp_front(r,radius,*frontparams)\n",
    "    if edge=='erf_front':\n",
    "        circ=erf_front(r,radius,*frontparams)\n",
    "    if edge=='supergauss_front':\n",
    "        circ=supergauss_front(r,radius,*frontparams)\n",
    "    if edge=='erf_filled':\n",
    "        circ=erf_filled(r,radius,*frontparams)\n",
    "    if edge=='supergauss_filled':\n",
    "        circ=supergauss_filled(r,radius,*frontparams)\n",
    "    return circ\n",
    "\n",
    "#plt.imshow(blurrycircle([512,512],512/4.,edge='sharp_front',frontparams=par_sharp_front))\n",
    "#plt.colorbar()"
   ]
  },
  {
   "cell_type": "code",
   "execution_count": 6,
   "metadata": {
    "collapsed": false
   },
   "outputs": [],
   "source": [
    "def heatedwire(xdim,ydim,zdim,sigma,\\\n",
    "                  center=None,\\\n",
    "                  display=True,status=True,save=False,savepath='./',\\\n",
    "                  curvature='supergauss',curve_param=None,edge_mode='sharp_filled',\n",
    "                  smooth_mode='full',noise=0.,noisearray=[],\n",
    "                  filename='heatedwiremodel'):\n",
    "    \"\"\"\n",
    "    Creates a bent cylinder with uniform density and a noisy edge and returns \n",
    "    its projection along a radius or the 3D array\n",
    "    input:\n",
    "        args:\n",
    "        xdim,ydim,zdim: output dimensions of the array\n",
    "        front_params:parameters for edge smoothness, for 'sharp_filled': []\n",
    "        kvarg:\n",
    "        center=None: center of the circle, if center=None it will be set \n",
    "                        to imdim//2\n",
    "        display=True: plot created projection and/or slices of the cylinder\n",
    "        status=True: print status of calculation (number of calculated slices)\n",
    "        savepath='./': path, where the prjection and/or slices will be saved\n",
    "        curvature='supergauss': function that if rotated results in the body of revolution\n",
    "        curve_param=None: Parameters that are needed for the curvature-function, \n",
    "                                if none, standard parameters are used\n",
    "                                in case of 'supergauss': [thickness,center,width,N,radius]\n",
    "        edge_mode='sharp_filled': Is the edge sharp or blurry?\n",
    "    output:\n",
    "        proj: 2D projection along a radius\n",
    "        \n",
    "    \"\"\"\n",
    "    import os\n",
    "    # create savepath\n",
    "    if not os.path.exists(savepath):\n",
    "        os.makedirs(savepath)\n",
    "        print \"Created\", savepath\n",
    "    \n",
    "    # initialize arrays for cylinder/projection\n",
    "    if center==None:\n",
    "        center=[xdim//2,zdim//2]\n",
    "    xc=center[0]\n",
    "    zc=center[1]\n",
    "    \n",
    "    proj=np.zeros((ydim,xdim))\n",
    "    \n",
    "    zz,xx=np.meshgrid(np.arange(xdim),np.arange(ydim)) \n",
    "    r,phi=cart2polar(xx,zz,[size//2,size//2])\n",
    "    phiind=np.around((phi+np.pi)/(2.*np.pi/(xdim-1)))\n",
    "    phiind=phiind.astype(int)\n",
    "    \n",
    "    \n",
    "    if curve_param==None:\n",
    "        print 'thickness,center,width,N,radius,erfwidth',[ydim/10.,ydim/2.,ydim/6.,5,ydim/3.,ydim/20.]\n",
    "        thickness,center,width,N,radius=[ydim/10.,ydim/2.,ydim/6.,5,ydim/3.,ydim/20.]\n",
    "    else:\n",
    "        thickness,center,width,N,radius,erfwidth=curve_param\n",
    "    if curvature=='supergauss':\n",
    "        r=-supergaussian(np.arange(ydim),thickness,center,width,0.,N)+radius\n",
    "        #-supergaussian(np.arange(ydim),ydim//10,ydim//2,ydim/6.,0.,5)+ydim//3\n",
    "    elif curvature=='erf':\n",
    "        r=-thickness*(erf((np.arange(ydim)-(center-width))/erfwidth)\\\n",
    "                           -erf((np.arange(ydim)-(center+width))/erfwidth))/2.+radius\n",
    "    elif curvature=='none':\n",
    "        r=np.ones(ydim)*radius\n",
    "#    if noise!=0.:\n",
    "#        r=r*(1.0+noise*noisearray)\n",
    "    \n",
    "    if smooth_mode=='full':\n",
    "        sigmalist=np.ones(ydim)*sigma\n",
    "    elif smooth_mode=='supergauss':\n",
    "        sigmalist=supergaussian(np.arange(ydim),sigma,center,width,0.,N)\n",
    "    elif smooth_mode=='erf':\n",
    "        sigmalist=sigma*(erf((np.arange(ydim)-(center-width))/erfwidth)-erf((np.arange(ydim)-(center+width))/erfwidth))/2.\n",
    "    \n",
    "    for k in range(ydim):\n",
    "        if status==True:\n",
    "            #vprint status of slice calculation\n",
    "            if k % 50==0:\n",
    "                print \"%03d\" %k,'/',ydim\n",
    "        radius2d=np.ones(zdim)*r[k]*(1.+noise*noisearray[k,:])\n",
    "        wslice=blurrycircle([xdim,zdim],radius2d[phiind],edge=edge_mode,frontparams=[sigmalist[k]], center=[xc,zc])\n",
    "        proj[k,:]=wslice.sum(axis=1)\n",
    "    proj[np.isnan(proj)]=0.    \n",
    "            \n",
    "    # project the 2D circular slice along z direction and save this\n",
    "    # 1D projection to the according y position of the projection array\n",
    "    if display==True:\n",
    "        plt.figure()\n",
    "        plt.imshow(proj)\n",
    "        plt.colorbar()\n",
    "    if save==True:\n",
    "        im_proj = Image.fromarray(proj)\n",
    "        im_proj.save(savepath+filename+'_projection_sum.tif')\n",
    "        print 'Saved image to ', str(savepath+filename+'_projection_sum.tif')\n",
    "    return proj"
   ]
  },
  {
   "cell_type": "code",
   "execution_count": 7,
   "metadata": {
    "collapsed": false
   },
   "outputs": [],
   "source": [
    "def make_target(target,pixsize,Z,rho,molarmass):\n",
    "    \"\"\"\n",
    "    make_target converts an array (image) in relative units of mass density to\n",
    "    the number of electrons per pixel\n",
    "    args: \n",
    "        target= array of target density in units of the uncompressed density \n",
    "                at room temperature (value 1.0 equals one uncompressed density)\n",
    "        pixsize= pixel size of one pixel of the given array in m\n",
    "        thickness = thickness of target over which the density is projected in m\n",
    "        Z= atomic number of target material\n",
    "        rho = mass density of target material in g/cm^3\n",
    "        molarmass = molar mass of target material in g/mol\n",
    "    return:\n",
    "        array of number density that has the same dimensions as the original array\n",
    "    \"\"\"\n",
    "    # number of electrons per cm³: avogadro constant * Z * rho / molarmass\n",
    "    # number of electrons per voxel= avogadro constant * Z * rho / molarmass*voexelvolume (in cm^3)\n",
    "    \n",
    "    N=target*6.022e23*Z*rho/molarmass*pixsize**3.0*1.0e6\n",
    "    N_tot=N.sum()\n",
    "    print \"Total number of electrons: \",'%.3e' % N_tot\n",
    "    print \"Electron number in pixel [\",len(target)//2,\",\",len(target)//2,\"]: \", '%.3e' % N[len(target)//2,len(target)//2]\n",
    "    return N"
   ]
  },
  {
   "cell_type": "code",
   "execution_count": 8,
   "metadata": {
    "collapsed": false
   },
   "outputs": [],
   "source": [
    "from scipy import fftpack\n",
    "\n",
    "def propagate(target, photonnumber, sim_pixsize, dist_det,trans,eff, wavelength,fftsampling=1):\n",
    "    \"\"\"\n",
    "    propagate propagates a given plane wave with the intensity distribution\n",
    "    illu through a target with a given distribution of electrons to a detector\n",
    "    plane in the far field by simple 2D FFT\n",
    "    args:\n",
    "        target= array with number of electrons in each pixel\n",
    "        photonnumber= total number of photons I_0\n",
    "        sim_pixsize= pixelsize of the target array in m\n",
    "        dist_det= distance target - detector plane\n",
    "        trans= transmission through the target (absorbed photons will simply \n",
    "                    be subtracted by number of incoming photons)\n",
    "        eff = efficiency of detection\n",
    "        wavelength = wavelength of x-rays in m\n",
    "    return:\n",
    "        I= detected intensity in the detector plane\n",
    "        diffr_pix = pixelsize of I in the detector plane\n",
    "        norm = factor that is multiplied with the FFT\n",
    "    \"\"\"\n",
    "    theta_min=np.arcsin(wavelength/(2.*len(target)*sim_pixsize))\n",
    "    # field of view in the detector plane = size of one pixel in the \n",
    "    #   target plane\n",
    "    # diffr_pixsize = d_det* tan(2*theta_min)\n",
    "    diffr_pixsize=dist_det*np.tan(2.0*theta_min)\n",
    "    #print \"sum of target\", target.sum()\n",
    "    print \"Pixelsize of simulated diffraction pattern\", '%.2e' % diffr_pixsize, \" m\"\n",
    "    \n",
    "    # propagate to the Fraunhofer regime by simple FFT\n",
    "    F1=fftpack.fft2(target,shape=(target.shape*np.ones(2)*fftsampling))\n",
    "    # shift intensity from the corners to the center (standard FFT procedure)\n",
    "    F2 = fftpack.fftshift( F1 )/len(target)\n",
    "    # calculate the minimal scattering 2theta_min\n",
    "    # theta_min = asin(lambda/(2*biggest feature size))\n",
    "    # (biggest feature size= size of the simulated target = number of all\n",
    "    #   pixels in the array* pixelsize -> smallest q =one pixel in diffraction\n",
    "    #   pattern)\n",
    "    \n",
    "    #print \"Maximum of the Fourier transform 2: \", '%.2e' %np.amax(abs(F2))\n",
    "    #print \"Maximum of the Fourier transform 1: \", '%.2e' %np.amax(abs(F1))\n",
    "    \n",
    "    # calculate prefactor of FFT in correct units\n",
    "    # r_0^2=classical electron radius^2=7.9408e-30m^2\n",
    "    norm= photonnumber/sim_pixsize**2.0*diffr_pixsize**2.0/dist_det**2.0*trans*eff*7.9408e-30\n",
    "    #print \"Normalization factor: \", norm\n",
    "    # intensity = |amplitude of wavefield|^2\n",
    "    I=norm*np.abs(F2)**2.0\n",
    "    \n",
    "    maskcenter=np.ones(I.shape)\n",
    "    maskcenter[len(maskcenter)//2-3:len(maskcenter)//2+3,len(maskcenter)//2-3:len(maskcenter)//2+3]=0.\n",
    "\n",
    "    print \"Number of scattered photons :\", '%.2e' %(I*maskcenter).sum()\n",
    "    print \"Percentage of scattered photons:\", '%.2f' %((I*maskcenter).sum()/photonnumber*100.) , \"percent\"\n",
    "\n",
    "    return I"
   ]
  },
  {
   "cell_type": "code",
   "execution_count": 9,
   "metadata": {
    "collapsed": false
   },
   "outputs": [
    {
     "name": "stdout",
     "output_type": "stream",
     "text": [
      "Parameters in pixel:\n",
      "Image size 4096\n",
      "Radius of full wire 512.0\n",
      "Thickness of indent in wire 102.4\n",
      "Radius of indenting optical laser 1024.0\n",
      "Sigma of error function of curvature 455.111111111\n",
      "Edge sharpness of heated area 10.24\n"
     ]
    }
   ],
   "source": [
    "#Parameters in pixel\n",
    "\n",
    "size=4096\n",
    "radius=1.*size/4./2.\n",
    "thickness=radius/5.\n",
    "center=size//2\n",
    "width=size/4.\n",
    "N=4\n",
    "erfwidth=size/9.\n",
    "\n",
    "shape=[thickness,center,width,N,radius,erfwidth]\n",
    "\n",
    "sigma_smooth=size/200./2.\n",
    "\n",
    "print \"Parameters in pixel:\"\n",
    "print \"Image size\", size\n",
    "print \"Radius of full wire\", radius\n",
    "print \"Thickness of indent in wire\", thickness\n",
    "print \"Radius of indenting optical laser\", width\n",
    "print \"Sigma of error function of curvature\", erfwidth\n",
    "print \"Edge sharpness of heated area\", sigma_smooth"
   ]
  },
  {
   "cell_type": "code",
   "execution_count": 10,
   "metadata": {
    "collapsed": false
   },
   "outputs": [
    {
     "name": "stdout",
     "output_type": "stream",
     "text": [
      "Parameters in SI units:\n",
      "Full field of view in microns: 20.0\n",
      "Radius of full wire in micron:  2.5\n",
      "Pixelsize in nm: 4.8828125\n",
      "Thickness of indent in wire in micron 0.5\n",
      "Radius of indenting optical laser in micron 5.0\n",
      "Sigma of error function of curvature in micron 2.22222222222\n",
      "Edge sharpness of heated area in nm 50.0\n",
      "Number of electrons in 1cm^3: 7.834e+23\n",
      "Volume of one voxel: 1.164e-25 m^3\n",
      "Number of electrons in one voxel if completely filled: 9.120e+04\n"
     ]
    }
   ],
   "source": [
    "#Parameters in SI units\n",
    "wire_radius_in_m=5e-6/2.\n",
    "foilpixsize=wire_radius_in_m/radius\n",
    "\n",
    "print \"Parameters in SI units:\"\n",
    "print \"Full field of view in microns:\", foilpixsize*size*1e6\n",
    "print \"Radius of full wire in micron: \" , wire_radius_in_m*1e6\n",
    "print \"Pixelsize in nm:\", foilpixsize*1e9\n",
    "print \"Thickness of indent in wire in micron\", thickness*foilpixsize*1e6\n",
    "print \"Radius of indenting optical laser in micron\", width*foilpixsize*1e6\n",
    "print \"Sigma of error function of curvature in micron\", erfwidth*foilpixsize*1e6\n",
    "print \"Edge sharpness of heated area in nm\", sigma_smooth*foilpixsize*1e9\n",
    "\n",
    "#Aluminium:\n",
    "Z=13\n",
    "rho=2.70\n",
    "M=26.9815\n",
    "\n",
    "print \"Number of electrons in 1cm^3:\",'%.3e' %(6.022e23*Z*rho/M)\n",
    "print \"Volume of one voxel:\",'%.3e' %(foilpixsize**3.), 'm^3'\n",
    "print \"Number of electrons in one voxel if completely filled:\",'%.3e' %(6.022e23*Z*rho/M*foilpixsize**3.0*1.0e6)"
   ]
  },
  {
   "cell_type": "code",
   "execution_count": 11,
   "metadata": {
    "collapsed": false
   },
   "outputs": [
    {
     "name": "stdout",
     "output_type": "stream",
     "text": [
      "Wavelength:  2.25453955283e-10\n"
     ]
    }
   ],
   "source": [
    "#Other parameters\n",
    "noise=0.02 # noiselevel (e.g. 5%)\n",
    "\n",
    "N_xray=1e12\n",
    "ddet=4.15\n",
    "#camera_pixsize=13.5e-6\n",
    "energy=5500.\n",
    "wavelength=6.626e-34*2.998e8/(energy*1.602e-19)\n",
    "print \"Wavelength: \",wavelength"
   ]
  },
  {
   "cell_type": "code",
   "execution_count": 12,
   "metadata": {
    "collapsed": false
   },
   "outputs": [
    {
     "ename": "NameError",
     "evalue": "name 'np' is not defined",
     "output_type": "error",
     "traceback": [
      "\u001b[1;31m---------------------------------------------------------------------------\u001b[0m\n\u001b[1;31mNameError\u001b[0m                                 Traceback (most recent call last)",
      "\u001b[1;32m<ipython-input-12-31afd1b32f9f>\u001b[0m in \u001b[0;36m<module>\u001b[1;34m()\u001b[0m\n\u001b[0;32m      1\u001b[0m \u001b[1;32mprint\u001b[0m \u001b[1;34m\"Size of target and diffraction pattern in pixel\"\u001b[0m\u001b[1;33m,\u001b[0m \u001b[0msize\u001b[0m\u001b[1;33m\u001b[0m\u001b[0m\n\u001b[0;32m      2\u001b[0m \u001b[1;32mprint\u001b[0m \u001b[1;34m\"Size of target in m\"\u001b[0m\u001b[1;33m,\u001b[0m \u001b[0mfoilpixsize\u001b[0m\u001b[1;33m*\u001b[0m\u001b[0msize\u001b[0m\u001b[1;33m\u001b[0m\u001b[0m\n\u001b[1;32m----> 3\u001b[1;33m \u001b[0mqpixsize\u001b[0m\u001b[1;33m=\u001b[0m\u001b[1;36m2.\u001b[0m\u001b[1;33m*\u001b[0m\u001b[0mnp\u001b[0m\u001b[1;33m.\u001b[0m\u001b[0mpi\u001b[0m\u001b[1;33m/\u001b[0m\u001b[1;33m(\u001b[0m\u001b[0mfoilpixsize\u001b[0m\u001b[1;33m*\u001b[0m\u001b[0msize\u001b[0m\u001b[1;33m)\u001b[0m\u001b[1;33m\u001b[0m\u001b[0m\n\u001b[0m\u001b[0;32m      4\u001b[0m \u001b[1;32mprint\u001b[0m \u001b[1;34m\"Pixelsize in reciprocal space in 1/m\"\u001b[0m\u001b[1;33m,\u001b[0m \u001b[0mqpixsize\u001b[0m\u001b[1;33m\u001b[0m\u001b[0m\n\u001b[0;32m      5\u001b[0m \u001b[1;31m#q=np.arange(len(trapezoid_broadlines[0]))*qpixsize\u001b[0m\u001b[1;33m\u001b[0m\u001b[1;33m\u001b[0m\u001b[0m\n",
      "\u001b[1;31mNameError\u001b[0m: name 'np' is not defined"
     ]
    },
    {
     "name": "stdout",
     "output_type": "stream",
     "text": [
      "Size of target and diffraction pattern in pixel 4096\n",
      "Size of target in m 2e-05\n"
     ]
    }
   ],
   "source": [
    "print \"Size of target and diffraction pattern in pixel\", size\n",
    "print \"Size of target in m\", foilpixsize*size\n",
    "qpixsize=2.*np.pi/(foilpixsize*size)\n",
    "print \"Pixelsize in reciprocal space in 1/m\", qpixsize\n",
    "#q=np.arange(len(trapezoid_broadlines[0]))*qpixsize"
   ]
  },
  {
   "cell_type": "code",
   "execution_count": 13,
   "metadata": {
    "collapsed": false
   },
   "outputs": [
    {
     "ename": "NameError",
     "evalue": "name 'np' is not defined",
     "output_type": "error",
     "traceback": [
      "\u001b[1;31m---------------------------------------------------------------------------\u001b[0m\n\u001b[1;31mNameError\u001b[0m                                 Traceback (most recent call last)",
      "\u001b[1;32m<ipython-input-13-04627991b1e5>\u001b[0m in \u001b[0;36m<module>\u001b[1;34m()\u001b[0m\n\u001b[1;32m----> 1\u001b[1;33m \u001b[1;32mprint\u001b[0m \u001b[1;36m2.\u001b[0m\u001b[1;33m*\u001b[0m\u001b[0mnp\u001b[0m\u001b[1;33m.\u001b[0m\u001b[0mpi\u001b[0m\u001b[1;33m/\u001b[0m\u001b[1;33m(\u001b[0m\u001b[0mfoilpixsize\u001b[0m\u001b[1;33m*\u001b[0m\u001b[1;36m590.\u001b[0m\u001b[1;33m)\u001b[0m\u001b[1;33m\u001b[0m\u001b[0m\n\u001b[0m",
      "\u001b[1;31mNameError\u001b[0m: name 'np' is not defined"
     ]
    }
   ],
   "source": [
    "print 2.*np.pi/(foilpixsize*590.)"
   ]
  },
  {
   "cell_type": "code",
   "execution_count": 14,
   "metadata": {
    "collapsed": false
   },
   "outputs": [
    {
     "ename": "NameError",
     "evalue": "global name 'np' is not defined",
     "output_type": "error",
     "traceback": [
      "\u001b[1;31m---------------------------------------------------------------------------\u001b[0m\n\u001b[1;31mNameError\u001b[0m                                 Traceback (most recent call last)",
      "\u001b[1;32m<ipython-input-14-80bbf4f9764c>\u001b[0m in \u001b[0;36m<module>\u001b[1;34m()\u001b[0m\n\u001b[0;32m      2\u001b[0m \u001b[1;33m\u001b[0m\u001b[0m\n\u001b[0;32m      3\u001b[0m \u001b[1;32mprint\u001b[0m \u001b[1;34m\"Generating 2d pink noise\"\u001b[0m\u001b[1;33m\u001b[0m\u001b[0m\n\u001b[1;32m----> 4\u001b[1;33m \u001b[0mnoise1\u001b[0m\u001b[1;33m=\u001b[0m\u001b[0mnoise2d\u001b[0m\u001b[1;33m(\u001b[0m\u001b[0msize\u001b[0m\u001b[1;33m,\u001b[0m\u001b[1;33m-\u001b[0m\u001b[1;36m1.\u001b[0m\u001b[1;33m,\u001b[0m\u001b[0mdisplay\u001b[0m\u001b[1;33m=\u001b[0m\u001b[0mFalse\u001b[0m\u001b[1;33m)\u001b[0m\u001b[1;33m*\u001b[0m\u001b[1;36m2.0\u001b[0m\u001b[1;33m-\u001b[0m\u001b[1;36m1.0\u001b[0m\u001b[1;33m\u001b[0m\u001b[0m\n\u001b[0m\u001b[0;32m      5\u001b[0m \u001b[0mrand\u001b[0m \u001b[1;33m=\u001b[0m \u001b[0mint\u001b[0m\u001b[1;33m(\u001b[0m\u001b[0mos\u001b[0m\u001b[1;33m.\u001b[0m\u001b[0murandom\u001b[0m\u001b[1;33m(\u001b[0m\u001b[1;36m4\u001b[0m\u001b[1;33m)\u001b[0m\u001b[1;33m.\u001b[0m\u001b[0mencode\u001b[0m\u001b[1;33m(\u001b[0m\u001b[1;34m'hex'\u001b[0m\u001b[1;33m)\u001b[0m\u001b[1;33m,\u001b[0m \u001b[1;36m16\u001b[0m\u001b[1;33m)\u001b[0m\u001b[1;33m\u001b[0m\u001b[0m\n\u001b[0;32m      6\u001b[0m \u001b[0mnp\u001b[0m\u001b[1;33m.\u001b[0m\u001b[0mrandom\u001b[0m\u001b[1;33m.\u001b[0m\u001b[0mseed\u001b[0m\u001b[1;33m(\u001b[0m\u001b[0mrand\u001b[0m\u001b[1;33m)\u001b[0m\u001b[1;33m\u001b[0m\u001b[0m\n",
      "\u001b[1;32m<ipython-input-2-35c14bc918ec>\u001b[0m in \u001b[0;36mnoise2d\u001b[1;34m(dim, exp, display, filepath, fmin, fmax)\u001b[0m\n\u001b[0;32m     28\u001b[0m \u001b[1;33m\u001b[0m\u001b[0m\n\u001b[0;32m     29\u001b[0m     \u001b[1;31m# create random complex numbers\u001b[0m\u001b[1;33m\u001b[0m\u001b[1;33m\u001b[0m\u001b[0m\n\u001b[1;32m---> 30\u001b[1;33m     \u001b[0mr\u001b[0m\u001b[1;33m=\u001b[0m\u001b[0mnp\u001b[0m\u001b[1;33m.\u001b[0m\u001b[0mrandom\u001b[0m\u001b[1;33m.\u001b[0m\u001b[0mrand\u001b[0m\u001b[1;33m(\u001b[0m\u001b[0mdim\u001b[0m\u001b[1;33m,\u001b[0m\u001b[0mdim\u001b[0m\u001b[1;33m)\u001b[0m\u001b[1;33m*\u001b[0m\u001b[0mdim\u001b[0m\u001b[1;33m**\u001b[0m\u001b[1;36m2.0\u001b[0m\u001b[1;33m\u001b[0m\u001b[0m\n\u001b[0m\u001b[0;32m     31\u001b[0m     \u001b[0mphi\u001b[0m\u001b[1;33m=\u001b[0m\u001b[0mnp\u001b[0m\u001b[1;33m.\u001b[0m\u001b[0mrandom\u001b[0m\u001b[1;33m.\u001b[0m\u001b[0mrand\u001b[0m\u001b[1;33m(\u001b[0m\u001b[0mdim\u001b[0m\u001b[1;33m,\u001b[0m\u001b[0mdim\u001b[0m\u001b[1;33m)\u001b[0m\u001b[1;33m*\u001b[0m\u001b[1;36m2\u001b[0m\u001b[1;33m*\u001b[0m\u001b[0mnp\u001b[0m\u001b[1;33m.\u001b[0m\u001b[0mpi\u001b[0m\u001b[1;33m\u001b[0m\u001b[0m\n\u001b[0;32m     32\u001b[0m     \u001b[0mrandom_x\u001b[0m\u001b[1;33m=\u001b[0m\u001b[0mr\u001b[0m\u001b[1;33m*\u001b[0m\u001b[0mnp\u001b[0m\u001b[1;33m.\u001b[0m\u001b[0mcos\u001b[0m\u001b[1;33m(\u001b[0m\u001b[0mphi\u001b[0m\u001b[1;33m)\u001b[0m\u001b[1;33m\u001b[0m\u001b[0m\n",
      "\u001b[1;31mNameError\u001b[0m: global name 'np' is not defined"
     ]
    },
    {
     "name": "stdout",
     "output_type": "stream",
     "text": [
      "Generating 2d pink noise\n"
     ]
    }
   ],
   "source": [
    "import os\n",
    "\n",
    "print \"Generating 2d pink noise\"\n",
    "noise1=noise2d(size,-1.,display=False)*2.0-1.0\n",
    "rand = int(os.urandom(4).encode('hex'), 16)\n",
    "np.random.seed(rand)\n",
    "noise07=noise2d(size,-0.7,display=False)*2.0-1.0\n",
    "rand = int(os.urandom(2).encode('hex'), 16)\n",
    "np.random.seed(rand)\n",
    "noise08=noise2d(size,-0.8,display=False)*2.0-1.0\n",
    "\n",
    "noisearr2d=noise1+noise07+noise08 # exp=-1 for pink noise\n",
    "\n",
    "noise1d=noisearr2d[:,size//2]\n",
    "print \"Mean of pink noise: \", np.mean(noisearr2d),\"+/-\",np.std(noisearr2d)\n"
   ]
  },
  {
   "cell_type": "code",
   "execution_count": 15,
   "metadata": {
    "collapsed": false
   },
   "outputs": [
    {
     "ename": "NameError",
     "evalue": "name 'plt' is not defined",
     "output_type": "error",
     "traceback": [
      "\u001b[1;31m---------------------------------------------------------------------------\u001b[0m\n\u001b[1;31mNameError\u001b[0m                                 Traceback (most recent call last)",
      "\u001b[1;32m<ipython-input-15-a9dc0555907c>\u001b[0m in \u001b[0;36m<module>\u001b[1;34m()\u001b[0m\n\u001b[1;32m----> 1\u001b[1;33m \u001b[0mplt\u001b[0m\u001b[1;33m.\u001b[0m\u001b[0mfigure\u001b[0m\u001b[1;33m(\u001b[0m\u001b[1;33m)\u001b[0m\u001b[1;33m\u001b[0m\u001b[0m\n\u001b[0m\u001b[0;32m      2\u001b[0m \u001b[0mplt\u001b[0m\u001b[1;33m.\u001b[0m\u001b[0mplot\u001b[0m\u001b[1;33m(\u001b[0m\u001b[0mnoise1d\u001b[0m\u001b[1;33m)\u001b[0m\u001b[1;33m\u001b[0m\u001b[0m\n\u001b[0;32m      3\u001b[0m \u001b[0mplt\u001b[0m\u001b[1;33m.\u001b[0m\u001b[0mfigure\u001b[0m\u001b[1;33m(\u001b[0m\u001b[1;33m)\u001b[0m\u001b[1;33m\u001b[0m\u001b[0m\n\u001b[0;32m      4\u001b[0m \u001b[0mplt\u001b[0m\u001b[1;33m.\u001b[0m\u001b[0mimshow\u001b[0m\u001b[1;33m(\u001b[0m\u001b[0mnoisearr2d\u001b[0m\u001b[1;33m)\u001b[0m\u001b[1;33m\u001b[0m\u001b[0m\n\u001b[0;32m      5\u001b[0m \u001b[0mplt\u001b[0m\u001b[1;33m.\u001b[0m\u001b[0mcolorbar\u001b[0m\u001b[1;33m(\u001b[0m\u001b[1;33m)\u001b[0m\u001b[1;33m\u001b[0m\u001b[0m\n",
      "\u001b[1;31mNameError\u001b[0m: name 'plt' is not defined"
     ]
    }
   ],
   "source": [
    "plt.figure()\n",
    "plt.plot(noise1d)\n",
    "plt.figure()\n",
    "plt.imshow(noisearr2d)\n",
    "plt.colorbar()\n",
    "im_targ = Image.fromarray(noisearr2d)\n",
    "#im_targ.save('./heatedwire/noise_test3.tif')"
   ]
  },
  {
   "cell_type": "code",
   "execution_count": 16,
   "metadata": {
    "collapsed": false
   },
   "outputs": [
    {
     "ename": "NameError",
     "evalue": "name 'np' is not defined",
     "output_type": "error",
     "traceback": [
      "\u001b[1;31m---------------------------------------------------------------------------\u001b[0m\n\u001b[1;31mNameError\u001b[0m                                 Traceback (most recent call last)",
      "\u001b[1;32m<ipython-input-16-787122c8bc73>\u001b[0m in \u001b[0;36m<module>\u001b[1;34m()\u001b[0m\n\u001b[0;32m      3\u001b[0m \u001b[1;33m\u001b[0m\u001b[0m\n\u001b[0;32m      4\u001b[0m \u001b[1;33m\u001b[0m\u001b[0m\n\u001b[1;32m----> 5\u001b[1;33m \u001b[0msgauss\u001b[0m\u001b[1;33m=\u001b[0m\u001b[1;33m-\u001b[0m\u001b[0msupergaussian\u001b[0m\u001b[1;33m(\u001b[0m\u001b[0mnp\u001b[0m\u001b[1;33m.\u001b[0m\u001b[0marange\u001b[0m\u001b[1;33m(\u001b[0m\u001b[0msize\u001b[0m\u001b[1;33m)\u001b[0m\u001b[1;33m,\u001b[0m\u001b[0mthickness\u001b[0m\u001b[1;33m,\u001b[0m\u001b[0mcenter\u001b[0m\u001b[1;33m,\u001b[0m\u001b[0mwidth\u001b[0m\u001b[1;33m,\u001b[0m\u001b[1;36m0.\u001b[0m\u001b[1;33m,\u001b[0m\u001b[0mN\u001b[0m\u001b[1;33m)\u001b[0m\u001b[1;33m+\u001b[0m\u001b[0mradius\u001b[0m\u001b[1;33m\u001b[0m\u001b[0m\n\u001b[0m\u001b[0;32m      6\u001b[0m \u001b[0merrorf\u001b[0m\u001b[1;33m=\u001b[0m\u001b[1;33m-\u001b[0m\u001b[0mthickness\u001b[0m\u001b[1;33m*\u001b[0m\u001b[1;33m(\u001b[0m\u001b[0merf\u001b[0m\u001b[1;33m(\u001b[0m\u001b[1;33m(\u001b[0m\u001b[0mnp\u001b[0m\u001b[1;33m.\u001b[0m\u001b[0marange\u001b[0m\u001b[1;33m(\u001b[0m\u001b[0msize\u001b[0m\u001b[1;33m)\u001b[0m\u001b[1;33m-\u001b[0m\u001b[1;33m(\u001b[0m\u001b[0mcenter\u001b[0m\u001b[1;33m-\u001b[0m\u001b[0mwidth\u001b[0m\u001b[1;33m)\u001b[0m\u001b[1;33m)\u001b[0m\u001b[1;33m/\u001b[0m\u001b[0merfwidth\u001b[0m\u001b[1;33m)\u001b[0m\u001b[1;33m-\u001b[0m\u001b[0merf\u001b[0m\u001b[1;33m(\u001b[0m\u001b[1;33m(\u001b[0m\u001b[0mnp\u001b[0m\u001b[1;33m.\u001b[0m\u001b[0marange\u001b[0m\u001b[1;33m(\u001b[0m\u001b[0msize\u001b[0m\u001b[1;33m)\u001b[0m\u001b[1;33m-\u001b[0m\u001b[1;33m(\u001b[0m\u001b[0mcenter\u001b[0m\u001b[1;33m+\u001b[0m\u001b[0mwidth\u001b[0m\u001b[1;33m)\u001b[0m\u001b[1;33m)\u001b[0m\u001b[1;33m/\u001b[0m\u001b[0merfwidth\u001b[0m\u001b[1;33m)\u001b[0m\u001b[1;33m)\u001b[0m\u001b[1;33m/\u001b[0m\u001b[1;36m2.\u001b[0m\u001b[1;33m+\u001b[0m\u001b[0mradius\u001b[0m\u001b[1;33m\u001b[0m\u001b[0m\n\u001b[0;32m      7\u001b[0m \u001b[0mplt\u001b[0m\u001b[1;33m.\u001b[0m\u001b[0mplot\u001b[0m\u001b[1;33m(\u001b[0m\u001b[0mnp\u001b[0m\u001b[1;33m.\u001b[0m\u001b[0marange\u001b[0m\u001b[1;33m(\u001b[0m\u001b[0msize\u001b[0m\u001b[1;33m)\u001b[0m\u001b[1;33m,\u001b[0m\u001b[0msgauss\u001b[0m\u001b[1;33m,\u001b[0m\u001b[0mlabel\u001b[0m\u001b[1;33m=\u001b[0m\u001b[1;34m'supergauss curvature'\u001b[0m\u001b[1;33m)\u001b[0m\u001b[1;33m\u001b[0m\u001b[0m\n",
      "\u001b[1;31mNameError\u001b[0m: name 'np' is not defined"
     ]
    }
   ],
   "source": [
    "#test shape:\n",
    "\n",
    "\n",
    "\n",
    "sgauss=-supergaussian(np.arange(size),thickness,center,width,0.,N)+radius\n",
    "errorf=-thickness*(erf((np.arange(size)-(center-width))/erfwidth)-erf((np.arange(size)-(center+width))/erfwidth))/2.+radius\n",
    "plt.plot(np.arange(size),sgauss,label='supergauss curvature')\n",
    "plt.plot(np.arange(size),errorf,label='error function curvature')\n",
    "plt.plot(np.arange(size),errorf*(1.+noise*noise1d),label='error function curvature with noise')\n",
    "plt.ylim([0,size//2])\n",
    "plt.ylabel('radius')\n",
    "plt.legend()"
   ]
  },
  {
   "cell_type": "code",
   "execution_count": 17,
   "metadata": {
    "collapsed": false
   },
   "outputs": [
    {
     "ename": "NameError",
     "evalue": "name 'plt' is not defined",
     "output_type": "error",
     "traceback": [
      "\u001b[1;31m---------------------------------------------------------------------------\u001b[0m\n\u001b[1;31mNameError\u001b[0m                                 Traceback (most recent call last)",
      "\u001b[1;32m<ipython-input-17-86721ebcddf1>\u001b[0m in \u001b[0;36m<module>\u001b[1;34m()\u001b[0m\n\u001b[0;32m      1\u001b[0m \u001b[1;31m#test smoothness sigma:\u001b[0m\u001b[1;33m\u001b[0m\u001b[1;33m\u001b[0m\u001b[0m\n\u001b[1;32m----> 2\u001b[1;33m \u001b[0mplt\u001b[0m\u001b[1;33m.\u001b[0m\u001b[0mplot\u001b[0m\u001b[1;33m(\u001b[0m\u001b[0mnp\u001b[0m\u001b[1;33m.\u001b[0m\u001b[0marange\u001b[0m\u001b[1;33m(\u001b[0m\u001b[0msize\u001b[0m\u001b[1;33m)\u001b[0m\u001b[1;33m,\u001b[0m\u001b[0msupergaussian\u001b[0m\u001b[1;33m(\u001b[0m\u001b[0mnp\u001b[0m\u001b[1;33m.\u001b[0m\u001b[0marange\u001b[0m\u001b[1;33m(\u001b[0m\u001b[0msize\u001b[0m\u001b[1;33m)\u001b[0m\u001b[1;33m,\u001b[0m\u001b[0msigma_smooth\u001b[0m\u001b[1;33m,\u001b[0m\u001b[0mcenter\u001b[0m\u001b[1;33m,\u001b[0m\u001b[0mwidth\u001b[0m\u001b[1;33m,\u001b[0m\u001b[1;36m0.\u001b[0m\u001b[1;33m,\u001b[0m\u001b[0mN\u001b[0m\u001b[1;33m)\u001b[0m\u001b[1;33m)\u001b[0m\u001b[1;33m\u001b[0m\u001b[0m\n\u001b[0m\u001b[0;32m      3\u001b[0m \u001b[0mplt\u001b[0m\u001b[1;33m.\u001b[0m\u001b[0mplot\u001b[0m\u001b[1;33m(\u001b[0m\u001b[0mnp\u001b[0m\u001b[1;33m.\u001b[0m\u001b[0marange\u001b[0m\u001b[1;33m(\u001b[0m\u001b[0msize\u001b[0m\u001b[1;33m)\u001b[0m\u001b[1;33m,\u001b[0m\u001b[0msigma_smooth\u001b[0m\u001b[1;33m*\u001b[0m\u001b[1;33m(\u001b[0m\u001b[0merf\u001b[0m\u001b[1;33m(\u001b[0m\u001b[1;33m(\u001b[0m\u001b[0mnp\u001b[0m\u001b[1;33m.\u001b[0m\u001b[0marange\u001b[0m\u001b[1;33m(\u001b[0m\u001b[0msize\u001b[0m\u001b[1;33m)\u001b[0m\u001b[1;33m-\u001b[0m\u001b[1;33m(\u001b[0m\u001b[0mcenter\u001b[0m\u001b[1;33m-\u001b[0m\u001b[0mwidth\u001b[0m\u001b[1;33m)\u001b[0m\u001b[1;33m)\u001b[0m\u001b[1;33m/\u001b[0m\u001b[0merfwidth\u001b[0m\u001b[1;33m)\u001b[0m\u001b[1;33m-\u001b[0m\u001b[0merf\u001b[0m\u001b[1;33m(\u001b[0m\u001b[1;33m(\u001b[0m\u001b[0mnp\u001b[0m\u001b[1;33m.\u001b[0m\u001b[0marange\u001b[0m\u001b[1;33m(\u001b[0m\u001b[0msize\u001b[0m\u001b[1;33m)\u001b[0m\u001b[1;33m-\u001b[0m\u001b[1;33m(\u001b[0m\u001b[0mcenter\u001b[0m\u001b[1;33m+\u001b[0m\u001b[0mwidth\u001b[0m\u001b[1;33m)\u001b[0m\u001b[1;33m)\u001b[0m\u001b[1;33m/\u001b[0m\u001b[0merfwidth\u001b[0m\u001b[1;33m)\u001b[0m\u001b[1;33m)\u001b[0m\u001b[1;33m/\u001b[0m\u001b[1;36m2.\u001b[0m\u001b[1;33m)\u001b[0m\u001b[1;33m\u001b[0m\u001b[0m\n",
      "\u001b[1;31mNameError\u001b[0m: name 'plt' is not defined"
     ]
    }
   ],
   "source": [
    "#test smoothness sigma:\n",
    "plt.plot(np.arange(size),supergaussian(np.arange(size),sigma_smooth,center,width,0.,N))\n",
    "plt.plot(np.arange(size),sigma_smooth*(erf((np.arange(size)-(center-width))/erfwidth)-erf((np.arange(size)-(center+width))/erfwidth))/2.)"
   ]
  },
  {
   "cell_type": "code",
   "execution_count": 18,
   "metadata": {
    "collapsed": false
   },
   "outputs": [
    {
     "name": "stdout",
     "output_type": "stream",
     "text": [
      "4.8828125e-09\n"
     ]
    }
   ],
   "source": [
    "print foilpixsize"
   ]
  },
  {
   "cell_type": "code",
   "execution_count": 19,
   "metadata": {
    "collapsed": false
   },
   "outputs": [
    {
     "ename": "NameError",
     "evalue": "name 'np' is not defined",
     "output_type": "error",
     "traceback": [
      "\u001b[1;31m---------------------------------------------------------------------------\u001b[0m\n\u001b[1;31mNameError\u001b[0m                                 Traceback (most recent call last)",
      "\u001b[1;32m<ipython-input-19-54d93b52aba8>\u001b[0m in \u001b[0;36m<module>\u001b[1;34m()\u001b[0m\n\u001b[0;32m      1\u001b[0m \u001b[1;31m#2D array as a simple example\u001b[0m\u001b[1;33m\u001b[0m\u001b[1;33m\u001b[0m\u001b[0m\n\u001b[0;32m      2\u001b[0m \u001b[1;31m#errorf=-thickness*(erf((np.arange(size)-(center-width))/erfwidth)-erf((np.arange(size)-(center+width))/erfwidth))/2.+radius\u001b[0m\u001b[1;33m\u001b[0m\u001b[1;33m\u001b[0m\u001b[0m\n\u001b[1;32m----> 3\u001b[1;33m \u001b[0mxx\u001b[0m\u001b[1;33m,\u001b[0m\u001b[0myy\u001b[0m\u001b[1;33m=\u001b[0m\u001b[0mnp\u001b[0m\u001b[1;33m.\u001b[0m\u001b[0mmeshgrid\u001b[0m\u001b[1;33m(\u001b[0m\u001b[0mnp\u001b[0m\u001b[1;33m.\u001b[0m\u001b[0marange\u001b[0m\u001b[1;33m(\u001b[0m\u001b[0msize\u001b[0m\u001b[1;33m)\u001b[0m\u001b[1;33m,\u001b[0m\u001b[0mnp\u001b[0m\u001b[1;33m.\u001b[0m\u001b[0marange\u001b[0m\u001b[1;33m(\u001b[0m\u001b[0msize\u001b[0m\u001b[1;33m)\u001b[0m\u001b[1;33m)\u001b[0m\u001b[1;33m\u001b[0m\u001b[0m\n\u001b[0m\u001b[0;32m      4\u001b[0m \u001b[0mproj2d_erf\u001b[0m\u001b[1;33m=\u001b[0m\u001b[1;33m(\u001b[0m\u001b[0myy\u001b[0m\u001b[1;33m>\u001b[0m\u001b[1;33m(\u001b[0m\u001b[1;33m-\u001b[0m\u001b[0merrorf\u001b[0m\u001b[1;33m*\u001b[0m\u001b[1;33m(\u001b[0m\u001b[1;36m1.\u001b[0m\u001b[1;33m)\u001b[0m\u001b[1;33m+\u001b[0m\u001b[0mcenter\u001b[0m\u001b[1;33m)\u001b[0m\u001b[1;33m)\u001b[0m\u001b[1;33m\u001b[0m\u001b[0m\n\u001b[0;32m      5\u001b[0m \u001b[0mproj2d_erf\u001b[0m\u001b[1;33m=\u001b[0m\u001b[0mproj2d_erf\u001b[0m\u001b[1;33m*\u001b[0m                \u001b[1;33m(\u001b[0m\u001b[0myy\u001b[0m\u001b[1;33m<\u001b[0m\u001b[1;33m(\u001b[0m\u001b[0merrorf\u001b[0m\u001b[1;33m*\u001b[0m\u001b[1;33m(\u001b[0m\u001b[1;36m1.\u001b[0m\u001b[1;33m)\u001b[0m\u001b[1;33m+\u001b[0m\u001b[0mcenter\u001b[0m\u001b[1;33m)\u001b[0m\u001b[1;33m)\u001b[0m\u001b[1;33m\u001b[0m\u001b[0m\n",
      "\u001b[1;31mNameError\u001b[0m: name 'np' is not defined"
     ]
    }
   ],
   "source": [
    "#2D array as a simple example\n",
    "#errorf=-thickness*(erf((np.arange(size)-(center-width))/erfwidth)-erf((np.arange(size)-(center+width))/erfwidth))/2.+radius\n",
    "xx,yy=np.meshgrid(np.arange(size),np.arange(size))\n",
    "proj2d_erf=(yy>(-errorf*(1.)+center))\n",
    "proj2d_erf=proj2d_erf*\\\n",
    "                (yy<(errorf*(1.)+center))\n",
    "proj2d_erf=np.rot90(proj2d_erf)*1.0*radius\n",
    "target2d_erf=make_target(proj2d_erf,foilpixsize,Z,rho,M)\n",
    "\n",
    "diffr2d_erf=propagate(target2d_erf, N_xray, foilpixsize, dist_det=ddet,trans=1.0,eff=1.0,wavelength=wavelength)\n",
    "plt.figure()\n",
    "plt.imshow(target2d_erf)\n",
    "plt.colorbar()\n",
    "plt.figure()\n",
    "plt.imshow(diffr2d_erf, norm=LogNorm(vmin=1, vmax=1e12))\n",
    "plt.colorbar()\n",
    "im_targ = Image.fromarray(proj2d_erf)\n",
    "im_targ.save('./heatedwire/'+str(size)+'/flat_target_no_noise.tif')\n",
    "im_targ = Image.fromarray(diffr2d_erf)\n",
    "im_targ.save('./heatedwire/'+str(size)+'/flat_diffr_no_noise.tif')"
   ]
  },
  {
   "cell_type": "code",
   "execution_count": 20,
   "metadata": {
    "collapsed": false
   },
   "outputs": [
    {
     "ename": "NameError",
     "evalue": "name 'np' is not defined",
     "output_type": "error",
     "traceback": [
      "\u001b[1;31m---------------------------------------------------------------------------\u001b[0m\n\u001b[1;31mNameError\u001b[0m                                 Traceback (most recent call last)",
      "\u001b[1;32m<ipython-input-20-c81622d1672b>\u001b[0m in \u001b[0;36m<module>\u001b[1;34m()\u001b[0m\n\u001b[0;32m      1\u001b[0m \u001b[1;31m#2D array as a simple example\u001b[0m\u001b[1;33m\u001b[0m\u001b[1;33m\u001b[0m\u001b[0m\n\u001b[0;32m      2\u001b[0m \u001b[1;31m#errorf=-thickness*(erf((np.arange(size)-(center-width))/erfwidth)-erf((np.arange(size)-(center+width))/erfwidth))/2.+radius\u001b[0m\u001b[1;33m\u001b[0m\u001b[1;33m\u001b[0m\u001b[0m\n\u001b[1;32m----> 3\u001b[1;33m \u001b[0mxx\u001b[0m\u001b[1;33m,\u001b[0m\u001b[0myy\u001b[0m\u001b[1;33m=\u001b[0m\u001b[0mnp\u001b[0m\u001b[1;33m.\u001b[0m\u001b[0mmeshgrid\u001b[0m\u001b[1;33m(\u001b[0m\u001b[0mnp\u001b[0m\u001b[1;33m.\u001b[0m\u001b[0marange\u001b[0m\u001b[1;33m(\u001b[0m\u001b[0msize\u001b[0m\u001b[1;33m)\u001b[0m\u001b[1;33m,\u001b[0m\u001b[0mnp\u001b[0m\u001b[1;33m.\u001b[0m\u001b[0marange\u001b[0m\u001b[1;33m(\u001b[0m\u001b[0msize\u001b[0m\u001b[1;33m)\u001b[0m\u001b[1;33m)\u001b[0m\u001b[1;33m\u001b[0m\u001b[0m\n\u001b[0m\u001b[0;32m      4\u001b[0m \u001b[0mproj2d_erf\u001b[0m\u001b[1;33m=\u001b[0m\u001b[1;33m(\u001b[0m\u001b[0myy\u001b[0m\u001b[1;33m>\u001b[0m\u001b[1;33m(\u001b[0m\u001b[1;33m-\u001b[0m\u001b[0merrorf\u001b[0m\u001b[1;33m*\u001b[0m\u001b[1;33m(\u001b[0m\u001b[1;36m1.\u001b[0m\u001b[1;33m+\u001b[0m\u001b[0mnoise\u001b[0m\u001b[1;33m*\u001b[0m\u001b[0mnoise1d\u001b[0m\u001b[1;33m)\u001b[0m\u001b[1;33m+\u001b[0m\u001b[0mcenter\u001b[0m\u001b[1;33m)\u001b[0m\u001b[1;33m)\u001b[0m\u001b[1;33m\u001b[0m\u001b[0m\n\u001b[0;32m      5\u001b[0m \u001b[0mproj2d_erf\u001b[0m\u001b[1;33m=\u001b[0m\u001b[0mproj2d_erf\u001b[0m\u001b[1;33m*\u001b[0m                \u001b[1;33m(\u001b[0m\u001b[0myy\u001b[0m\u001b[1;33m<\u001b[0m\u001b[1;33m(\u001b[0m\u001b[0merrorf\u001b[0m\u001b[1;33m*\u001b[0m\u001b[1;33m(\u001b[0m\u001b[1;36m1.\u001b[0m\u001b[1;33m+\u001b[0m\u001b[0mnoise\u001b[0m\u001b[1;33m*\u001b[0m\u001b[0mnoise1d\u001b[0m\u001b[1;33m)\u001b[0m\u001b[1;33m+\u001b[0m\u001b[0mcenter\u001b[0m\u001b[1;33m)\u001b[0m\u001b[1;33m)\u001b[0m\u001b[1;33m\u001b[0m\u001b[0m\n",
      "\u001b[1;31mNameError\u001b[0m: name 'np' is not defined"
     ]
    }
   ],
   "source": [
    "#2D array as a simple example\n",
    "#errorf=-thickness*(erf((np.arange(size)-(center-width))/erfwidth)-erf((np.arange(size)-(center+width))/erfwidth))/2.+radius\n",
    "xx,yy=np.meshgrid(np.arange(size),np.arange(size))\n",
    "proj2d_erf=(yy>(-errorf*(1.+noise*noise1d)+center))\n",
    "proj2d_erf=proj2d_erf*\\\n",
    "                (yy<(errorf*(1.+noise*noise1d)+center))\n",
    "proj2d_erf=np.rot90(proj2d_erf)*1.0*radius\n",
    "target2d_erf=make_target(proj2d_erf,foilpixsize,Z,rho,M)\n",
    "\n",
    "diffr2d_erf=propagate(target2d_erf, N_xray, foilpixsize, dist_det=ddet,trans=1.0,eff=1.0,wavelength=wavelength)\n",
    "plt.figure()\n",
    "plt.imshow(target2d_erf)\n",
    "plt.colorbar()\n",
    "plt.figure()\n",
    "plt.imshow(diffr2d_erf, norm=LogNorm(vmin=1, vmax=1e12))\n",
    "plt.colorbar()\n",
    "im_targ = Image.fromarray(proj2d_erf)\n",
    "im_targ.save('./heatedwire/'+str(size)+'/flat_target.tif')\n",
    "im_targ = Image.fromarray(diffr2d_erf)\n",
    "im_targ.save('./heatedwire/'+str(size)+'/flat_diffr.tif')"
   ]
  },
  {
   "cell_type": "code",
   "execution_count": 21,
   "metadata": {
    "collapsed": false
   },
   "outputs": [
    {
     "ename": "NameError",
     "evalue": "name 'noisearr2d' is not defined",
     "output_type": "error",
     "traceback": [
      "\u001b[1;31m---------------------------------------------------------------------------\u001b[0m\n\u001b[1;31mNameError\u001b[0m                                 Traceback (most recent call last)",
      "\u001b[1;32m<ipython-input-21-dd78b224207b>\u001b[0m in \u001b[0;36m<module>\u001b[1;34m()\u001b[0m\n\u001b[1;32m----> 1\u001b[1;33m \u001b[0mtest\u001b[0m\u001b[1;33m=\u001b[0m\u001b[0mheatedwire\u001b[0m\u001b[1;33m(\u001b[0m\u001b[0msize\u001b[0m\u001b[1;33m,\u001b[0m\u001b[0msize\u001b[0m\u001b[1;33m,\u001b[0m\u001b[0msize\u001b[0m\u001b[1;33m,\u001b[0m\u001b[0msigma_smooth\u001b[0m\u001b[1;33m,\u001b[0m                  \u001b[0mcenter\u001b[0m\u001b[1;33m=\u001b[0m\u001b[0mNone\u001b[0m\u001b[1;33m,\u001b[0m                  \u001b[0mdisplay\u001b[0m\u001b[1;33m=\u001b[0m\u001b[0mFalse\u001b[0m\u001b[1;33m,\u001b[0m\u001b[0mstatus\u001b[0m\u001b[1;33m=\u001b[0m\u001b[0mTrue\u001b[0m\u001b[1;33m,\u001b[0m                  \u001b[0mcurvature\u001b[0m\u001b[1;33m=\u001b[0m\u001b[1;34m'none'\u001b[0m\u001b[1;33m,\u001b[0m\u001b[0mcurve_param\u001b[0m\u001b[1;33m=\u001b[0m\u001b[0mshape\u001b[0m\u001b[1;33m,\u001b[0m\u001b[0medge_mode\u001b[0m\u001b[1;33m=\u001b[0m\u001b[1;34m'sharp_filled'\u001b[0m\u001b[1;33m,\u001b[0m\u001b[0msmooth_mode\u001b[0m\u001b[1;33m=\u001b[0m\u001b[1;34m'full'\u001b[0m\u001b[1;33m,\u001b[0m\u001b[0mnoise\u001b[0m\u001b[1;33m=\u001b[0m\u001b[0mnoise\u001b[0m\u001b[1;33m,\u001b[0m\u001b[0mnoisearray\u001b[0m\u001b[1;33m=\u001b[0m\u001b[0mnoisearr2d\u001b[0m\u001b[1;33m,\u001b[0m\u001b[0msave\u001b[0m\u001b[1;33m=\u001b[0m\u001b[0mFalse\u001b[0m\u001b[1;33m)\u001b[0m\u001b[1;33m\u001b[0m\u001b[0m\n\u001b[0m\u001b[0;32m      2\u001b[0m \u001b[0mtest\u001b[0m\u001b[1;33m=\u001b[0m\u001b[0mmake_target\u001b[0m\u001b[1;33m(\u001b[0m\u001b[0mtest\u001b[0m\u001b[1;33m,\u001b[0m\u001b[0mfoilpixsize\u001b[0m\u001b[1;33m,\u001b[0m\u001b[0mZ\u001b[0m\u001b[1;33m,\u001b[0m\u001b[0mrho\u001b[0m\u001b[1;33m,\u001b[0m\u001b[0mM\u001b[0m\u001b[1;33m)\u001b[0m\u001b[1;33m\u001b[0m\u001b[0m\n\u001b[0;32m      3\u001b[0m \u001b[1;31m#im_targ = Image.fromarray(supergauss1d)\u001b[0m\u001b[1;33m\u001b[0m\u001b[1;33m\u001b[0m\u001b[0m\n\u001b[0;32m      4\u001b[0m \u001b[1;31m#im_targ.save('./3dshock/supergauss/'+'electron_density_'+str(ydim)+'pixel_'+'sharp_2d'+'.tif')\u001b[0m\u001b[1;33m\u001b[0m\u001b[1;33m\u001b[0m\u001b[0m\n\u001b[0;32m      5\u001b[0m \u001b[0mdiffrtest\u001b[0m\u001b[1;33m=\u001b[0m\u001b[0mpropagate\u001b[0m\u001b[1;33m(\u001b[0m\u001b[0mtest\u001b[0m\u001b[1;33m,\u001b[0m \u001b[0mN_xray\u001b[0m\u001b[1;33m,\u001b[0m \u001b[0mfoilpixsize\u001b[0m\u001b[1;33m,\u001b[0m \u001b[0mdist_det\u001b[0m\u001b[1;33m=\u001b[0m\u001b[0mddet\u001b[0m\u001b[1;33m,\u001b[0m\u001b[0mtrans\u001b[0m\u001b[1;33m=\u001b[0m\u001b[1;36m1.0\u001b[0m\u001b[1;33m,\u001b[0m\u001b[0meff\u001b[0m\u001b[1;33m=\u001b[0m\u001b[1;36m1.0\u001b[0m\u001b[1;33m,\u001b[0m\u001b[0mwavelength\u001b[0m\u001b[1;33m=\u001b[0m\u001b[0mwavelength\u001b[0m\u001b[1;33m)\u001b[0m\u001b[1;33m\u001b[0m\u001b[0m\n",
      "\u001b[1;31mNameError\u001b[0m: name 'noisearr2d' is not defined"
     ]
    }
   ],
   "source": [
    "test=heatedwire(size,size,size,sigma_smooth,\\\n",
    "                  center=None,\\\n",
    "                  display=False,status=True,\\\n",
    "                  curvature='none',curve_param=shape,edge_mode='sharp_filled',smooth_mode='full',noise=noise,noisearray=noisearr2d,save=False)\n",
    "test=make_target(test,foilpixsize,Z,rho,M)\n",
    "#im_targ = Image.fromarray(supergauss1d)\n",
    "#im_targ.save('./3dshock/supergauss/'+'electron_density_'+str(ydim)+'pixel_'+'sharp_2d'+'.tif')\n",
    "diffrtest=propagate(test, N_xray, foilpixsize, dist_det=ddet,trans=1.0,eff=1.0,wavelength=wavelength)\n",
    "plt.figure()\n",
    "plt.imshow(test)\n",
    "im_targ = Image.fromarray(test)\n",
    "im_targ.save('./heatedwire/'+str(size)+'/test_target_straight.tif')\n",
    "im_targ = Image.fromarray(diffrtest)\n",
    "im_targ.save('./heatedwire/'+str(size)+'/test_diffr_straight.tif')\n",
    "\n",
    "test2=heatedwire(size,size,size,sigma_smooth,\\\n",
    "                  center=None,\\\n",
    "                  display=False,status=True,\\\n",
    "                  curvature='erf',curve_param=shape,edge_mode='erf_filled',smooth_mode='erf',noise=noise,noisearray=noisearr2d,save=False)\n",
    "test2=make_target(test2,foilpixsize,Z,rho,M)\n",
    "#im_targ = Image.fromarray(supergauss1d)\n",
    "#im_targ.save('./3dshock/supergauss/'+'electron_density_'+str(ydim)+'pixel_'+'sharp_2d'+'.tif')\n",
    "diffrtest2=propagate(test2, N_xray, foilpixsize, dist_det=ddet,trans=1.0,eff=1.0,wavelength=wavelength)\n",
    "plt.figure()\n",
    "plt.imshow(test2)\n",
    "im_targ = Image.fromarray(test2)\n",
    "im_targ.save('./heatedwire/'+str(size)+'/test_target_curved.tif')\n",
    "im_targ = Image.fromarray(diffrtest2)\n",
    "im_targ.save('./heatedwire/'+str(size)+'/test_diffr_curved.tif')\n",
    "#plt.colorbar()\n",
    "#plt.figure()\n",
    "#plt.imshow(diffrtest2, norm=LogNorm(vmin=1, vmax=1e12))"
   ]
  },
  {
   "cell_type": "code",
   "execution_count": 22,
   "metadata": {
    "collapsed": false
   },
   "outputs": [
    {
     "name": "stdout",
     "output_type": "stream",
     "text": [
      "10.24\n"
     ]
    }
   ],
   "source": [
    "print sigma_smooth"
   ]
  },
  {
   "cell_type": "code",
   "execution_count": 23,
   "metadata": {
    "collapsed": false
   },
   "outputs": [
    {
     "ename": "NameError",
     "evalue": "name 'noisearr2d' is not defined",
     "output_type": "error",
     "traceback": [
      "\u001b[1;31m---------------------------------------------------------------------------\u001b[0m\n\u001b[1;31mNameError\u001b[0m                                 Traceback (most recent call last)",
      "\u001b[1;32m<ipython-input-23-b9dba566812e>\u001b[0m in \u001b[0;36m<module>\u001b[1;34m()\u001b[0m\n\u001b[1;32m----> 1\u001b[1;33m \u001b[0mtest3\u001b[0m\u001b[1;33m=\u001b[0m\u001b[0mheatedwire\u001b[0m\u001b[1;33m(\u001b[0m\u001b[0msize\u001b[0m\u001b[1;33m,\u001b[0m\u001b[0msize\u001b[0m\u001b[1;33m,\u001b[0m\u001b[0msize\u001b[0m\u001b[1;33m,\u001b[0m\u001b[0msigma_smooth\u001b[0m\u001b[1;33m,\u001b[0m                  \u001b[0mcenter\u001b[0m\u001b[1;33m=\u001b[0m\u001b[0mNone\u001b[0m\u001b[1;33m,\u001b[0m                  \u001b[0mdisplay\u001b[0m\u001b[1;33m=\u001b[0m\u001b[0mFalse\u001b[0m\u001b[1;33m,\u001b[0m\u001b[0mstatus\u001b[0m\u001b[1;33m=\u001b[0m\u001b[0mTrue\u001b[0m\u001b[1;33m,\u001b[0m                  \u001b[0mcurvature\u001b[0m\u001b[1;33m=\u001b[0m\u001b[1;34m'erf'\u001b[0m\u001b[1;33m,\u001b[0m\u001b[0mcurve_param\u001b[0m\u001b[1;33m=\u001b[0m\u001b[0mshape\u001b[0m\u001b[1;33m,\u001b[0m\u001b[0medge_mode\u001b[0m\u001b[1;33m=\u001b[0m\u001b[1;34m'sharp_filled'\u001b[0m\u001b[1;33m,\u001b[0m\u001b[0msmooth_mode\u001b[0m\u001b[1;33m=\u001b[0m\u001b[1;34m'erf'\u001b[0m\u001b[1;33m,\u001b[0m\u001b[0mnoise\u001b[0m\u001b[1;33m=\u001b[0m\u001b[0mnoise\u001b[0m\u001b[1;33m,\u001b[0m\u001b[0mnoisearray\u001b[0m\u001b[1;33m=\u001b[0m\u001b[0mnoisearr2d\u001b[0m\u001b[1;33m,\u001b[0m\u001b[0msave\u001b[0m\u001b[1;33m=\u001b[0m\u001b[0mFalse\u001b[0m\u001b[1;33m)\u001b[0m\u001b[1;33m\u001b[0m\u001b[0m\n\u001b[0m\u001b[0;32m      2\u001b[0m \u001b[0mtest3\u001b[0m\u001b[1;33m=\u001b[0m\u001b[0mmake_target\u001b[0m\u001b[1;33m(\u001b[0m\u001b[0mtest3\u001b[0m\u001b[1;33m,\u001b[0m\u001b[0mfoilpixsize\u001b[0m\u001b[1;33m,\u001b[0m\u001b[0mZ\u001b[0m\u001b[1;33m,\u001b[0m\u001b[0mrho\u001b[0m\u001b[1;33m,\u001b[0m\u001b[0mM\u001b[0m\u001b[1;33m)\u001b[0m\u001b[1;33m\u001b[0m\u001b[0m\n\u001b[0;32m      3\u001b[0m \u001b[1;31m#im_targ = Image.fromarray(supergauss1d)\u001b[0m\u001b[1;33m\u001b[0m\u001b[1;33m\u001b[0m\u001b[0m\n\u001b[0;32m      4\u001b[0m \u001b[1;31m#im_targ.save('./3dshock/supergauss/'+'electron_density_'+str(ydim)+'pixel_'+'sharp_2d'+'.tif')\u001b[0m\u001b[1;33m\u001b[0m\u001b[1;33m\u001b[0m\u001b[0m\n\u001b[0;32m      5\u001b[0m \u001b[0mdiffrtest3\u001b[0m\u001b[1;33m=\u001b[0m\u001b[0mpropagate\u001b[0m\u001b[1;33m(\u001b[0m\u001b[0mtest3\u001b[0m\u001b[1;33m,\u001b[0m \u001b[0mN_xray\u001b[0m\u001b[1;33m,\u001b[0m \u001b[0mfoilpixsize\u001b[0m\u001b[1;33m,\u001b[0m \u001b[0mdist_det\u001b[0m\u001b[1;33m=\u001b[0m\u001b[0mddet\u001b[0m\u001b[1;33m,\u001b[0m\u001b[0mtrans\u001b[0m\u001b[1;33m=\u001b[0m\u001b[1;36m1.0\u001b[0m\u001b[1;33m,\u001b[0m\u001b[0meff\u001b[0m\u001b[1;33m=\u001b[0m\u001b[1;36m1.0\u001b[0m\u001b[1;33m,\u001b[0m\u001b[0mwavelength\u001b[0m\u001b[1;33m=\u001b[0m\u001b[0mwavelength\u001b[0m\u001b[1;33m)\u001b[0m\u001b[1;33m\u001b[0m\u001b[0m\n",
      "\u001b[1;31mNameError\u001b[0m: name 'noisearr2d' is not defined"
     ]
    }
   ],
   "source": [
    "test3=heatedwire(size,size,size,sigma_smooth,\\\n",
    "                  center=None,\\\n",
    "                  display=False,status=True,\\\n",
    "                  curvature='erf',curve_param=shape,edge_mode='sharp_filled',smooth_mode='erf',noise=noise,noisearray=noisearr2d,save=False)\n",
    "test3=make_target(test3,foilpixsize,Z,rho,M)\n",
    "#im_targ = Image.fromarray(supergauss1d)\n",
    "#im_targ.save('./3dshock/supergauss/'+'electron_density_'+str(ydim)+'pixel_'+'sharp_2d'+'.tif')\n",
    "diffrtest3=propagate(test3, N_xray, foilpixsize, dist_det=ddet,trans=1.0,eff=1.0,wavelength=wavelength)\n",
    "plt.figure()\n",
    "plt.imshow(test3)\n",
    "im_targ = Image.fromarray(test3)\n",
    "im_targ.save('./heatedwire/'+str(size)+'/test_target_curved_sharp.tif')\n",
    "im_targ = Image.fromarray(diffrtest3)\n",
    "im_targ.save('./heatedwire/'+str(size)+'/test_diffr_curved_sharp.tif')"
   ]
  },
  {
   "cell_type": "code",
   "execution_count": 24,
   "metadata": {
    "collapsed": false
   },
   "outputs": [
    {
     "ename": "NameError",
     "evalue": "name 'plt' is not defined",
     "output_type": "error",
     "traceback": [
      "\u001b[1;31m---------------------------------------------------------------------------\u001b[0m\n\u001b[1;31mNameError\u001b[0m                                 Traceback (most recent call last)",
      "\u001b[1;32m<ipython-input-24-3be9a2439132>\u001b[0m in \u001b[0;36m<module>\u001b[1;34m()\u001b[0m\n\u001b[1;32m----> 1\u001b[1;33m \u001b[0mplt\u001b[0m\u001b[1;33m.\u001b[0m\u001b[0mimshow\u001b[0m\u001b[1;33m(\u001b[0m\u001b[0mdiffrtest3\u001b[0m\u001b[1;33m,\u001b[0m\u001b[0mvmin\u001b[0m\u001b[1;33m=\u001b[0m\u001b[1;36m0\u001b[0m\u001b[1;33m,\u001b[0m\u001b[0mvmax\u001b[0m\u001b[1;33m=\u001b[0m\u001b[1;36m12.\u001b[0m\u001b[1;33m)\u001b[0m\u001b[1;33m\u001b[0m\u001b[0m\n\u001b[0m\u001b[0;32m      2\u001b[0m \u001b[0mplt\u001b[0m\u001b[1;33m.\u001b[0m\u001b[0mcolorbar\u001b[0m\u001b[1;33m(\u001b[0m\u001b[1;33m)\u001b[0m\u001b[1;33m\u001b[0m\u001b[0m\n",
      "\u001b[1;31mNameError\u001b[0m: name 'plt' is not defined"
     ]
    }
   ],
   "source": [
    "plt.imshow(diffrtest3,vmin=0,vmax=12.)\n",
    "plt.colorbar()"
   ]
  },
  {
   "cell_type": "code",
   "execution_count": 25,
   "metadata": {
    "collapsed": false
   },
   "outputs": [
    {
     "ename": "NameError",
     "evalue": "name 'np' is not defined",
     "output_type": "error",
     "traceback": [
      "\u001b[1;31m---------------------------------------------------------------------------\u001b[0m\n\u001b[1;31mNameError\u001b[0m                                 Traceback (most recent call last)",
      "\u001b[1;32m<ipython-input-25-d8fa0456e0d4>\u001b[0m in \u001b[0;36m<module>\u001b[1;34m()\u001b[0m\n\u001b[0;32m      4\u001b[0m \u001b[1;32mprint\u001b[0m \u001b[0msigma_smooth\u001b[0m\u001b[1;33m\u001b[0m\u001b[0m\n\u001b[0;32m      5\u001b[0m \u001b[1;33m\u001b[0m\u001b[0m\n\u001b[1;32m----> 6\u001b[1;33m \u001b[1;32mfor\u001b[0m \u001b[0mmodify_noise\u001b[0m \u001b[1;32min\u001b[0m \u001b[0mnp\u001b[0m\u001b[1;33m.\u001b[0m\u001b[0mlinspace\u001b[0m\u001b[1;33m(\u001b[0m\u001b[1;36m0.01\u001b[0m\u001b[1;33m,\u001b[0m\u001b[1;36m0.05\u001b[0m\u001b[1;33m,\u001b[0m\u001b[1;36m5\u001b[0m\u001b[1;33m)\u001b[0m\u001b[1;33m:\u001b[0m\u001b[1;33m\u001b[0m\u001b[0m\n\u001b[0m\u001b[0;32m      7\u001b[0m     \u001b[1;32mprint\u001b[0m \u001b[1;34m\"Sharp\"\u001b[0m\u001b[1;33m,\u001b[0m \u001b[1;34m\", Noise: \"\u001b[0m\u001b[1;33m,\u001b[0m \u001b[0mstr\u001b[0m\u001b[1;33m(\u001b[0m\u001b[0mint\u001b[0m\u001b[1;33m(\u001b[0m\u001b[0mmodify_noise\u001b[0m\u001b[1;33m*\u001b[0m\u001b[1;36m100.\u001b[0m\u001b[1;33m)\u001b[0m\u001b[1;33m)\u001b[0m\u001b[1;33m\u001b[0m\u001b[0m\n\u001b[0;32m      8\u001b[0m     \u001b[0mproj\u001b[0m\u001b[1;33m=\u001b[0m\u001b[0mheatedwire\u001b[0m\u001b[1;33m(\u001b[0m\u001b[0msize\u001b[0m\u001b[1;33m,\u001b[0m\u001b[0msize\u001b[0m\u001b[1;33m,\u001b[0m\u001b[0msize\u001b[0m\u001b[1;33m,\u001b[0m\u001b[0msigma_smooth\u001b[0m\u001b[1;33m,\u001b[0m                  \u001b[0mcenter\u001b[0m\u001b[1;33m=\u001b[0m\u001b[0mNone\u001b[0m\u001b[1;33m,\u001b[0m                  \u001b[0mdisplay\u001b[0m\u001b[1;33m=\u001b[0m\u001b[0mFalse\u001b[0m\u001b[1;33m,\u001b[0m\u001b[0mstatus\u001b[0m\u001b[1;33m=\u001b[0m\u001b[0mFalse\u001b[0m\u001b[1;33m,\u001b[0m                  \u001b[0mcurvature\u001b[0m\u001b[1;33m=\u001b[0m\u001b[1;34m'erf'\u001b[0m\u001b[1;33m,\u001b[0m\u001b[0mcurve_param\u001b[0m\u001b[1;33m=\u001b[0m\u001b[0mshape\u001b[0m\u001b[1;33m,\u001b[0m\u001b[0medge_mode\u001b[0m\u001b[1;33m=\u001b[0m\u001b[1;34m'sharp_filled'\u001b[0m\u001b[1;33m,\u001b[0m\u001b[0msmooth_mode\u001b[0m\u001b[1;33m=\u001b[0m\u001b[1;34m'erf'\u001b[0m\u001b[1;33m,\u001b[0m\u001b[0mnoise\u001b[0m\u001b[1;33m=\u001b[0m\u001b[0mmodify_noise\u001b[0m\u001b[1;33m,\u001b[0m\u001b[0mnoisearray\u001b[0m\u001b[1;33m=\u001b[0m\u001b[0mnoisearr2d\u001b[0m\u001b[1;33m,\u001b[0m\u001b[0msave\u001b[0m\u001b[1;33m=\u001b[0m\u001b[0mFalse\u001b[0m\u001b[1;33m)\u001b[0m\u001b[1;33m\u001b[0m\u001b[0m\n",
      "\u001b[1;31mNameError\u001b[0m: name 'np' is not defined"
     ]
    },
    {
     "name": "stdout",
     "output_type": "stream",
     "text": [
      "shape=[thickness,center,width,N,radius,erfwidth]\n",
      "[102.4, 2048, 1024.0, 4, 512.0, 455.1111111111111]\n",
      "sigma_smooth\n",
      "10.24\n"
     ]
    }
   ],
   "source": [
    "print \"shape=[thickness,center,width,N,radius,erfwidth]\"\n",
    "print shape\n",
    "print \"sigma_smooth\"\n",
    "print sigma_smooth\n",
    "\n",
    "for modify_noise in np.linspace(0.01,0.05,5):\n",
    "    print \"Sharp\", \", Noise: \", str(int(modify_noise*100.))\n",
    "    proj=heatedwire(size,size,size,sigma_smooth,\\\n",
    "                  center=None,\\\n",
    "                  display=False,status=False,\\\n",
    "                  curvature='erf',curve_param=shape,edge_mode='sharp_filled',smooth_mode='erf',noise=modify_noise,noisearray=noisearr2d,save=False)\n",
    "    target=make_target(proj,foilpixsize,Z,rho,M)\n",
    "    im_targ = Image.fromarray(target)\n",
    "    im_targ.save('./heatedwire/'+str(size)+'/'+'electron_density_'+\"sharp_\"+str(int(modify_noise*100.))+'percent'+'.tif')\n",
    "    diffr=propagate(target, N_xray, foilpixsize, dist_det=ddet,trans=1.0,eff=1.0,wavelength=wavelength)\n",
    "    im_targ = Image.fromarray(diffr)\n",
    "    im_targ.save('./heatedwire/'+str(size)+'/'+'diffr_'+\"sharp_\"+str(int(modify_noise*100.))+'percent'+'.tif')\n",
    "        \n",
    "\n",
    "for modify_sigma in np.linspace(5.,50.,10.):\n",
    "    for modify_noise in np.linspace(0.01,0.05,5):\n",
    "        print \"Sigma: \",str(int(modify_sigma)), \", Noise: \", str(int(modify_noise*100.))\n",
    "        proj=heatedwire(size,size,size,modify_sigma,\\\n",
    "                  center=None,\\\n",
    "                  display=False,status=False,\\\n",
    "                  curvature='erf',curve_param=shape,edge_mode='erf_filled',smooth_mode='erf',noise=modify_noise,noisearray=noisearr2d,save=False)\n",
    "        target=make_target(proj,foilpixsize,Z,rho,M)\n",
    "        im_targ = Image.fromarray(target)\n",
    "        im_targ.save('./heatedwire/'+str(size)+'/'+'electron_density_'+\"_sigma\"+str(int(modify_sigma))+\"px_noise\"+str(int(modify_noise*100.))+'percent'+'.tif')\n",
    "        diffr=propagate(target, N_xray, foilpixsize, dist_det=ddet,trans=1.0,eff=1.0,wavelength=wavelength)\n",
    "        im_targ = Image.fromarray(diffr)\n",
    "        im_targ.save('./heatedwire/'+str(size)+'/'+'diffr_'+\"_sigma\"+str(int(modify_sigma))+\"px_noise\"+str(int(modify_noise*100.))+'percent'+'.tif')\n",
    "print \"Done\""
   ]
  },
  {
   "cell_type": "code",
   "execution_count": 26,
   "metadata": {
    "collapsed": false
   },
   "outputs": [
    {
     "ename": "NameError",
     "evalue": "name 'Image' is not defined",
     "output_type": "error",
     "traceback": [
      "\u001b[1;31m---------------------------------------------------------------------------\u001b[0m\n\u001b[1;31mNameError\u001b[0m                                 Traceback (most recent call last)",
      "\u001b[1;32m<ipython-input-26-9e361eda1f0b>\u001b[0m in \u001b[0;36m<module>\u001b[1;34m()\u001b[0m\n\u001b[1;32m----> 1\u001b[1;33m \u001b[0mim_targ\u001b[0m \u001b[1;33m=\u001b[0m \u001b[0mImage\u001b[0m\u001b[1;33m.\u001b[0m\u001b[0mfromarray\u001b[0m\u001b[1;33m(\u001b[0m\u001b[0mtest2\u001b[0m\u001b[1;33m)\u001b[0m\u001b[1;33m\u001b[0m\u001b[0m\n\u001b[0m\u001b[0;32m      2\u001b[0m \u001b[0mim_targ\u001b[0m\u001b[1;33m.\u001b[0m\u001b[0msave\u001b[0m\u001b[1;33m(\u001b[0m\u001b[1;34m'./heatedwire/target_test2_2048.tif'\u001b[0m\u001b[1;33m)\u001b[0m\u001b[1;33m\u001b[0m\u001b[0m\n\u001b[0;32m      3\u001b[0m \u001b[0mim_targ\u001b[0m \u001b[1;33m=\u001b[0m \u001b[0mImage\u001b[0m\u001b[1;33m.\u001b[0m\u001b[0mfromarray\u001b[0m\u001b[1;33m(\u001b[0m\u001b[0mdiffrtest2\u001b[0m\u001b[1;33m)\u001b[0m\u001b[1;33m\u001b[0m\u001b[0m\n\u001b[0;32m      4\u001b[0m \u001b[0mim_targ\u001b[0m\u001b[1;33m.\u001b[0m\u001b[0msave\u001b[0m\u001b[1;33m(\u001b[0m\u001b[1;34m'./heatedwire/diffr_test2_2048.tif'\u001b[0m\u001b[1;33m)\u001b[0m\u001b[1;33m\u001b[0m\u001b[0m\n\u001b[0;32m      5\u001b[0m \u001b[0mplt\u001b[0m\u001b[1;33m.\u001b[0m\u001b[0mimshow\u001b[0m\u001b[1;33m(\u001b[0m\u001b[0mdiffrtest2\u001b[0m\u001b[1;33m,\u001b[0m \u001b[0mnorm\u001b[0m\u001b[1;33m=\u001b[0m\u001b[0mLogNorm\u001b[0m\u001b[1;33m(\u001b[0m\u001b[0mvmin\u001b[0m\u001b[1;33m=\u001b[0m\u001b[1;36m1\u001b[0m\u001b[1;33m,\u001b[0m \u001b[0mvmax\u001b[0m\u001b[1;33m=\u001b[0m\u001b[1;36m1e12\u001b[0m\u001b[1;33m)\u001b[0m\u001b[1;33m)\u001b[0m\u001b[1;33m\u001b[0m\u001b[0m\n",
      "\u001b[1;31mNameError\u001b[0m: name 'Image' is not defined"
     ]
    }
   ],
   "source": [
    "im_targ = Image.fromarray(test2)\n",
    "im_targ.save('./heatedwire/target_test2_2048.tif')\n",
    "im_targ = Image.fromarray(diffrtest2)\n",
    "im_targ.save('./heatedwire/diffr_test2_2048.tif')\n",
    "plt.imshow(diffrtest2, norm=LogNorm(vmin=1, vmax=1e12))\n",
    "plt.colorbar()"
   ]
  },
  {
   "cell_type": "code",
   "execution_count": 27,
   "metadata": {
    "collapsed": false
   },
   "outputs": [
    {
     "name": "stdout",
     "output_type": "stream",
     "text": [
      "Number of modes: 6\n"
     ]
    }
   ],
   "source": [
    "# array for modes\n",
    "#[curvature,edge_mode,smooth_mode]\n",
    "par_array=\\\n",
    "[\n",
    " ['supergauss','sharp_filled','full'],\n",
    " ['supergauss','erf_filled','full'],\n",
    " ['supergauss','erf_filled','supergauss'],\n",
    " ['erf','sharp_filled','full'],\n",
    " ['erf','erf_filled','full'],\n",
    " ['erf','erf_filled','erf']\n",
    " ]\n",
    "print \"Number of modes:\", len(par_array)"
   ]
  },
  {
   "cell_type": "code",
   "execution_count": 28,
   "metadata": {
    "collapsed": false
   },
   "outputs": [
    {
     "ename": "NameError",
     "evalue": "global name 'np' is not defined",
     "output_type": "error",
     "traceback": [
      "\u001b[1;31m---------------------------------------------------------------------------\u001b[0m\n\u001b[1;31mNameError\u001b[0m                                 Traceback (most recent call last)",
      "\u001b[1;32m<ipython-input-28-0d77fd447ec3>\u001b[0m in \u001b[0;36m<module>\u001b[1;34m()\u001b[0m\n\u001b[0;32m      3\u001b[0m \u001b[1;32mfor\u001b[0m \u001b[0mm\u001b[0m \u001b[1;32min\u001b[0m \u001b[0mrange\u001b[0m\u001b[1;33m(\u001b[0m\u001b[0mlen\u001b[0m\u001b[1;33m(\u001b[0m\u001b[0mpar_array\u001b[0m\u001b[1;33m)\u001b[0m\u001b[1;33m)\u001b[0m\u001b[1;33m:\u001b[0m\u001b[1;33m\u001b[0m\u001b[0m\n\u001b[0;32m      4\u001b[0m     \u001b[1;32mprint\u001b[0m \u001b[1;34m\"Parameters:\"\u001b[0m\u001b[1;33m,\u001b[0m \u001b[0mpar_array\u001b[0m\u001b[1;33m[\u001b[0m\u001b[0mm\u001b[0m\u001b[1;33m]\u001b[0m\u001b[1;33m\u001b[0m\u001b[0m\n\u001b[1;32m----> 5\u001b[1;33m     \u001b[0msingle_proj\u001b[0m\u001b[1;33m=\u001b[0m\u001b[0mheatedwire\u001b[0m\u001b[1;33m(\u001b[0m\u001b[0msize\u001b[0m\u001b[1;33m,\u001b[0m\u001b[0msize\u001b[0m\u001b[1;33m,\u001b[0m\u001b[0msize\u001b[0m\u001b[1;33m,\u001b[0m\u001b[0msigma_smooth\u001b[0m\u001b[1;33m,\u001b[0m                      \u001b[0mcenter\u001b[0m\u001b[1;33m=\u001b[0m\u001b[0mNone\u001b[0m\u001b[1;33m,\u001b[0m                      \u001b[0mdisplay\u001b[0m\u001b[1;33m=\u001b[0m\u001b[0mFalse\u001b[0m\u001b[1;33m,\u001b[0m\u001b[0mstatus\u001b[0m\u001b[1;33m=\u001b[0m\u001b[0mFalse\u001b[0m\u001b[1;33m,\u001b[0m\u001b[0msavepath\u001b[0m\u001b[1;33m=\u001b[0m\u001b[1;34m'./heatedwire/0.03noise/'\u001b[0m\u001b[1;33m,\u001b[0m                      \u001b[0mcurvature\u001b[0m\u001b[1;33m=\u001b[0m\u001b[0mpar_array\u001b[0m\u001b[1;33m[\u001b[0m\u001b[0mm\u001b[0m\u001b[1;33m]\u001b[0m\u001b[1;33m[\u001b[0m\u001b[1;36m0\u001b[0m\u001b[1;33m]\u001b[0m\u001b[1;33m,\u001b[0m\u001b[0mcurve_param\u001b[0m\u001b[1;33m=\u001b[0m\u001b[0mshape\u001b[0m\u001b[1;33m,\u001b[0m\u001b[0medge_mode\u001b[0m\u001b[1;33m=\u001b[0m\u001b[0mpar_array\u001b[0m\u001b[1;33m[\u001b[0m\u001b[0mm\u001b[0m\u001b[1;33m]\u001b[0m\u001b[1;33m[\u001b[0m\u001b[1;36m1\u001b[0m\u001b[1;33m]\u001b[0m\u001b[1;33m,\u001b[0m\u001b[0msave\u001b[0m\u001b[1;33m=\u001b[0m\u001b[0mFalse\u001b[0m\u001b[1;33m,\u001b[0m                      \u001b[0msmooth_mode\u001b[0m\u001b[1;33m=\u001b[0m\u001b[0mpar_array\u001b[0m\u001b[1;33m[\u001b[0m\u001b[0mm\u001b[0m\u001b[1;33m]\u001b[0m\u001b[1;33m[\u001b[0m\u001b[1;36m2\u001b[0m\u001b[1;33m]\u001b[0m\u001b[1;33m,\u001b[0m\u001b[0mnoise\u001b[0m\u001b[1;33m=\u001b[0m\u001b[1;36m0.03\u001b[0m\u001b[1;33m,\u001b[0m\u001b[0mnoisearray\u001b[0m\u001b[1;33m=\u001b[0m\u001b[0mnoise2d\u001b[0m\u001b[1;33m)\u001b[0m\u001b[1;33m\u001b[0m\u001b[0m\n\u001b[0m\u001b[0;32m      6\u001b[0m     \u001b[0mprojections\u001b[0m\u001b[1;33m.\u001b[0m\u001b[0mappend\u001b[0m\u001b[1;33m(\u001b[0m\u001b[0msingle_proj\u001b[0m\u001b[1;33m)\u001b[0m\u001b[1;33m\u001b[0m\u001b[0m\n\u001b[0;32m      7\u001b[0m \u001b[1;32mprint\u001b[0m \u001b[1;34m\"Done\"\u001b[0m\u001b[1;33m\u001b[0m\u001b[0m\n",
      "\u001b[1;32m<ipython-input-6-938037c5f2bc>\u001b[0m in \u001b[0;36mheatedwire\u001b[1;34m(xdim, ydim, zdim, sigma, center, display, status, save, savepath, curvature, curve_param, edge_mode, smooth_mode, noise, noisearray, filename)\u001b[0m\n\u001b[0;32m     36\u001b[0m     \u001b[0mzc\u001b[0m\u001b[1;33m=\u001b[0m\u001b[0mcenter\u001b[0m\u001b[1;33m[\u001b[0m\u001b[1;36m1\u001b[0m\u001b[1;33m]\u001b[0m\u001b[1;33m\u001b[0m\u001b[0m\n\u001b[0;32m     37\u001b[0m \u001b[1;33m\u001b[0m\u001b[0m\n\u001b[1;32m---> 38\u001b[1;33m     \u001b[0mproj\u001b[0m\u001b[1;33m=\u001b[0m\u001b[0mnp\u001b[0m\u001b[1;33m.\u001b[0m\u001b[0mzeros\u001b[0m\u001b[1;33m(\u001b[0m\u001b[1;33m(\u001b[0m\u001b[0mydim\u001b[0m\u001b[1;33m,\u001b[0m\u001b[0mxdim\u001b[0m\u001b[1;33m)\u001b[0m\u001b[1;33m)\u001b[0m\u001b[1;33m\u001b[0m\u001b[0m\n\u001b[0m\u001b[0;32m     39\u001b[0m \u001b[1;33m\u001b[0m\u001b[0m\n\u001b[0;32m     40\u001b[0m     \u001b[0mzz\u001b[0m\u001b[1;33m,\u001b[0m\u001b[0mxx\u001b[0m\u001b[1;33m=\u001b[0m\u001b[0mnp\u001b[0m\u001b[1;33m.\u001b[0m\u001b[0mmeshgrid\u001b[0m\u001b[1;33m(\u001b[0m\u001b[0mnp\u001b[0m\u001b[1;33m.\u001b[0m\u001b[0marange\u001b[0m\u001b[1;33m(\u001b[0m\u001b[0mxdim\u001b[0m\u001b[1;33m)\u001b[0m\u001b[1;33m,\u001b[0m\u001b[0mnp\u001b[0m\u001b[1;33m.\u001b[0m\u001b[0marange\u001b[0m\u001b[1;33m(\u001b[0m\u001b[0mydim\u001b[0m\u001b[1;33m)\u001b[0m\u001b[1;33m)\u001b[0m\u001b[1;33m\u001b[0m\u001b[0m\n",
      "\u001b[1;31mNameError\u001b[0m: global name 'np' is not defined"
     ]
    },
    {
     "name": "stdout",
     "output_type": "stream",
     "text": [
      "Parameters: ['supergauss', 'sharp_filled', 'full']\n",
      "Created ./heatedwire/0.03noise/\n"
     ]
    }
   ],
   "source": [
    "projections=[]\n",
    "\n",
    "for m in range(len(par_array)):\n",
    "    print \"Parameters:\", par_array[m]\n",
    "    single_proj=heatedwire(size,size,size,sigma_smooth,\\\n",
    "                      center=None,\\\n",
    "                      display=False,status=False,savepath='./heatedwire/0.03noise/',\\\n",
    "                      curvature=par_array[m][0],curve_param=shape,edge_mode=par_array[m][1],save=False,\\\n",
    "                      smooth_mode=par_array[m][2],noise=0.03,noisearray=noise2d)\n",
    "    projections.append(single_proj)\n",
    "print \"Done\""
   ]
  },
  {
   "cell_type": "code",
   "execution_count": 29,
   "metadata": {
    "collapsed": false
   },
   "outputs": [
    {
     "ename": "NameError",
     "evalue": "name 'plt' is not defined",
     "output_type": "error",
     "traceback": [
      "\u001b[1;31m---------------------------------------------------------------------------\u001b[0m\n\u001b[1;31mNameError\u001b[0m                                 Traceback (most recent call last)",
      "\u001b[1;32m<ipython-input-29-2718f7b49e2f>\u001b[0m in \u001b[0;36m<module>\u001b[1;34m()\u001b[0m\n\u001b[1;32m----> 1\u001b[1;33m \u001b[0mfig\u001b[0m\u001b[1;33m,\u001b[0m \u001b[0maxs\u001b[0m \u001b[1;33m=\u001b[0m \u001b[0mplt\u001b[0m\u001b[1;33m.\u001b[0m\u001b[0msubplots\u001b[0m\u001b[1;33m(\u001b[0m\u001b[1;36m3\u001b[0m\u001b[1;33m,\u001b[0m\u001b[1;36m2\u001b[0m\u001b[1;33m)\u001b[0m\u001b[1;33m\u001b[0m\u001b[0m\n\u001b[0m\u001b[0;32m      2\u001b[0m \u001b[1;33m\u001b[0m\u001b[0m\n\u001b[0;32m      3\u001b[0m \u001b[0maxs\u001b[0m \u001b[1;33m=\u001b[0m \u001b[0maxs\u001b[0m\u001b[1;33m.\u001b[0m\u001b[0mravel\u001b[0m\u001b[1;33m(\u001b[0m\u001b[1;33m)\u001b[0m\u001b[1;33m\u001b[0m\u001b[0m\n\u001b[0;32m      4\u001b[0m \u001b[1;33m\u001b[0m\u001b[0m\n\u001b[0;32m      5\u001b[0m \u001b[1;32mfor\u001b[0m \u001b[0mm\u001b[0m \u001b[1;32min\u001b[0m \u001b[0mrange\u001b[0m\u001b[1;33m(\u001b[0m\u001b[0mlen\u001b[0m\u001b[1;33m(\u001b[0m\u001b[0mpar_array\u001b[0m\u001b[1;33m)\u001b[0m\u001b[1;33m)\u001b[0m\u001b[1;33m:\u001b[0m\u001b[1;33m\u001b[0m\u001b[0m\n",
      "\u001b[1;31mNameError\u001b[0m: name 'plt' is not defined"
     ]
    }
   ],
   "source": [
    "fig, axs = plt.subplots(3,2)\n",
    "\n",
    "axs = axs.ravel()\n",
    "\n",
    "for m in range(len(par_array)):\n",
    "    cax=axs[m].imshow(projections[m])\n",
    "    axs[m].set_title(par_array[m][0]+'_'+par_array[m][1]+'_'+par_array[m][2],fontsize=10)\n",
    "    axs[m].set_axis_off()\n",
    "    \n",
    "plt.tight_layout()\n",
    "\n",
    "fig.subplots_adjust(right=0.8)\n",
    "cbar_ax = fig.add_axes([0.85, 0.15, 0.05, 0.7])\n",
    "fig.colorbar(cax, cax=cbar_ax)\n",
    "#plt.savefig('./heatedwire/supergauss_'+str(size)+'pixel_'+'summary'+'_projection_sum.jpg')"
   ]
  },
  {
   "cell_type": "code",
   "execution_count": 30,
   "metadata": {
    "collapsed": false
   },
   "outputs": [
    {
     "ename": "NameError",
     "evalue": "name 'plt' is not defined",
     "output_type": "error",
     "traceback": [
      "\u001b[1;31m---------------------------------------------------------------------------\u001b[0m\n\u001b[1;31mNameError\u001b[0m                                 Traceback (most recent call last)",
      "\u001b[1;32m<ipython-input-30-7bdf3f1d39be>\u001b[0m in \u001b[0;36m<module>\u001b[1;34m()\u001b[0m\n\u001b[1;32m----> 1\u001b[1;33m \u001b[0mplt\u001b[0m\u001b[1;33m.\u001b[0m\u001b[0mimshow\u001b[0m\u001b[1;33m(\u001b[0m\u001b[0mprojections\u001b[0m\u001b[1;33m[\u001b[0m\u001b[1;36m0\u001b[0m\u001b[1;33m]\u001b[0m\u001b[1;33m-\u001b[0m\u001b[0mprojections\u001b[0m\u001b[1;33m[\u001b[0m\u001b[1;33m-\u001b[0m\u001b[1;36m1\u001b[0m\u001b[1;33m]\u001b[0m\u001b[1;33m)\u001b[0m\u001b[1;33m\u001b[0m\u001b[0m\n\u001b[0m",
      "\u001b[1;31mNameError\u001b[0m: name 'plt' is not defined"
     ]
    }
   ],
   "source": [
    "plt.imshow(projections[0]-projections[-1])"
   ]
  },
  {
   "cell_type": "code",
   "execution_count": 31,
   "metadata": {
    "collapsed": false
   },
   "outputs": [
    {
     "ename": "IndexError",
     "evalue": "list index out of range",
     "output_type": "error",
     "traceback": [
      "\u001b[1;31m---------------------------------------------------------------------------\u001b[0m\n\u001b[1;31mIndexError\u001b[0m                                Traceback (most recent call last)",
      "\u001b[1;32m<ipython-input-31-dcfe96eecda8>\u001b[0m in \u001b[0;36m<module>\u001b[1;34m()\u001b[0m\n\u001b[0;32m     18\u001b[0m \u001b[1;32mfor\u001b[0m \u001b[0mm\u001b[0m \u001b[1;32min\u001b[0m \u001b[0mrange\u001b[0m\u001b[1;33m(\u001b[0m\u001b[0mlen\u001b[0m\u001b[1;33m(\u001b[0m\u001b[0mpar_array\u001b[0m\u001b[1;33m)\u001b[0m\u001b[1;33m)\u001b[0m\u001b[1;33m:\u001b[0m\u001b[1;33m\u001b[0m\u001b[0m\n\u001b[0;32m     19\u001b[0m     \u001b[1;31m#print modes[m]\u001b[0m\u001b[1;33m\u001b[0m\u001b[1;33m\u001b[0m\u001b[0m\n\u001b[1;32m---> 20\u001b[1;33m     \u001b[0msingle_target\u001b[0m \u001b[1;33m=\u001b[0m\u001b[0mmake_target\u001b[0m\u001b[1;33m(\u001b[0m\u001b[0mprojections\u001b[0m\u001b[1;33m[\u001b[0m\u001b[0mm\u001b[0m\u001b[1;33m]\u001b[0m\u001b[1;33m,\u001b[0m\u001b[0mfoilpixsize\u001b[0m\u001b[1;33m,\u001b[0m\u001b[0mZ\u001b[0m\u001b[1;33m,\u001b[0m\u001b[0mrho\u001b[0m\u001b[1;33m,\u001b[0m\u001b[0mM\u001b[0m\u001b[1;33m)\u001b[0m\u001b[1;33m\u001b[0m\u001b[0m\n\u001b[0m\u001b[0;32m     21\u001b[0m     \u001b[1;31m#im_ed = Image.fromarray(single_target)\u001b[0m\u001b[1;33m\u001b[0m\u001b[1;33m\u001b[0m\u001b[0m\n\u001b[0;32m     22\u001b[0m     \u001b[1;31m#im_ed.save('./heatedwire/supergauss_electron_density_'+str(size)+'pixel_'+titles[m]+'.tif')\u001b[0m\u001b[1;33m\u001b[0m\u001b[1;33m\u001b[0m\u001b[0m\n",
      "\u001b[1;31mIndexError\u001b[0m: list index out of range"
     ]
    }
   ],
   "source": [
    "\n",
    "\n",
    "\"\"\"\n",
    "size=512\n",
    "\n",
    "thickness=50.\n",
    "center=256.\n",
    "width=80.\n",
    "N=5\n",
    "radius=170.\n",
    "shape=[thickness,center,width,N,radius]\n",
    "sigma_smooth=20.\n",
    "\"\"\"\n",
    "\n",
    "\n",
    "\n",
    "targets=[]\n",
    "for m in range(len(par_array)):\n",
    "    #print modes[m]\n",
    "    single_target =make_target(projections[m],foilpixsize,Z,rho,M)\n",
    "    #im_ed = Image.fromarray(single_target)\n",
    "    #im_ed.save('./heatedwire/supergauss_electron_density_'+str(size)+'pixel_'+titles[m]+'.tif')\n",
    "    targets.append(single_target)\n",
    "print \"Done\""
   ]
  },
  {
   "cell_type": "code",
   "execution_count": 32,
   "metadata": {
    "collapsed": false
   },
   "outputs": [
    {
     "ename": "NameError",
     "evalue": "name 'plt' is not defined",
     "output_type": "error",
     "traceback": [
      "\u001b[1;31m---------------------------------------------------------------------------\u001b[0m\n\u001b[1;31mNameError\u001b[0m                                 Traceback (most recent call last)",
      "\u001b[1;32m<ipython-input-32-fccf5a136b94>\u001b[0m in \u001b[0;36m<module>\u001b[1;34m()\u001b[0m\n\u001b[1;32m----> 1\u001b[1;33m \u001b[0mfig\u001b[0m\u001b[1;33m,\u001b[0m \u001b[0maxs\u001b[0m \u001b[1;33m=\u001b[0m \u001b[0mplt\u001b[0m\u001b[1;33m.\u001b[0m\u001b[0msubplots\u001b[0m\u001b[1;33m(\u001b[0m\u001b[1;36m3\u001b[0m\u001b[1;33m,\u001b[0m\u001b[1;36m2\u001b[0m\u001b[1;33m)\u001b[0m\u001b[1;33m\u001b[0m\u001b[0m\n\u001b[0m\u001b[0;32m      2\u001b[0m \u001b[1;33m\u001b[0m\u001b[0m\n\u001b[0;32m      3\u001b[0m \u001b[0maxs\u001b[0m \u001b[1;33m=\u001b[0m \u001b[0maxs\u001b[0m\u001b[1;33m.\u001b[0m\u001b[0mravel\u001b[0m\u001b[1;33m(\u001b[0m\u001b[1;33m)\u001b[0m\u001b[1;33m\u001b[0m\u001b[0m\n\u001b[0;32m      4\u001b[0m \u001b[1;33m\u001b[0m\u001b[0m\n\u001b[0;32m      5\u001b[0m \u001b[1;32mfor\u001b[0m \u001b[0mm\u001b[0m \u001b[1;32min\u001b[0m \u001b[0mrange\u001b[0m\u001b[1;33m(\u001b[0m\u001b[0mlen\u001b[0m\u001b[1;33m(\u001b[0m\u001b[0mpar_array\u001b[0m\u001b[1;33m)\u001b[0m\u001b[1;33m)\u001b[0m\u001b[1;33m:\u001b[0m\u001b[1;33m\u001b[0m\u001b[0m\n",
      "\u001b[1;31mNameError\u001b[0m: name 'plt' is not defined"
     ]
    }
   ],
   "source": [
    "fig, axs = plt.subplots(3,2)\n",
    "\n",
    "axs = axs.ravel()\n",
    "\n",
    "for m in range(len(par_array)):\n",
    "    cax=axs[m].imshow(targets[m])\n",
    "    axs[m].set_title(par_array[m][0]+'_'+par_array[m][1]+'_'+par_array[m][2],fontsize=10)\n",
    "    axs[m].set_axis_off()\n",
    "    \n",
    "plt.tight_layout()\n",
    "\n",
    "fig.subplots_adjust(right=0.8)\n",
    "cbar_ax = fig.add_axes([0.85, 0.15, 0.05, 0.7])\n",
    "fig.colorbar(cax, cax=cbar_ax)"
   ]
  },
  {
   "cell_type": "code",
   "execution_count": 33,
   "metadata": {
    "collapsed": false
   },
   "outputs": [
    {
     "ename": "NameError",
     "evalue": "name 'np' is not defined",
     "output_type": "error",
     "traceback": [
      "\u001b[1;31m---------------------------------------------------------------------------\u001b[0m\n\u001b[1;31mNameError\u001b[0m                                 Traceback (most recent call last)",
      "\u001b[1;32m<ipython-input-33-59b28f7680b4>\u001b[0m in \u001b[0;36m<module>\u001b[1;34m()\u001b[0m\n\u001b[0;32m      6\u001b[0m \u001b[1;33m\u001b[0m\u001b[0m\n\u001b[0;32m      7\u001b[0m \u001b[1;33m\u001b[0m\u001b[0m\n\u001b[1;32m----> 8\u001b[1;33m \u001b[0mmaskcenter\u001b[0m\u001b[1;33m=\u001b[0m\u001b[0mnp\u001b[0m\u001b[1;33m.\u001b[0m\u001b[0mones\u001b[0m\u001b[1;33m(\u001b[0m\u001b[1;33m[\u001b[0m\u001b[0msize\u001b[0m\u001b[1;33m,\u001b[0m\u001b[0msize\u001b[0m\u001b[1;33m]\u001b[0m\u001b[1;33m)\u001b[0m\u001b[1;33m\u001b[0m\u001b[0m\n\u001b[0m\u001b[0;32m      9\u001b[0m \u001b[0mmaskcenter\u001b[0m\u001b[1;33m[\u001b[0m\u001b[0mlen\u001b[0m\u001b[1;33m(\u001b[0m\u001b[0mmaskcenter\u001b[0m\u001b[1;33m)\u001b[0m\u001b[1;33m//\u001b[0m\u001b[1;36m2\u001b[0m\u001b[1;33m-\u001b[0m\u001b[1;36m3\u001b[0m\u001b[1;33m:\u001b[0m\u001b[0mlen\u001b[0m\u001b[1;33m(\u001b[0m\u001b[0mmaskcenter\u001b[0m\u001b[1;33m)\u001b[0m\u001b[1;33m//\u001b[0m\u001b[1;36m2\u001b[0m\u001b[1;33m+\u001b[0m\u001b[1;36m3\u001b[0m\u001b[1;33m,\u001b[0m\u001b[0mlen\u001b[0m\u001b[1;33m(\u001b[0m\u001b[0mmaskcenter\u001b[0m\u001b[1;33m)\u001b[0m\u001b[1;33m//\u001b[0m\u001b[1;36m2\u001b[0m\u001b[1;33m-\u001b[0m\u001b[1;36m3\u001b[0m\u001b[1;33m:\u001b[0m\u001b[0mlen\u001b[0m\u001b[1;33m(\u001b[0m\u001b[0mmaskcenter\u001b[0m\u001b[1;33m)\u001b[0m\u001b[1;33m//\u001b[0m\u001b[1;36m2\u001b[0m\u001b[1;33m+\u001b[0m\u001b[1;36m3\u001b[0m\u001b[1;33m]\u001b[0m\u001b[1;33m=\u001b[0m\u001b[1;36m0.\u001b[0m\u001b[1;33m\u001b[0m\u001b[0m\n\u001b[0;32m     10\u001b[0m \u001b[1;33m\u001b[0m\u001b[0m\n",
      "\u001b[1;31mNameError\u001b[0m: name 'np' is not defined"
     ]
    }
   ],
   "source": [
    "\n",
    "\n",
    "\n",
    "\n",
    "\n",
    "\n",
    "\n",
    "maskcenter=np.ones([size,size])\n",
    "maskcenter[len(maskcenter)//2-3:len(maskcenter)//2+3,len(maskcenter)//2-3:len(maskcenter)//2+3]=0.\n",
    "\n",
    "\n",
    "diffpatterns=[]\n",
    "for m in range(len(projections)):\n",
    "    print par_array[m][0]+'_'+par_array[m][1]+'_'+par_array[m][2]\n",
    "    diffr=propagate(targets[m], N_xray, foilpixsize, dist_det=ddet,trans=1.0,eff=1.0,wavelength=wavelength)\n",
    "\n",
    "    print \"Mask out central 9 pixels\"\n",
    "    print \"Number of scattered photons :\", '%.2e' %(diffr*maskcenter).sum()\n",
    "    print \"Percentage of scattered photons:\", '%.2f' %((diffr*maskcenter).sum()/N_xray*100) , \"percent\"\n",
    "\n",
    "    #print \"Mask out central pixels\"\n",
    "    #print \"central pixel\", diffr[len(diffr)//2,len(diffr)//2]\n",
    "    #print \"Number of scattered photons :\", '%.2e' %((diffr).sum()-diffr[len(diffr)//2,len(diffr)//2])\n",
    "    #print \"Percentage of scattered photons:\", '%.2f' %(((diffr).sum()-diffr[len(diffr)//2,len(diffr)//2])/N_xray*100) , \"percent\" \n",
    "\n",
    "    diffpatterns.append(diffr)\n",
    "\n",
    "print \"Done\""
   ]
  },
  {
   "cell_type": "code",
   "execution_count": 34,
   "metadata": {
    "collapsed": false
   },
   "outputs": [
    {
     "ename": "NameError",
     "evalue": "name 'plt' is not defined",
     "output_type": "error",
     "traceback": [
      "\u001b[1;31m---------------------------------------------------------------------------\u001b[0m\n\u001b[1;31mNameError\u001b[0m                                 Traceback (most recent call last)",
      "\u001b[1;32m<ipython-input-34-52605904941e>\u001b[0m in \u001b[0;36m<module>\u001b[1;34m()\u001b[0m\n\u001b[1;32m----> 1\u001b[1;33m \u001b[0mfig\u001b[0m\u001b[1;33m,\u001b[0m \u001b[0maxs\u001b[0m \u001b[1;33m=\u001b[0m \u001b[0mplt\u001b[0m\u001b[1;33m.\u001b[0m\u001b[0msubplots\u001b[0m\u001b[1;33m(\u001b[0m\u001b[1;36m3\u001b[0m\u001b[1;33m,\u001b[0m\u001b[1;36m2\u001b[0m\u001b[1;33m)\u001b[0m\u001b[1;33m\u001b[0m\u001b[0m\n\u001b[0m\u001b[0;32m      2\u001b[0m \u001b[1;33m\u001b[0m\u001b[0m\n\u001b[0;32m      3\u001b[0m \u001b[0maxs\u001b[0m \u001b[1;33m=\u001b[0m \u001b[0maxs\u001b[0m\u001b[1;33m.\u001b[0m\u001b[0mravel\u001b[0m\u001b[1;33m(\u001b[0m\u001b[1;33m)\u001b[0m\u001b[1;33m\u001b[0m\u001b[0m\n\u001b[0;32m      4\u001b[0m \u001b[1;33m\u001b[0m\u001b[0m\n\u001b[0;32m      5\u001b[0m \u001b[1;32mfor\u001b[0m \u001b[0mm\u001b[0m \u001b[1;32min\u001b[0m \u001b[0mrange\u001b[0m\u001b[1;33m(\u001b[0m\u001b[0mlen\u001b[0m\u001b[1;33m(\u001b[0m\u001b[0mprojections\u001b[0m\u001b[1;33m)\u001b[0m\u001b[1;33m)\u001b[0m\u001b[1;33m:\u001b[0m\u001b[1;33m\u001b[0m\u001b[0m\n",
      "\u001b[1;31mNameError\u001b[0m: name 'plt' is not defined"
     ]
    }
   ],
   "source": [
    "fig, axs = plt.subplots(3,2)\n",
    "\n",
    "axs = axs.ravel()\n",
    "\n",
    "for m in range(len(projections)):\n",
    "    cax=axs[m].imshow(diffpatterns[m], norm=LogNorm(vmin=1, vmax=1e12))\n",
    "    axs[m].set_title(par_array[m][0]+'_'+par_array[m][1]+'_'+par_array[m][2],fontsize=10)\n",
    "    axs[m].set_axis_off()\n",
    "    #im_diffr = Image.fromarray(diffpatterns_supergauss[m])\n",
    "    #im_diffr.save('./heatedwire/supergauss_'+'diffpattern_'+str(size)+'pixel_'+titles[m]+'.tif')\n",
    "\n",
    "fig.subplots_adjust(right=0.8)\n",
    "cbar_ax = fig.add_axes([0.85, 0.15, 0.05, 0.7])\n",
    "fig.colorbar(cax, cax=cbar_ax)\n"
   ]
  },
  {
   "cell_type": "code",
   "execution_count": 34,
   "metadata": {
    "collapsed": false
   },
   "outputs": [],
   "source": []
  },
  {
   "cell_type": "code",
   "execution_count": 35,
   "metadata": {
    "collapsed": false
   },
   "outputs": [],
   "source": [
    "#Evaluate whiskers"
   ]
  },
  {
   "cell_type": "code",
   "execution_count": 36,
   "metadata": {
    "collapsed": false
   },
   "outputs": [],
   "source": [
    "from scipy import ndimage\n",
    "\n",
    "def linescan(i,inds,rstep=None,interp=None,spline_order=1,plot=None,ax=None,label='line profile',color='red',frame=None):\n",
    "    y0,y1,x0,x1=inds\n",
    "    #print inds\n",
    "    if frame==None:\n",
    "        frame,fx,fy=frame_image(i)\n",
    "        x0+=fx\n",
    "        x1+=fx\n",
    "        y0+=fy\n",
    "        y1+=fy\n",
    "    elif frame=='done':\n",
    "        frame=i\n",
    "        \n",
    "    if rstep==None:\n",
    "        rstep=int(np.sqrt((y1-y0)**2+(x1-x0)**2))\n",
    "    x, y = np.linspace(x0, x1, rstep), np.linspace(y0, y1, rstep)\n",
    "    \n",
    "    if interp==None:\n",
    "        li = frame[x.astype(np.int), y.astype(np.int)]\n",
    "    else:\n",
    "        li = ndimage.map_coordinates(i, np.vstack((x,y)), order=spline_order, mode=interp)    \n",
    "    if plot=='single':\n",
    "        fig, axes = plt.subplots(nrows=2)\n",
    "        axes[0].imshow(frame)\n",
    "        axes[0].plot([y0, y1], [x0, x1], 'ro-') \n",
    "        axes[1].plot(li,color=color)\n",
    "    if plot=='multi':\n",
    "        axes=ax\n",
    "        axes[1].plot(li,label=label,color=color) \n",
    "        axes[0].plot([y0, y1], [x0, x1], linestyle='-',color=color)\n",
    "        axes[0].plot([y0],[x0], 'ro',color='blue')\n",
    "    return li\n",
    "\n",
    "def gaussian2(x, a1,b1,c1, a2,b2,c2, d):\n",
    "   val = a1*np.exp(-(x - b1)**2 / (2*c1**2)) + a2*np.exp(-(x - b2)**2 / (2*c2**2)) + d\n",
    "   return val\n",
    "\n",
    "def gaussian3(x, a1,b1,c1, a2,b2,c2, a3,b3,c3, d):\n",
    "   val = a1*np.exp(-(x - b1)**2 / (2*c1**2)) + a2*np.exp(-(x - b2)**2 / (2*c2**2)) + a3*np.exp(-(x - b3)**2 / (2*c3**2)) + d\n",
    "   return val\n",
    "\n",
    "def gaussian4(x, a1,b1,c1, a2,b2,c2, a3,b3,c3, a4,b4,c4, d):\n",
    "   val = a1*np.exp(-(x - b1)**2 / (2*c1**2)) + a2*np.exp(-(x - b2)**2 / (2*c2**2)) + a3*np.exp(-(x - b3)**2 / (2*c3**2)) + a4*np.exp(-(x - b4)**2 / (2*c4**2)) + d\n",
    "   return val \n",
    "\n",
    "def linear(x,a,b):\n",
    "    val=a+b*x\n",
    "    return val"
   ]
  },
  {
   "cell_type": "code",
   "execution_count": 37,
   "metadata": {
    "collapsed": false
   },
   "outputs": [
    {
     "ename": "ImportError",
     "evalue": "No module named skimage.transform",
     "output_type": "error",
     "traceback": [
      "\u001b[1;31m---------------------------------------------------------------------------\u001b[0m\n\u001b[1;31mImportError\u001b[0m                               Traceback (most recent call last)",
      "\u001b[1;32m<ipython-input-37-c5d8b4d5bddd>\u001b[0m in \u001b[0;36m<module>\u001b[1;34m()\u001b[0m\n\u001b[1;32m----> 1\u001b[1;33m \u001b[1;32mfrom\u001b[0m \u001b[0mskimage\u001b[0m\u001b[1;33m.\u001b[0m\u001b[0mtransform\u001b[0m \u001b[1;32mimport\u001b[0m \u001b[0mrotate\u001b[0m\u001b[1;33m\u001b[0m\u001b[0m\n\u001b[0m\u001b[0;32m      2\u001b[0m \u001b[1;32mdef\u001b[0m \u001b[0mbroad_linescan\u001b[0m\u001b[1;33m(\u001b[0m\u001b[0mimage\u001b[0m\u001b[1;33m,\u001b[0m\u001b[0mangle\u001b[0m\u001b[1;33m,\u001b[0m\u001b[0mcenter\u001b[0m\u001b[1;33m,\u001b[0m\u001b[0mframelength\u001b[0m\u001b[1;33m,\u001b[0m\u001b[0mframewidth\u001b[0m\u001b[1;33m,\u001b[0m\u001b[0mbackgrounderr\u001b[0m\u001b[1;33m=\u001b[0m\u001b[0mNone\u001b[0m\u001b[1;33m,\u001b[0m\u001b[0mplot\u001b[0m\u001b[1;33m=\u001b[0m\u001b[0mFalse\u001b[0m\u001b[1;33m,\u001b[0m\u001b[0mlog\u001b[0m\u001b[1;33m=\u001b[0m\u001b[0mFalse\u001b[0m\u001b[1;33m,\u001b[0m\u001b[0mmode\u001b[0m\u001b[1;33m=\u001b[0m\u001b[1;34m'mean'\u001b[0m\u001b[1;33m)\u001b[0m\u001b[1;33m:\u001b[0m\u001b[1;33m\u001b[0m\u001b[0m\n\u001b[0;32m      3\u001b[0m     \u001b[0mrot\u001b[0m\u001b[1;33m=\u001b[0m\u001b[0mrotate\u001b[0m\u001b[1;33m(\u001b[0m\u001b[0mimage\u001b[0m\u001b[1;33m,\u001b[0m \u001b[0mangle\u001b[0m\u001b[1;33m,\u001b[0m \u001b[0mresize\u001b[0m\u001b[1;33m=\u001b[0m\u001b[0mFalse\u001b[0m\u001b[1;33m,\u001b[0m \u001b[0mcenter\u001b[0m\u001b[1;33m=\u001b[0m\u001b[0mcenter\u001b[0m\u001b[1;33m,\u001b[0m \u001b[0mpreserve_range\u001b[0m\u001b[1;33m=\u001b[0m\u001b[0mTrue\u001b[0m\u001b[1;33m)\u001b[0m\u001b[1;33m\u001b[0m\u001b[0m\n\u001b[0;32m      4\u001b[0m     \u001b[0mframelength\u001b[0m\u001b[1;33m=\u001b[0m\u001b[0mint\u001b[0m\u001b[1;33m(\u001b[0m\u001b[0mframelength\u001b[0m\u001b[1;33m)\u001b[0m\u001b[1;33m\u001b[0m\u001b[0m\n\u001b[0;32m      5\u001b[0m     \u001b[1;32mif\u001b[0m \u001b[0mplot\u001b[0m\u001b[1;33m==\u001b[0m\u001b[0mTrue\u001b[0m\u001b[1;33m:\u001b[0m\u001b[1;33m\u001b[0m\u001b[0m\n",
      "\u001b[1;31mImportError\u001b[0m: No module named skimage.transform"
     ]
    }
   ],
   "source": [
    "from skimage.transform import rotate\n",
    "def broad_linescan(image,angle,center,framelength,framewidth,backgrounderr=None,plot=False,log=False,mode='mean'):\n",
    "    rot=rotate(image, angle, resize=False, center=center, preserve_range=True)\n",
    "    framelength=int(framelength)\n",
    "    if plot==True:\n",
    "        plt.figure()\n",
    "        ax11=plt.subplot(121)\n",
    "        plt.imshow(image,vmin=0, vmax=np.amax(image))\n",
    "        ax11.set_xticks([0,1000,2000])\n",
    "        ax11.set_yticks([0,1000,2000])\n",
    "        if log==True:\n",
    "            plt.imshow(image, norm=LogNorm(vmin=1, vmax=np.amax(image)))\n",
    "        plt.colorbar(shrink=0.7)\n",
    "        plt.scatter(center[0],center[1],color='deeppink')\n",
    "        plt.plot([center[0],center[0]+framelength*np.cos(angle*2.*np.pi/360.)],[center[1],\\\n",
    "        center[1]+framelength*np.sin(angle*2.*np.pi/360.)],\\\n",
    "        linewidth=1,label='Lineprofile',color='gold')\n",
    "        ax12=plt.subplot(122)\n",
    "        plt.imshow(rot,vmin=0, vmax=np.amax(image))\n",
    "        gca().add_patch(Rectangle((center[0],center[1]-framewidth//2), framelength, framewidth, facecolor='none', edgecolor='green'))\n",
    "        #plt.axvspan(center[1]-framewidth//2, center[1]+framewidth//2, \\\n",
    "        #ymin=center[0], ymax=center[0]+framelength, facecolor='g',alpha=0.5,zorder=10)\n",
    "        ax12.set_xticks([0,1000,2000])\n",
    "        ax12.set_yticks([0,1000,2000])\n",
    "        if log==True:\n",
    "            plt.imshow(rot, norm=LogNorm(vmin=1, vmax=np.amax(image)))\n",
    "        plt.colorbar(shrink=0.7)\n",
    "        plt.scatter(center[0], center[1],color='deeppink')\n",
    "        plt.tight_layout()\n",
    "\n",
    "    #print \"shape rot\",rot.shape\n",
    "    streakframe=rot[center[1]-framewidth//2:center[1]+framewidth//2,center[0]:center[0]+framelength]\n",
    "    if streakframe.shape[1]!=framelength:\n",
    "        print \"Framelength:\",framelength\n",
    "        print \"Streakframe:\",len(streakframe)\n",
    "        streakframe=rot[center[1]-framewidth//2:center[1]+framewidth//2,center[0]:center[0]+framelength+1]\n",
    "        print \"Streakframe:\",len(streakframe)\n",
    "    \n",
    "    if backgrounderr!=None:\n",
    "        roterr=rotate(backgrounderr, angle, resize=False, center=center, preserve_range=True)\n",
    "        errframe=roterr[center[1]-framewidth//2:center[1]+framewidth//2,center[0]:center[0]+framelength]\n",
    "        if streakframe.shape[1]!=framelength:\n",
    "            errframe=roterr[center[1]-framewidth//2:center[1]+framewidth//2,center[0]:center[0]+framelength+1]\n",
    "    #center[0]:center[0]+framelength\n",
    "    #print \"Framelength\", framelength\n",
    "    #print \"coordinates to cut out\",center[0],center[0]+framelength\n",
    "    print \"Average lineprofile over rectangle of shape\", streakframe.shape\n",
    "    if mode=='mean':\n",
    "        meanline=np.mean(streakframe,axis=0)\n",
    "        if backgrounderr!=None:\n",
    "            bgerr=np.sqrt(np.sum(errframe**2.,axis=0))/np.sqrt(framewidth)\n",
    "            err=np.sqrt(meanline+bgerr**2.)\n",
    "    elif mode=='sum':\n",
    "        meanline=np.sum(streakframe,axis=0)\n",
    "        if backgrounderr!=None:\n",
    "            bgerr=np.sqrt(np.sum(errframe**2.,axis=0))\n",
    "            print \"Bgerr:\", np.mean(bgerr)\n",
    "            err=np.sqrt(meanline+bgerr**2.)\n",
    "            print \"Poisson err:\", np.mean(np.sqrt(abs(meanline)))\n",
    "            #print \"Error total\", np.mean(err)\n",
    "    if plot=='section':\n",
    "        fig=plt.figure()\n",
    "        ax3 = fig.add_subplot(111)\n",
    "        sec=ax3.imshow(streakframe,vmin=0, vmax=np.amax(image))\n",
    "        ax3.spines['top'].set_color('green')\n",
    "        ax3.spines['bottom'].set_color('green')\n",
    "        ax3.spines['left'].set_color('green')\n",
    "        ax3.spines['right'].set_color('green')\n",
    "        ax3.set_xticklabels([])\n",
    "        ax3.set_yticklabels([])\n",
    "        if log==True:\n",
    "            sec=ax3.imshow(streakframe, norm=LogNorm(vmin=1, vmax=1e14))\n",
    "        #fig.colorbar(sec)\n",
    "    if plot==True:\n",
    "        fig=plt.figure()\n",
    "        ax3 = fig.add_subplot(111)\n",
    "        im_frame=ax3.imshow(streakframe,vmin=0, vmax=np.amax(image))\n",
    "        ax3.spines['top'].set_color('green')\n",
    "        ax3.spines['bottom'].set_color('green')\n",
    "        ax3.spines['left'].set_color('green')\n",
    "        ax3.spines['right'].set_color('green')\n",
    "        ax3.set_xticklabels([])\n",
    "        ax3.set_yticklabels([])\n",
    "        if log==True:\n",
    "            im_frame=ax3.imshow(streakframe, norm=LogNorm(vmin=1, vmax=1e8))\n",
    "        fig.colorbar(im_frame)\n",
    "        fig2=plt.figure()\n",
    "        ax4 = fig2.add_subplot(111)\n",
    "        if backgrounderr!=None:\n",
    "            #plt.errorbar(np.arange(framelength), meanline, yerr=err,color='black')\n",
    "            plt.fill_between(np.arange(framelength), meanline+err,meanline-err,linewidth=0,color='b')\n",
    "            plt.fill_between(np.arange(framelength), meanline+np.sqrt(meanline),meanline-np.sqrt(meanline),linewidth=0,color='g')\n",
    "        #plt.ylim([0.0,200.0])\n",
    "        \n",
    "        plt.plot(np.arange(len(rot[center[1],center[0]:center[0]+framelength+1])),rot[center[1],center[0]:center[0]+framelength+1]*framewidth,\\\n",
    "                 color='black',label='1 pixel linescan multiplied by '+\\\n",
    "                 str(int(framewidth)))\n",
    "        plt.plot(np.arange(framelength),meanline,color='green',label=str(int(framewidth))+' pixel linescan')\n",
    "        plt.ticklabel_format(style='sci', axis='y', scilimits=(0,0))\n",
    "        plt.ylabel('I in ADU')\n",
    "        plt.xlabel('q in 1/m')\n",
    "        plt.xscale('log')\n",
    "        plt.yscale('log')\n",
    "        plt.legend(loc=3)\n",
    "        \n",
    "    if backgrounderr==None:\n",
    "        return meanline\n",
    "    else:\n",
    "        return meanline,err"
   ]
  },
  {
   "cell_type": "code",
   "execution_count": 38,
   "metadata": {
    "collapsed": false
   },
   "outputs": [
    {
     "ename": "NameError",
     "evalue": "name 'trapezoiddiffr1d' is not defined",
     "output_type": "error",
     "traceback": [
      "\u001b[1;31m---------------------------------------------------------------------------\u001b[0m\n\u001b[1;31mNameError\u001b[0m                                 Traceback (most recent call last)",
      "\u001b[1;32m<ipython-input-38-a9d0aafeede9>\u001b[0m in \u001b[0;36m<module>\u001b[1;34m()\u001b[0m\n\u001b[0;32m      4\u001b[0m \u001b[1;31m#%matplotlib qt\u001b[0m\u001b[1;33m\u001b[0m\u001b[1;33m\u001b[0m\u001b[0m\n\u001b[0;32m      5\u001b[0m \u001b[1;33m\u001b[0m\u001b[0m\n\u001b[1;32m----> 6\u001b[1;33m \u001b[0mim\u001b[0m\u001b[1;33m=\u001b[0m\u001b[0mtrapezoiddiffr1d\u001b[0m\u001b[1;33m\u001b[0m\u001b[0m\n\u001b[0m\u001b[0;32m      7\u001b[0m \u001b[0mim\u001b[0m\u001b[1;33m[\u001b[0m\u001b[1;33m:\u001b[0m\u001b[1;33m,\u001b[0m\u001b[1;36m0\u001b[0m\u001b[1;33m:\u001b[0m\u001b[0mlen\u001b[0m\u001b[1;33m(\u001b[0m\u001b[0mim\u001b[0m\u001b[1;33m)\u001b[0m\u001b[1;33m//\u001b[0m\u001b[1;36m2\u001b[0m\u001b[1;33m]\u001b[0m\u001b[1;33m=\u001b[0m\u001b[1;36m0.\u001b[0m\u001b[1;33m\u001b[0m\u001b[0m\n\u001b[0;32m      8\u001b[0m \u001b[1;33m\u001b[0m\u001b[0m\n",
      "\u001b[1;31mNameError\u001b[0m: name 'trapezoiddiffr1d' is not defined"
     ]
    }
   ],
   "source": [
    "#-------trapezoid find whisker\n",
    "\n",
    "#------------make vertical linescans-----------------\n",
    "#%matplotlib qt\n",
    "\n",
    "im=trapezoiddiffr1d\n",
    "im[:,0:len(im)//2]=0.\n",
    "\n",
    "fig, axes = plt.subplots(nrows=2)\n",
    "axes[0].imshow(log(im))\n",
    "\n",
    "gauss4p0=[2500.,1032.,8.,400.,1018.,40.,400.,895.,15.,200.,1150.,30.,20.]\n",
    "gauss2p0=[1500.,900.,20.,1500.,1050.,30.,0.]\n",
    "gauss3p0=[3e10,210.,5.,7e10,250.,5.,3e10,290.,5.,0.]\n",
    "x=np.linspace(len(im)//2+10,310,30)\n",
    "yaxis=np.arange(len(im))\n",
    "gausspararray=np.ones((len(gauss3p0),len(x)))*np.nan\n",
    "gausserrarray=np.ones((len(gauss3p0),len(x)))*np.nan\n",
    "\n",
    "fitrange=np.array([10.,500.])\n",
    "\n",
    "\n",
    "for i in np.arange(len(x)):\n",
    "#for i in np.arange(2):\n",
    "\n",
    "    #print x[i]\n",
    "    line=linescan(im,[x[i],x[i],0,len(im)],spline_order=5,plot='multi',interp='nearest',ax=axes,color='blue',label=str(x[i]),frame='done')\n",
    "    #file=open(path+'testverticalline.txt','w+')\n",
    "    #for l in range(len(line)):\n",
    "    #     file.write(str(l)+'\\t'+str(line[l])+'\\n')\n",
    "    #file.close()\n",
    "    try:\n",
    "        if i==0:\n",
    "            gauss4par,gauss4cov=curve_fit(gaussian3,yaxis[fitrange[0]:fitrange[1]],line[fitrange[0]:fitrange[1]],p0=gauss3p0)\n",
    "        else:\n",
    "            #print i\n",
    "            if np.isnan(gausspararray[0,i-1]):\n",
    "                print \"Previous line didn't fit\"\n",
    "                gauss4par,gauss4cov=curve_fit(gaussian3,yaxis[fitrange[0]:fitrange[1]],line[fitrange[0]:fitrange[1]],p0=gauss3p0)\n",
    "            else:\n",
    "                nextpar=gausspararray[:,i-1]\n",
    "                nextpar[1]-=8.\n",
    "                nextpar[7]+=8.\n",
    "                gauss4par,gauss4cov=curve_fit(gaussian3,yaxis[fitrange[0]:fitrange[1]],line[fitrange[0]:fitrange[1]],p0=nextpar)\n",
    "                #gauss4par,gauss4cov=curve_fit(gaussian3,yaxis[fitrange[0]:fitrange[1]],line[fitrange[0]:fitrange[1]],p0=gausspararray[:,i-1])\n",
    "        axes[1].plot(yaxis,gaussian3(yaxis,*gauss4par),'r--')\n",
    "        axes[1].plot(yaxis,gaussian3(yaxis,*gauss3p0),'k--')\n",
    "        \n",
    "        gausspararray[:,i]=gauss4par\n",
    "        #print \"Gauss4par:\",gauss4par\n",
    "        gausserrarray[:,i]=np.sqrt(np.diag(gauss4cov))\n",
    "        #axes[0].plot([x[i]],[gauss4par[1]], 'ro',color='green')\n",
    "        #axes[0].plot([x[i]],[gauss4par[4]], 'ro',color='yellow')\n",
    "        #axes[0].plot([x[i]],[gauss4par[7]], 'ro',color='red')\n",
    "    except RuntimeError:\n",
    "        print x[i], 'did not fit'\n",
    "#    print gauss3par\n",
    "axes[1].axvline(fitrange[0], linestyle='--', color='k')\n",
    "axes[1].axvline(fitrange[1], linestyle='--', color='k')\n",
    "#plt.legend()\n",
    "\n",
    "#print 'Example parameters for x=', x[4], ':', gauss4pararray[:,4]\n",
    "\n",
    "#print gausspararray\n",
    "\n",
    "plt.figure()\n",
    "plt.subplot(141)\n",
    "plt.scatter(x,gausspararray[1,:])\n",
    "plt.errorbar(x,gausspararray[1,:],yerr=gausserrarray[1,:],linestyle='None')\n",
    "plt.subplot(142)\n",
    "plt.scatter(x,gausspararray[4,:])\n",
    "plt.errorbar(x,gausspararray[4,:],yerr=gausserrarray[4,:],linestyle='None')\n",
    "plt.subplot(143)\n",
    "plt.scatter(x,gausspararray[7,:])\n",
    "plt.errorbar(x,gausspararray[7,:],yerr=gausserrarray[7,:],linestyle='None')\n"
   ]
  },
  {
   "cell_type": "code",
   "execution_count": 39,
   "metadata": {
    "collapsed": false
   },
   "outputs": [
    {
     "ename": "NameError",
     "evalue": "name 'plt' is not defined",
     "output_type": "error",
     "traceback": [
      "\u001b[1;31m---------------------------------------------------------------------------\u001b[0m\n\u001b[1;31mNameError\u001b[0m                                 Traceback (most recent call last)",
      "\u001b[1;32m<ipython-input-39-bef5ee35af71>\u001b[0m in \u001b[0;36m<module>\u001b[1;34m()\u001b[0m\n\u001b[0;32m     23\u001b[0m     \u001b[1;32mprint\u001b[0m \u001b[1;34m\"Angle ang=\"\u001b[0m\u001b[1;33m,\u001b[0m \u001b[1;34m'%.2f'\u001b[0m \u001b[1;33m%\u001b[0m \u001b[0mang\u001b[0m\u001b[1;33m,\u001b[0m \u001b[1;34m'°'\u001b[0m\u001b[1;33m\u001b[0m\u001b[0m\n\u001b[0;32m     24\u001b[0m     \u001b[1;32mreturn\u001b[0m \u001b[0mstreakpar\u001b[0m\u001b[1;33m[\u001b[0m\u001b[1;36m0\u001b[0m\u001b[1;33m]\u001b[0m\u001b[1;33m,\u001b[0m \u001b[0mstreakerr\u001b[0m\u001b[1;33m[\u001b[0m\u001b[1;36m0\u001b[0m\u001b[1;33m]\u001b[0m\u001b[1;33m,\u001b[0m \u001b[0mstreakpar\u001b[0m\u001b[1;33m[\u001b[0m\u001b[1;36m1\u001b[0m\u001b[1;33m]\u001b[0m\u001b[1;33m,\u001b[0m \u001b[0mstreakerr\u001b[0m\u001b[1;33m[\u001b[0m\u001b[1;36m1\u001b[0m\u001b[1;33m]\u001b[0m\u001b[1;33m,\u001b[0m\u001b[0mang\u001b[0m\u001b[1;33m\u001b[0m\u001b[0m\n\u001b[1;32m---> 25\u001b[1;33m \u001b[0mplt\u001b[0m\u001b[1;33m.\u001b[0m\u001b[0mimshow\u001b[0m\u001b[1;33m(\u001b[0m\u001b[0mnp\u001b[0m\u001b[1;33m.\u001b[0m\u001b[0mlog\u001b[0m\u001b[1;33m(\u001b[0m\u001b[0mim\u001b[0m\u001b[1;33m)\u001b[0m\u001b[1;33m)\u001b[0m\u001b[1;33m\u001b[0m\u001b[0m\n\u001b[0m\u001b[0;32m     26\u001b[0m \u001b[0mplt\u001b[0m\u001b[1;33m.\u001b[0m\u001b[0mcolorbar\u001b[0m\u001b[1;33m(\u001b[0m\u001b[1;33m)\u001b[0m\u001b[1;33m\u001b[0m\u001b[0m\n\u001b[0;32m     27\u001b[0m \u001b[1;32mprint\u001b[0m \u001b[1;34m'Lower streak:'\u001b[0m\u001b[1;33m\u001b[0m\u001b[0m\n",
      "\u001b[1;31mNameError\u001b[0m: name 'plt' is not defined"
     ]
    }
   ],
   "source": [
    "#----------fit linear function that describes the streak position --------------\n",
    "#%matplotlib qt\n",
    "def fit_streak_linear(x,y,yerr,upper_constr=None,lower_constr=None,color='red'):\n",
    "    streak=y\n",
    "    xstreak=x\n",
    "    streakerr=yerr\n",
    "    if upper_constr!=None:\n",
    "        streak=streak[streak<upper_constr]\n",
    "        xstreak=xstreak[streak<upper_constr]\n",
    "        streakerr=streakerr[streak<upper_constr]\n",
    "    if lower_constr!=None:\n",
    "        streak=streak[streak>lower_constr]\n",
    "        xstreak=xstreak[streak>lower_constr]\n",
    "        streakerr=streakerr[streak>lower_constr]\n",
    "    plt.scatter(xstreak,streak)\n",
    "    plt.errorbar(xstreak,streak,streakerr,linestyle='None')\n",
    "    streakpar,streakcov=curve_fit(linear,xstreak,streak,sigma=streakerr,p0=[1000.,-1.0])\n",
    "    streakerr=np.sqrt(np.diag(streakcov))\n",
    "    plt.plot(np.arange(2047),linear(np.arange(2047),*streakpar),color=color)\n",
    "    print \"Offset a=\", streakpar[0], '+/-', streakerr[0]\n",
    "    print \"Slope b=\", streakpar[1], '+/-', streakerr[1]\n",
    "    ang=(np.arctan(streakpar[1])/(2.*np.pi)*360.)\n",
    "    print \"Angle ang=\", '%.2f' % ang, '°'\n",
    "    return streakpar[0], streakerr[0], streakpar[1], streakerr[1],ang\n",
    "plt.imshow(np.log(im))\n",
    "plt.colorbar()\n",
    "print 'Lower streak:'\n",
    "al,aerrl,bl,berrl,angl=fit_streak_linear(x,gausspararray[7,:],gausserrarray[7,:],color='red')\n",
    "#print 'Lower streak:'\n",
    "#al,aerrl,bl,berrl,angl=fit_streak_linear(x,gausspararray[10,:],gausserrarray[10,:],lower_constr=1100.)\n",
    "print 'Horizontal streak:'\n",
    "ah,aerrh,bh,berrh,angh=fit_streak_linear(x,gausspararray[4,:],gausserrarray[4,:],color='yellow')\n",
    "\n",
    "print 'Upper streak:'\n",
    "au,aerru,bu,berru,angu=fit_streak_linear(x,gausspararray[1,:],gausserrarray[1,:],color='green')\n",
    "\n",
    "plt.xlim([0,600])\n",
    "plt.ylim([0,600])\n",
    "\n",
    "trapezoid_angle=[angl,angu,angh]\n",
    "\n",
    "q0=[len(im)//2,len(im)//2]\n",
    "print \"q0=\",q0"
   ]
  },
  {
   "cell_type": "code",
   "execution_count": 40,
   "metadata": {
    "collapsed": false
   },
   "outputs": [
    {
     "ename": "NameError",
     "evalue": "name 'q0' is not defined",
     "output_type": "error",
     "traceback": [
      "\u001b[1;31m---------------------------------------------------------------------------\u001b[0m\n\u001b[1;31mNameError\u001b[0m                                 Traceback (most recent call last)",
      "\u001b[1;32m<ipython-input-40-415eb6cb35bd>\u001b[0m in \u001b[0;36m<module>\u001b[1;34m()\u001b[0m\n\u001b[1;32m----> 1\u001b[1;33m \u001b[0mq0\u001b[0m\u001b[1;33m=\u001b[0m\u001b[0mlist\u001b[0m\u001b[1;33m(\u001b[0m\u001b[0mq0\u001b[0m\u001b[1;33m)\u001b[0m\u001b[1;33m\u001b[0m\u001b[0m\n\u001b[0m\u001b[0;32m      2\u001b[0m \u001b[0mq0\u001b[0m\u001b[1;33m[\u001b[0m\u001b[1;36m0\u001b[0m\u001b[1;33m]\u001b[0m\u001b[1;33m=\u001b[0m\u001b[0mint\u001b[0m\u001b[1;33m(\u001b[0m\u001b[0mq0\u001b[0m\u001b[1;33m[\u001b[0m\u001b[1;36m0\u001b[0m\u001b[1;33m]\u001b[0m\u001b[1;33m)\u001b[0m\u001b[1;33m\u001b[0m\u001b[0m\n\u001b[0;32m      3\u001b[0m \u001b[0mq0\u001b[0m\u001b[1;33m[\u001b[0m\u001b[1;36m1\u001b[0m\u001b[1;33m]\u001b[0m\u001b[1;33m=\u001b[0m\u001b[0mint\u001b[0m\u001b[1;33m(\u001b[0m\u001b[0mq0\u001b[0m\u001b[1;33m[\u001b[0m\u001b[1;36m1\u001b[0m\u001b[1;33m]\u001b[0m\u001b[1;33m)\u001b[0m\u001b[1;33m\u001b[0m\u001b[0m\n\u001b[0;32m      4\u001b[0m \u001b[1;33m\u001b[0m\u001b[0m\n\u001b[0;32m      5\u001b[0m \u001b[0mwidthu\u001b[0m\u001b[1;33m=\u001b[0m\u001b[1;36m10.\u001b[0m\u001b[1;33m\u001b[0m\u001b[0m\n",
      "\u001b[1;31mNameError\u001b[0m: name 'q0' is not defined"
     ]
    }
   ],
   "source": [
    "q0=list(q0)\n",
    "q0[0]=int(q0[0])\n",
    "q0[1]=int(q0[1])\n",
    "\n",
    "widthu=10.\n",
    "widthh=5.\n",
    "widthl=10.\n",
    "\n",
    "lengthu=len(im)//2\n",
    "lengthl=len(im)//2\n",
    "lengthh=len(im)//2\n"
   ]
  },
  {
   "cell_type": "code",
   "execution_count": 41,
   "metadata": {
    "collapsed": false
   },
   "outputs": [
    {
     "ename": "NameError",
     "evalue": "name 'angl' is not defined",
     "output_type": "error",
     "traceback": [
      "\u001b[1;31m---------------------------------------------------------------------------\u001b[0m\n\u001b[1;31mNameError\u001b[0m                                 Traceback (most recent call last)",
      "\u001b[1;32m<ipython-input-41-23ff9e2a5483>\u001b[0m in \u001b[0;36m<module>\u001b[1;34m()\u001b[0m\n\u001b[1;32m----> 1\u001b[1;33m \u001b[1;32mprint\u001b[0m \u001b[0mangl\u001b[0m\u001b[1;33m,\u001b[0m \u001b[0mtrapezoid_angle\u001b[0m\u001b[1;33m[\u001b[0m\u001b[1;36m0\u001b[0m\u001b[1;33m]\u001b[0m\u001b[1;33m\u001b[0m\u001b[0m\n\u001b[0m",
      "\u001b[1;31mNameError\u001b[0m: name 'angl' is not defined"
     ]
    }
   ],
   "source": [
    "print angl, trapezoid_angle[0]"
   ]
  },
  {
   "cell_type": "code",
   "execution_count": 42,
   "metadata": {
    "collapsed": false
   },
   "outputs": [
    {
     "ename": "NameError",
     "evalue": "name 'broad_linescan' is not defined",
     "output_type": "error",
     "traceback": [
      "\u001b[1;31m---------------------------------------------------------------------------\u001b[0m\n\u001b[1;31mNameError\u001b[0m                                 Traceback (most recent call last)",
      "\u001b[1;32m<ipython-input-42-85a770672921>\u001b[0m in \u001b[0;36m<module>\u001b[1;34m()\u001b[0m\n\u001b[0;32m      2\u001b[0m \u001b[1;33m\u001b[0m\u001b[0m\n\u001b[0;32m      3\u001b[0m \u001b[1;32mprint\u001b[0m \u001b[1;34m'lower:'\u001b[0m\u001b[1;33m\u001b[0m\u001b[0m\n\u001b[1;32m----> 4\u001b[1;33m \u001b[0mbroadline\u001b[0m\u001b[1;33m=\u001b[0m\u001b[0mbroad_linescan\u001b[0m\u001b[1;33m(\u001b[0m\u001b[0mim\u001b[0m\u001b[1;33m,\u001b[0m\u001b[0mtrapezoid_angle\u001b[0m\u001b[1;33m[\u001b[0m\u001b[1;36m0\u001b[0m\u001b[1;33m]\u001b[0m\u001b[1;33m,\u001b[0m\u001b[0mq0\u001b[0m\u001b[1;33m,\u001b[0m\u001b[0mlengthl\u001b[0m\u001b[1;33m,\u001b[0m\u001b[0mwidthl\u001b[0m\u001b[1;33m,\u001b[0m\u001b[0mplot\u001b[0m\u001b[1;33m=\u001b[0m\u001b[0mFalse\u001b[0m\u001b[1;33m,\u001b[0m\u001b[0mmode\u001b[0m\u001b[1;33m=\u001b[0m\u001b[1;34m'sum'\u001b[0m\u001b[1;33m,\u001b[0m\u001b[0mlog\u001b[0m\u001b[1;33m=\u001b[0m\u001b[0mTrue\u001b[0m\u001b[1;33m)\u001b[0m\u001b[1;33m\u001b[0m\u001b[0m\n\u001b[0m\u001b[0;32m      5\u001b[0m \u001b[1;33m\u001b[0m\u001b[0m\n\u001b[0;32m      6\u001b[0m \u001b[1;32mprint\u001b[0m \u001b[1;34m'upper:'\u001b[0m\u001b[1;33m\u001b[0m\u001b[0m\n",
      "\u001b[1;31mNameError\u001b[0m: name 'broad_linescan' is not defined"
     ]
    },
    {
     "name": "stdout",
     "output_type": "stream",
     "text": [
      "lower:\n"
     ]
    }
   ],
   "source": [
    "#trapezoid\n",
    "\n",
    "print 'lower:'\n",
    "broadline=broad_linescan(im,trapezoid_angle[0],q0,lengthl,widthl,plot=False,mode='sum',log=True)\n",
    "\n",
    "print 'upper:'\n",
    "broadline=broad_linescan(im,trapezoid_angle[1],q0,lengthu,widthu,plot=False,mode='sum',log=True)\n",
    "\n",
    "print 'horizontal'\n",
    "broadline=broad_linescan(im,trapezoid_angle[2],q0,lengthh,widthh,plot=True,mode='sum',log=True)"
   ]
  },
  {
   "cell_type": "code",
   "execution_count": 43,
   "metadata": {
    "collapsed": false
   },
   "outputs": [
    {
     "ename": "SyntaxError",
     "evalue": "invalid syntax (<ipython-input-43-63d559fd10bb>, line 3)",
     "output_type": "error",
     "traceback": [
      "\u001b[1;36m  File \u001b[1;32m\"<ipython-input-43-63d559fd10bb>\"\u001b[1;36m, line \u001b[1;32m3\u001b[0m\n\u001b[1;33m    7 8\u001b[0m\n\u001b[1;37m      ^\u001b[0m\n\u001b[1;31mSyntaxError\u001b[0m\u001b[1;31m:\u001b[0m invalid syntax\n"
     ]
    }
   ],
   "source": [
    "print len(diffpatterns_trapezoid), len(modes)\n",
    "print modes\n",
    "7 8\n",
    "['sharp_filled', 'erf_filled', 'supergauss_filled', 'sharp_front', 'erf_front', 'supergauss_front', '2d_flat']\n"
   ]
  },
  {
   "cell_type": "code",
   "execution_count": 44,
   "metadata": {
    "collapsed": false
   },
   "outputs": [
    {
     "ename": "NameError",
     "evalue": "name 'modes' is not defined",
     "output_type": "error",
     "traceback": [
      "\u001b[1;31m---------------------------------------------------------------------------\u001b[0m\n\u001b[1;31mNameError\u001b[0m                                 Traceback (most recent call last)",
      "\u001b[1;32m<ipython-input-44-51de647be3b3>\u001b[0m in \u001b[0;36m<module>\u001b[1;34m()\u001b[0m\n\u001b[0;32m      3\u001b[0m \u001b[1;31m#fig,axbroad=plt.subplots()\u001b[0m\u001b[1;33m\u001b[0m\u001b[1;33m\u001b[0m\u001b[0m\n\u001b[0;32m      4\u001b[0m \u001b[1;31m#fig2,axframe=plt.subplots()\u001b[0m\u001b[1;33m\u001b[0m\u001b[1;33m\u001b[0m\u001b[0m\n\u001b[1;32m----> 5\u001b[1;33m \u001b[1;32mfor\u001b[0m \u001b[0mm\u001b[0m \u001b[1;32min\u001b[0m \u001b[0mrange\u001b[0m\u001b[1;33m(\u001b[0m\u001b[0mlen\u001b[0m\u001b[1;33m(\u001b[0m\u001b[0mmodes\u001b[0m\u001b[1;33m)\u001b[0m\u001b[1;33m)\u001b[0m\u001b[1;33m:\u001b[0m\u001b[1;33m\u001b[0m\u001b[0m\n\u001b[0m\u001b[0;32m      6\u001b[0m \u001b[1;31m#for m in range(2):\u001b[0m\u001b[1;33m\u001b[0m\u001b[1;33m\u001b[0m\u001b[0m\n\u001b[0;32m      7\u001b[0m     \u001b[1;32mprint\u001b[0m \u001b[0mmodes\u001b[0m\u001b[1;33m[\u001b[0m\u001b[0mm\u001b[0m\u001b[1;33m]\u001b[0m\u001b[1;33m\u001b[0m\u001b[0m\n",
      "\u001b[1;31mNameError\u001b[0m: name 'modes' is not defined"
     ]
    }
   ],
   "source": [
    "trapezoid_broadlines=[]\n",
    "width=8.\n",
    "#fig,axbroad=plt.subplots()\n",
    "#fig2,axframe=plt.subplots()\n",
    "for m in range(len(modes)):\n",
    "#for m in range(2):\n",
    "    print modes[m]\n",
    "    #fig2.add_subplot()\n",
    "    broadline=broad_linescan(diffpatterns_trapezoid[m],trapezoid_angle[0],q0,lengthu,5.,plot='section',mode='sum',log=True)\n",
    "    trapezoid_broadlines.append(broadline)\n",
    "    plt.title(modes[m])\n",
    "    #xbroad.plot(broadline,label=modes[m])\n",
    "#plt.xscale('log')\n",
    "#plt.yscale('log')\n",
    "#axbroad.legend(loc=3)"
   ]
  },
  {
   "cell_type": "code",
   "execution_count": 45,
   "metadata": {
    "collapsed": false
   },
   "outputs": [
    {
     "ename": "NameError",
     "evalue": "name 'modes' is not defined",
     "output_type": "error",
     "traceback": [
      "\u001b[1;31m---------------------------------------------------------------------------\u001b[0m\n\u001b[1;31mNameError\u001b[0m                                 Traceback (most recent call last)",
      "\u001b[1;32m<ipython-input-45-09c070166972>\u001b[0m in \u001b[0;36m<module>\u001b[1;34m()\u001b[0m\n\u001b[1;32m----> 1\u001b[1;33m \u001b[1;32mfor\u001b[0m \u001b[0mm\u001b[0m \u001b[1;32min\u001b[0m \u001b[0mrange\u001b[0m\u001b[1;33m(\u001b[0m\u001b[0mlen\u001b[0m\u001b[1;33m(\u001b[0m\u001b[0mmodes\u001b[0m\u001b[1;33m)\u001b[0m\u001b[1;33m)\u001b[0m\u001b[1;33m:\u001b[0m\u001b[1;33m\u001b[0m\u001b[0m\n\u001b[0m\u001b[0;32m      2\u001b[0m     \u001b[0mplt\u001b[0m\u001b[1;33m.\u001b[0m\u001b[0mplot\u001b[0m\u001b[1;33m(\u001b[0m\u001b[0mtrapezoid_broadlines\u001b[0m\u001b[1;33m[\u001b[0m\u001b[0mm\u001b[0m\u001b[1;33m]\u001b[0m\u001b[1;33m,\u001b[0m \u001b[0mlabel\u001b[0m\u001b[1;33m=\u001b[0m\u001b[0mmodes\u001b[0m\u001b[1;33m[\u001b[0m\u001b[0mm\u001b[0m\u001b[1;33m]\u001b[0m\u001b[1;33m)\u001b[0m\u001b[1;33m\u001b[0m\u001b[0m\n\u001b[0;32m      3\u001b[0m \u001b[0mplt\u001b[0m\u001b[1;33m.\u001b[0m\u001b[0mxscale\u001b[0m\u001b[1;33m(\u001b[0m\u001b[1;34m'log'\u001b[0m\u001b[1;33m)\u001b[0m\u001b[1;33m\u001b[0m\u001b[0m\n\u001b[0;32m      4\u001b[0m \u001b[0mplt\u001b[0m\u001b[1;33m.\u001b[0m\u001b[0myscale\u001b[0m\u001b[1;33m(\u001b[0m\u001b[1;34m'log'\u001b[0m\u001b[1;33m)\u001b[0m\u001b[1;33m\u001b[0m\u001b[0m\n\u001b[0;32m      5\u001b[0m \u001b[0mplt\u001b[0m\u001b[1;33m.\u001b[0m\u001b[0mlegend\u001b[0m\u001b[1;33m(\u001b[0m\u001b[0mloc\u001b[0m\u001b[1;33m=\u001b[0m\u001b[1;36m3\u001b[0m\u001b[1;33m)\u001b[0m\u001b[1;33m\u001b[0m\u001b[0m\n",
      "\u001b[1;31mNameError\u001b[0m: name 'modes' is not defined"
     ]
    }
   ],
   "source": [
    "for m in range(len(modes)):\n",
    "    plt.plot(trapezoid_broadlines[m], label=modes[m])\n",
    "plt.xscale('log')\n",
    "plt.yscale('log')\n",
    "plt.legend(loc=3)\n",
    "plt.ylim([1e-30,1e14])"
   ]
  },
  {
   "cell_type": "code",
   "execution_count": 45,
   "metadata": {
    "collapsed": false
   },
   "outputs": [],
   "source": []
  }
 ],
 "metadata": {
  "anaconda-cloud": {},
  "kernelspec": {
   "display_name": "Python [Root]",
   "language": "python",
   "name": "Python [Root]"
  },
  "language_info": {
   "codemirror_mode": {
    "name": "ipython",
    "version": 3
   },
   "file_extension": ".py",
   "mimetype": "text/x-python",
   "name": "python",
   "nbconvert_exporter": "python",
   "pygments_lexer": "ipython3",
   "version": "3.5.2"
  }
 },
 "nbformat": 4,
 "nbformat_minor": 0
}
