{
 "cells": [
  {
   "cell_type": "markdown",
   "metadata": {
    "collapsed": true
   },
   "source": [
    "## Realistic features - to scale, in target coordinates"
   ]
  },
  {
   "cell_type": "code",
   "execution_count": 1,
   "metadata": {
    "collapsed": false
   },
   "outputs": [],
   "source": [
    "# import packages\n",
    "import numpy as np\n",
    "from matplotlib import pyplot as plt\n",
    "from matplotlib import ticker as mtick\n",
    "from scipy import special\n",
    "\n",
    "# switch on inline plotting\n",
    "%matplotlib inline\n",
    "\n",
    "# append path for loading own packages\n",
    "import sys\n",
    "sys.path.append(\"../packages\")\n",
    "\n",
    "# import own packages\n",
    "import edges\n",
    "import grating\n",
    "import copy\n",
    "from auxiliary import theta\n",
    "from auxiliary import evp\n",
    "from auxiliary import transpose_extent\n",
    "import auxiliary as aux\n",
    "import jitter\n",
    "import density\n",
    "import imaging as imgg\n",
    "from imaging import expand_coordinates\n",
    "from running import *"
   ]
  },
  {
   "cell_type": "markdown",
   "metadata": {},
   "source": [
    "# Measures / parameter set\n",
    "\n",
    "**pitch**: Horizontal feature pattern length (50 nm, 100 nm, 400 nm)\n",
    "\n",
    "**hfs**: Horizontal feature size (measured half height to half height, always 50 % of *pitch*)\n",
    "\n",
    "**vfs**: Vertical feature size (measured from asymptotic bottom to asymptotic top, same as *hfs*)"
   ]
  },
  {
   "cell_type": "code",
   "execution_count": 2,
   "metadata": {
    "collapsed": true
   },
   "outputs": [],
   "source": [
    "params = {}\n",
    "\n",
    "# Amplitude of jitter\n",
    "params['jitter_amplitude'] = 0e-9\n",
    "\n",
    "# Focus size (edge length) in m\n",
    "params['focus_size'] = 2e-6\n",
    "\n",
    "# Definitions: Laser coordinate range and resolution\n",
    "params['xres'] = 1024\n",
    "params['yres'] = 1024\n",
    "params['zres'] = 64\n",
    "\n",
    "# Smoothing\n",
    "params['nsigma']  = 2\n",
    "\n",
    "\n",
    "pitches =            [100e-9, 400e-9]\n",
    "jitter_wavelengths = [50e-9]\n",
    "sigmas =             [0e-9]\n",
    "tilts =              [0/180*np.pi, 30/180*np.pi]\n",
    "edge_angles =        [0, 30/180*np.pi]\n",
    "edge_types =         ['skewededge',]\n",
    "\n",
    "# Define behavior\n",
    "params['calc3d'] = False\n",
    "params['only_count'] = False\n",
    "params['validation_plot'] = True\n",
    "params['save_summed_density'] = True\n",
    "params['summed_density_plot'] = True\n",
    "params['outdir'] = \"../results/Scan8_Test\"\n",
    "\n",
    "# 3D density of silicon in electrons per m^3\n",
    "dens3_silicon = 7e29\n",
    "\n",
    "# 3D density of grating in electrons per m^3\n",
    "params['dens3_grating'] = dens3_silicon\n",
    "\n",
    "# 3D density of foil (without grating) in electrons per m^3\n",
    "params['dens3_foil'] = dens3_silicon\n",
    "\n",
    "# Number of electrons in a cell of full density\n",
    "params['nelectrons'] = 1\n",
    "#params['nelectrons'] = lambda :\\\n",
    "#    (evp(params['xmax']) - evp(params['xmin'])) / evp(params['xres']) *\\\n",
    "#    (evp(params['ymax']) - evp(params['ymin'])) / evp(params['yres']) *\\\n",
    "#    (evp(params['zmax']) - evp(params['zmin'])) / evp(params['zres']) *\\\n",
    "#     evp(params['dens3_foil'])"
   ]
  },
  {
   "cell_type": "code",
   "execution_count": 3,
   "metadata": {
    "collapsed": false
   },
   "outputs": [],
   "source": [
    "# Horizontal feature size\n",
    "def hfs_from_pitch(pitch, alpha):\n",
    "    return alpha * pitch\n",
    "\n",
    "# Vertical feature size\n",
    "def vfs_from_pitch(pitch, alpha):\n",
    "    return alpha * pitch\n",
    "\n",
    "def foil_thick_from_vfs(vfs):\n",
    "    return vfs\n",
    "\n",
    "def edge_width_from_vfs_etc(vfs, angle):\n",
    "    return np.tan(angle) * vfs\n",
    "\n",
    "def edge_from_edge_width_etc(edge_width, vfs, name):\n",
    "    if name == 'skewededge':\n",
    "        return Edge(edges.make_skewed_edge(edge_width, vfs), name)\n",
    "\n",
    "\n",
    "# Laser coordinate range\n",
    "def xmin_from_focus_size(focus_size):\n",
    "    return -0.5 * focus_size\n",
    "\n",
    "def xmax_from_focus_size(focus_size):\n",
    "    return  0.5 * focus_size\n",
    "\n",
    "def ymin_from_focus_size(focus_size):\n",
    "    return -0.5 * focus_size\n",
    "\n",
    "def ymax_from_focus_size(focus_size):\n",
    "    return  0.5 * focus_size\n",
    "\n",
    "def zmin_from_focus_size_etc(focus_size, vfs):\n",
    "    return -0.5 * focus_size - np.sqrt(2) * 1.5 * vfs\n",
    "\n",
    "def zmax_from_focus_size_etc(focus_size, foil_thick):\n",
    "    return  0.5 * focus_size + np.sqrt(2) * 1.5 * foil_thick\n",
    "\n",
    "\n",
    "# Laser coordinate extents (for plotting)\n",
    "def extent_laser_xy(xmin, xmax, ymin, ymax):\n",
    "    return [xmin, xmax, ymin, ymax]\n",
    "\n",
    "def extent_laser_xz(xmin, xmax, zmin, zmax):\n",
    "    return [xmin, xmax, zmin, zmax]\n",
    "\n",
    "def extent_laser_yz(ymin, ymax, zmin, zmax):\n",
    "    return [ymin, ymax, zmin, zmax]\n",
    "\n",
    "\n",
    "# Target coordinate range\n",
    "def xpmin_from_xmax(xmax):\n",
    "    return aux.rcoords2tcoords(xmax, 0, 0)[0]\n",
    "\n",
    "def xpmax_from_xmin(xmin):\n",
    "    return aux.rcoords2tcoords(xmin, 0, 0)[0]\n",
    "\n",
    "def ypmin_from_ymin(ymin):\n",
    "    return aux.rcoords2tcoords(0, ymin, 0)[1]\n",
    "\n",
    "def ypmax_from_ymax(ymax):\n",
    "    return aux.rcoords2tcoords(0, ymax, 0)[1]\n",
    "\n",
    "def zpmin_from_zmax(zmax):\n",
    "    return aux.rcoords2tcoords(0, 0, zmax)[2]\n",
    "\n",
    "def zpmax_from_zmin(zmin):\n",
    "    return aux.rcoords2tcoords(0, 0, zmin)[2]\n",
    "\n",
    "\n",
    "# Smoothing\n",
    "def sigmaxp_from_sigma(sigma):\n",
    "    return sigma\n",
    "\n",
    "def sigmayp_from_sigma(sigma):\n",
    "    return sigma\n",
    "\n",
    "def sigmax_from_sigmaxp(sigmaxp):\n",
    "    return np.sqrt(2)*sigmaxp\n",
    "\n",
    "def sigmay_from_sigmayp(sigmayp):\n",
    "    return sigmayp\n",
    "\n",
    "def pixelsize_from_xmax_etc(xmax, xmin, xres):\n",
    "    return (xmax-xmin)/xres\n",
    "\n",
    "def kernelx_from_sigmax_etc(sigmax, pixelsize, nsigma):\n",
    "    return imgg.gaussian_kernel(sigmax, 0, pixelsize, nsigma)\n",
    "\n",
    "def kernely_from_sigmay_etc(sigmay, pixelsize, nsigma):\n",
    "    return imgg.gaussian_kernel(0, sigmay, pixelsize, nsigma)"
   ]
  },
  {
   "cell_type": "code",
   "execution_count": 4,
   "metadata": {
    "collapsed": false
   },
   "outputs": [
    {
     "name": "stdout",
     "output_type": "stream",
     "text": [
      "1\n",
      "000nm-edgewidth_skewededge-edgetype_100nm-pitch_000nm-jampl_050nm-jwl_000nm-sigma_000deg-tilt_000deg-edgeangle\n",
      "x.size: 1024\n",
      "y.size: 1024\n",
      "kernelx_size: 1\n",
      "kernely_size: 1\n",
      "xnew.size: 1024\n",
      "ynew.size: 1024\n",
      "CPU times: user 25.2 s, sys: 2.44 s, total: 27.6 s\n",
      "Wall time: 27.9 s\n",
      "\n",
      "2\n",
      "029nm-edgewidth_skewededge-edgetype_100nm-pitch_000nm-jampl_050nm-jwl_000nm-sigma_000deg-tilt_030deg-edgeangle\n",
      "x.size: 1024\n",
      "y.size: 1024\n",
      "kernelx_size: 1\n",
      "kernely_size: 1\n",
      "xnew.size: 1024\n",
      "ynew.size: 1024\n",
      "CPU times: user 29.1 s, sys: 2.93 s, total: 32.1 s\n",
      "Wall time: 32.3 s\n",
      "\n",
      "3\n",
      "000nm-edgewidth_skewededge-edgetype_100nm-pitch_000nm-jampl_050nm-jwl_000nm-sigma_030deg-tilt_000deg-edgeangle\n",
      "x.size: 1024\n",
      "y.size: 1024\n",
      "kernelx_size: 1\n",
      "kernely_size: 1\n",
      "xnew.size: 1024\n",
      "ynew.size: 1024\n",
      "CPU times: user 25.3 s, sys: 2.96 s, total: 28.3 s\n",
      "Wall time: 28.5 s\n",
      "\n",
      "4\n",
      "029nm-edgewidth_skewededge-edgetype_100nm-pitch_000nm-jampl_050nm-jwl_000nm-sigma_030deg-tilt_030deg-edgeangle\n",
      "x.size: 1024\n",
      "y.size: 1024\n",
      "kernelx_size: 1\n",
      "kernely_size: 1\n",
      "xnew.size: 1024\n",
      "ynew.size: 1024\n",
      "CPU times: user 29.3 s, sys: 3.72 s, total: 33 s\n",
      "Wall time: 33.2 s\n",
      "\n",
      "5\n",
      "000nm-edgewidth_skewededge-edgetype_400nm-pitch_000nm-jampl_050nm-jwl_000nm-sigma_000deg-tilt_000deg-edgeangle\n",
      "x.size: 1024\n",
      "y.size: 1024\n",
      "kernelx_size: 1\n",
      "kernely_size: 1\n",
      "xnew.size: 1024\n",
      "ynew.size: 1024\n",
      "CPU times: user 25.1 s, sys: 3.22 s, total: 28.3 s\n",
      "Wall time: 28.6 s\n",
      "\n",
      "6\n",
      "115nm-edgewidth_skewededge-edgetype_400nm-pitch_000nm-jampl_050nm-jwl_000nm-sigma_000deg-tilt_030deg-edgeangle\n",
      "x.size: 1024\n",
      "y.size: 1024\n",
      "kernelx_size: 1\n",
      "kernely_size: 1\n",
      "xnew.size: 1024\n",
      "ynew.size: 1024\n",
      "CPU times: user 28.8 s, sys: 3.67 s, total: 32.4 s\n",
      "Wall time: 32.7 s\n",
      "\n",
      "7\n",
      "000nm-edgewidth_skewededge-edgetype_400nm-pitch_000nm-jampl_050nm-jwl_000nm-sigma_030deg-tilt_000deg-edgeangle\n",
      "x.size: 1024\n",
      "y.size: 1024\n",
      "kernelx_size: 1\n",
      "kernely_size: 1\n",
      "xnew.size: 1024\n",
      "ynew.size: 1024\n",
      "CPU times: user 25.3 s, sys: 3.08 s, total: 28.4 s\n",
      "Wall time: 28.7 s\n",
      "\n",
      "8\n",
      "115nm-edgewidth_skewededge-edgetype_400nm-pitch_000nm-jampl_050nm-jwl_000nm-sigma_030deg-tilt_030deg-edgeangle\n",
      "x.size: 1024\n",
      "y.size: 1024\n",
      "kernelx_size: 1\n",
      "kernely_size: 1\n",
      "xnew.size: 1024\n",
      "ynew.size: 1024\n",
      "CPU times: user 28.7 s, sys: 3.63 s, total: 32.3 s\n",
      "Wall time: 32.6 s\n",
      "\n",
      "Number of cases: 8\n"
     ]
    },
    {
     "data": {
      "image/png": "[encoded data removed]",
      "text/plain": [
       "<matplotlib.figure.Figure at 0x7f66593cef28>"
      ]
     },
     "metadata": {},
     "output_type": "display_data"
    },
    {
     "data": {
      "image/png": "[encoded data removed]",
      "text/plain": [
       "<matplotlib.figure.Figure at 0x7f6659199e10>"
      ]
     },
     "metadata": {},
     "output_type": "display_data"
    },
    {
     "data": {
      "image/png": "[encoded data removed]",
      "text/plain": [
       "<matplotlib.figure.Figure at 0x7f6658ecc4e0>"
      ]
     },
     "metadata": {},
     "output_type": "display_data"
    },
    {
     "data": {
      "image/png": "[encoded data removed]",
      "text/plain": [
       "<matplotlib.figure.Figure at 0x7f6658cf6b38>"
      ]
     },
     "metadata": {},
     "output_type": "display_data"
    },
    {
     "data": {
      "image/png": "[encoded data removed]",
      "text/plain": [
       "<matplotlib.figure.Figure at 0x7f6658a89240>"
      ]
     },
     "metadata": {},
     "output_type": "display_data"
    },
    {
     "data": {
      "image/png": "[encoded data removed]",
      "text/plain": [
       "<matplotlib.figure.Figure at 0x7f66588040f0>"
      ]
     },
     "metadata": {},
     "output_type": "display_data"
    },
    {
     "data": {
      "image/png": "[encoded data removed]",
      "text/plain": [
       "<matplotlib.figure.Figure at 0x7f66587b4390>"
      ]
     },
     "metadata": {},
     "output_type": "display_data"
    },
    {
     "data": {
      "image/png": "[encoded data removed]",
      "text/plain": [
       "<matplotlib.figure.Figure at 0x7f665828b208>"
      ]
     },
     "metadata": {},
     "output_type": "display_data"
    }
   ],
   "source": [
    "# Run parameter scan\n",
    "import itertools\n",
    "\n",
    "scanlist   = [pitches, jitter_wavelengths, sigmas, edge_types, tilts, edge_angles]\n",
    "\n",
    "def unpack_scantuple(params, t):\n",
    "    # Extract scan case parameters\n",
    "    params['pitch'] = t[0]\n",
    "    params['jitter_wavelength'] = t[1]\n",
    "    params['sigma'] = t[2]\n",
    "    params['edge_type'] = t[3]\n",
    "    params['tilt'] = t[4]\n",
    "    params['edge_angle'] = t[5]\n",
    "    \n",
    "    # Calculate dependent parameters\n",
    "    params['hfs'] =        hfs_from_pitch(params['pitch'], 0.5)\n",
    "    params['vfs'] =        vfs_from_pitch(params['pitch'], 0.5)\n",
    "    params['edge_width'] = edge_width_from_vfs_etc(params['vfs'], params['edge_angle'])\n",
    "    params['foil_thick'] = foil_thick_from_vfs(params['vfs'])\n",
    "    params['edge'] =       edge_from_edge_width_etc(params['edge_width'], params['vfs'], params['edge_type'])\n",
    "    \n",
    "    params['xmin'] =       xmin_from_focus_size(params['focus_size'])\n",
    "    params['xmax'] =       xmax_from_focus_size(params['focus_size'])\n",
    "    params['ymin'] =       ymin_from_focus_size(params['focus_size'])\n",
    "    params['ymax'] =       ymax_from_focus_size(params['focus_size'])\n",
    "    params['zmin'] =       zmin_from_focus_size_etc(params['focus_size'], params['vfs'])\n",
    "    params['zmax'] =       zmax_from_focus_size_etc(params['focus_size'], params['foil_thick'])\n",
    "    \n",
    "    params['extent_laser_xy'] = extent_laser_xy(params['xmin'], params['xmax'], params['ymin'], params['ymax'])\n",
    "    params['extent_laser_xz'] = extent_laser_xy(params['xmin'], params['xmax'], params['zmin'], params['zmax'])\n",
    "    params['extent_laser_yz'] = extent_laser_xy(params['ymin'], params['ymax'], params['zmin'], params['zmax'])\n",
    "\n",
    "    params['xpmin'] =      xpmin_from_xmax(params['xmax'])\n",
    "    params['xpmax'] =      xpmax_from_xmin(params['xmin'])\n",
    "    params['ypmin'] =      ypmin_from_ymin(params['ymin'])\n",
    "    params['ypmax'] =      ypmax_from_ymax(params['ymax'])\n",
    "    params['zpmin'] =      zpmin_from_zmax(params['zmax'])\n",
    "    params['zpmax'] =      zpmax_from_zmin(params['zmin'])\n",
    "\n",
    "    params['sigmaxp'] =    sigmaxp_from_sigma(params['sigma'])\n",
    "    params['sigmayp'] =    sigmayp_from_sigma(params['sigma'])\n",
    "    params['sigmax'] =     sigmax_from_sigmaxp(params['sigmaxp'])\n",
    "    params['sigmay'] =     sigmay_from_sigmayp(params['sigmayp'])\n",
    "    params['pixelsize'] =  pixelsize_from_xmax_etc(params['xmax'], params['xmin'], params['xres'])\n",
    "    params['kernelx'] =    kernelx_from_sigmax_etc(params['sigmax'], params['pixelsize'], params['nsigma'])\n",
    "    params['kernely'] =    kernely_from_sigmay_etc(params['sigmay'], params['pixelsize'], params['nsigma'])\n",
    "    \n",
    "count = 0\n",
    "for scantuple in itertools.product(*scanlist):\n",
    "    unpack_scantuple(params, scantuple)\n",
    "\n",
    "    # Make 1D laser coordinate arrays\n",
    "    params['x']  = np.linspace(params['xmin'],  params['xmax'],  params['xres'])\n",
    "    params['y']  = np.linspace(params['ymin'],  params['ymax'],  params['yres'])\n",
    "    params['z']  = np.linspace(params['zmin'],  params['zmax'],  params['zres'])\n",
    "    \n",
    "    # Make 1D target coordinate arrays\n",
    "    params['xp'] = np.linspace(params['xpmin'], params['xpmax'], params['xres'])\n",
    "    params['yp'] = np.linspace(params['ypmin'], params['ypmax'], params['yres'])\n",
    "    params['zp'] = np.linspace(params['zpmin'], params['zpmax'], params['zres'])\n",
    "\n",
    "    count += 1\n",
    "    print(count)\n",
    "    if not params['only_count']:\n",
    "        %time run(**params)\n",
    "        \n",
    "        print(\"\")\n",
    "\n",
    "print(\"Number of cases: {}\".format(count))"
   ]
  },
  {
   "cell_type": "markdown",
   "metadata": {},
   "source": [
    "Strange behavior - x and y axes seem swapped in the 3D array (?!)"
   ]
  }
 ],
 "metadata": {
  "anaconda-cloud": {},
  "kernelspec": {
   "display_name": "Python [Root]",
   "language": "python",
   "name": "Python [Root]"
  },
  "language_info": {
   "codemirror_mode": {
    "name": "ipython",
    "version": 3
   },
   "file_extension": ".py",
   "mimetype": "text/x-python",
   "name": "python",
   "nbconvert_exporter": "python",
   "pygments_lexer": "ipython3",
   "version": "3.5.2"
  }
 },
 "nbformat": 4,
 "nbformat_minor": 0
}
