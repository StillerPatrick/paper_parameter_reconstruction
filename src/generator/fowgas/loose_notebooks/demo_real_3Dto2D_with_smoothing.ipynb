{
 "cells": [
  {
   "cell_type": "code",
   "execution_count": 120,
   "metadata": {
    "collapsed": true
   },
   "outputs": [],
   "source": [
    "## Realistic features - to scale, in target coordinates"
   ]
  },
  {
   "cell_type": "code",
   "execution_count": 121,
   "metadata": {
    "collapsed": true
   },
   "outputs": [],
   "source": [
    "# import packages\n",
    "import numpy as np\n",
    "from matplotlib import pyplot as plt\n",
    "from matplotlib import ticker as mtick\n",
    "from scipy import special\n",
    "\n",
    "# append path for loading own packages\n",
    "import sys\n",
    "sys.path.append(\"../packages\")\n",
    "\n",
    "# switch on inline plotting\n",
    "%matplotlib inline"
   ]
  },
  {
   "cell_type": "markdown",
   "metadata": {},
   "source": [
    "### Measures / parameter set\n",
    "\n",
    "**pitch**: Horizontal feature pattern length (50 nm, 100 nm, 400 nm)\n",
    "\n",
    "**hfs**: Horizontal feature size (measured half height to half height, always 50 % of *pitch*)\n",
    "\n",
    "**vfs**: Vertical feature size (measured from asymptotic bootom to asymptotic top, same as *hfs*)"
   ]
  },
  {
   "cell_type": "code",
   "execution_count": 122,
   "metadata": {
    "collapsed": true
   },
   "outputs": [],
   "source": [
    "pitch = [50e-9, 100e-9, 400e-9]\n",
    "jitter_wavelength = [5e-9, 15e-9, 50e-9]"
   ]
  },
  {
   "cell_type": "code",
   "execution_count": 123,
   "metadata": {
    "collapsed": false
   },
   "outputs": [],
   "source": [
    "parameters = {}\n",
    "\n",
    "# Horizontal feature pattern length in m\n",
    "#pitch = np.array([50e-9, 100e-9, 400e-9])\n",
    "parameters['pitch'] = 400e-9\n",
    "\n",
    "# Horizontal feature size in m\n",
    "parameters['hfs'] = 0.5 * parameters['pitch']\n",
    "\n",
    "# Vertical feature size in m\n",
    "parameters['vfs'] = 0.5 * parameters['pitch']\n",
    "\n",
    "# Wavelength of jitter in m\n",
    "parameters['jitter_wavelength'] = 200e-9\n",
    "\n",
    "# Amplitude of jitter in m\n",
    "parameters['jitter_amplitude'] = 0e-9\n",
    "\n",
    "# Width of one feature edge in m\n",
    "parameters['edge_width'] = 20e-9\n",
    "\n",
    "# 3D density of silicon in electrons per m^3\n",
    "dens3_silicon = 7e29\n",
    "\n",
    "# 3D density of grating in electrons per m^3\n",
    "parameters['dens3_grating'] = dens3_silicon\n",
    "\n",
    "# 3D density of foil (without grating) in electrons per m^3\n",
    "parameters['dens3_foil'] = dens3_silicon\n",
    "\n",
    "# Focus size (edge length) in m\n",
    "parameters['focus_size'] = 2e-6\n",
    "\n",
    "# Number of incoming photons\n",
    "parameters['Nin'] = 10e10\n",
    "\n",
    "# Target array resolution\n",
    "#resolution = np.array([64, 128, 256])\n",
    "parameters['xres'] = 512\n",
    "\n",
    "parameters['xmin'] = -0.5 * parameters['focus_size']\n",
    "parameters['xmax'] =  0.5 * parameters['focus_size']\n",
    "\n",
    "parameters['yres'] = 512\n",
    "parameters['ymin'] = -0.5 * parameters['focus_size']\n",
    "parameters['ymax'] =  0.5 * parameters['focus_size']\n",
    "\n",
    "parameters['zres'] = 512\n",
    "parameters['zmin'] = -0.5 * parameters['focus_size'] - np.sqrt(2)*parameters['vfs']\n",
    "parameters['zmax'] =  0.5 * parameters['focus_size']\n",
    "\n",
    "# Number of electrons in a cell of full density\n",
    "parameters['nelectrons'] = (parameters['xmax'] - parameters['xmin']) *\\\n",
    "                           (parameters['ymax'] - parameters['ymin']) *\\\n",
    "                           (parameters['zmax'] - parameters['zmin']) *\\\n",
    "                            parameters['dens3_foil']\n",
    "\n",
    "parameters['outfilename'] = \"dummy.txt\"\n",
    "\n",
    "calc3d = False"
   ]
  },
  {
   "cell_type": "code",
   "execution_count": 124,
   "metadata": {
    "collapsed": true
   },
   "outputs": [],
   "source": [
    "# import own packages\n",
    "import edges\n",
    "import grating\n",
    "import copy\n",
    "from auxiliary import theta\n",
    "import auxiliary as aux\n",
    "import jitter\n",
    "import density\n",
    "import imaging as imgg"
   ]
  },
  {
   "cell_type": "code",
   "execution_count": 125,
   "metadata": {
    "collapsed": false
   },
   "outputs": [
    {
     "name": "stdout",
     "output_type": "stream",
     "text": [
      "xres_guard: 539\n",
      "yres_guard: 531\n",
      "kernel_x.shape : (28, 1)\n",
      "kernel_y.shape : (1, 20)\n"
     ]
    }
   ],
   "source": [
    "parameters['sigmaxp'] = 20e-9\n",
    "parameters['sigmayp'] = 20e-9\n",
    "parameters['nsigma']  = 2\n",
    "\n",
    "parameters['sigmax']  = np.sqrt(2)*parameters['sigmaxp']\n",
    "parameters['sigmay']  = parameters['sigmayp']\n",
    "\n",
    "parameters['pixelsize'] = (parameters['xmax']-parameters['xmin'])/parameters['xres']\n",
    "\n",
    "kernel_x = imgg.gaussian_kernel(parameters['sigmax'], 0, parameters['pixelsize'], parameters['nsigma'])\n",
    "kernel_x_size = kernel_x.shape[0]\n",
    "kernel_y = imgg.gaussian_kernel(0, parameters['sigmay'], parameters['pixelsize'], parameters['nsigma'])\n",
    "kernel_y_size = kernel_y.shape[1]\n",
    "\n",
    "parameters['xmin_guard'] = parameters['xmin'] - int((kernel_x_size-1)/2)*parameters['pixelsize']\n",
    "parameters['xmax_guard'] = parameters['xmax'] + int((kernel_x_size  )/2)*parameters['pixelsize']\n",
    "parameters['xres_guard'] = parameters['xres'] + kernel_x_size - 1\n",
    "parameters['ymin_guard'] = parameters['ymin'] - int((kernel_y_size-1)/2)*parameters['pixelsize']\n",
    "parameters['ymax_guard'] = parameters['ymax'] + int((kernel_y_size  )/2)*parameters['pixelsize']\n",
    "parameters['yres_guard'] = parameters['yres'] + kernel_y_size - 1\n",
    "\n",
    "print('xres_guard: {}'.format(parameters['xres_guard']))\n",
    "print('yres_guard: {}'.format(parameters['yres_guard']))\n",
    "print('kernel_x.shape : {}'.format(kernel_x.shape))\n",
    "print('kernel_y.shape : {}'.format(kernel_y.shape))\n"
   ]
  },
  {
   "cell_type": "code",
   "execution_count": 126,
   "metadata": {
    "collapsed": true
   },
   "outputs": [],
   "source": [
    "def transpose_extent(a):\n",
    "    return [a[2], a[3], a[0], a[1]]"
   ]
  },
  {
   "cell_type": "markdown",
   "metadata": {},
   "source": [
    "### Make density function"
   ]
  },
  {
   "cell_type": "code",
   "execution_count": 127,
   "metadata": {
    "collapsed": false
   },
   "outputs": [],
   "source": [
    "edge             = edges.make_erf_edge(parameters['edge_width'], parameters['vfs'])\n",
    "#edge             = edges.make_skewed_edge(parameters['edge_width'], parameters['vfs'])\n",
    "#edge             = edges.make_perf_edge(parameters['edge_width'], parameters['vfs'])\n",
    "feature          = grating.symm_feat(parameters['hfs'], edge)\n",
    "grating_function = grating.feature_grating(parameters['pitch'], feature)\n",
    "jitter_function  = jitter.make_jitter(parameters['jitter_amplitude'], parameters['jitter_wavelength'])\n",
    "density_function = density.make_density(grating_function, jitter_function)"
   ]
  },
  {
   "cell_type": "markdown",
   "metadata": {},
   "source": [
    "### Make 1D laser coordinate arrays"
   ]
  },
  {
   "cell_type": "code",
   "execution_count": 128,
   "metadata": {
    "collapsed": false
   },
   "outputs": [],
   "source": [
    "x_test = np.linspace(parameters['xmin'], parameters['xmax'], parameters['xres'])\n",
    "y_test = np.linspace(parameters['ymin'], parameters['ymax'], parameters['yres'])\n",
    "z_test = np.linspace(parameters['zmin'], parameters['zmax'], parameters['zres'])\n",
    "\n",
    "x_guard = np.linspace(parameters['xmin_guard'], parameters['xmax_guard'], parameters['xres_guard'])\n",
    "y_guard = np.linspace(parameters['ymin_guard'], parameters['ymax_guard'], parameters['yres_guard'])\n",
    "z_guard = z_test"
   ]
  },
  {
   "cell_type": "code",
   "execution_count": 129,
   "metadata": {
    "collapsed": true
   },
   "outputs": [],
   "source": [
    "extent_laser_xy = [parameters['xmin'], parameters['xmax'],\\\n",
    "                   parameters['ymin'], parameters['ymax']]\n",
    "extent_laser_xz = [parameters['xmin'], parameters['xmax'],\\\n",
    "                   parameters['zmin'], parameters['zmax']]\n",
    "extent_laser_yz = [parameters['ymin'], parameters['ymax'],\\\n",
    "                   parameters['zmin'], parameters['zmax']]"
   ]
  },
  {
   "cell_type": "markdown",
   "metadata": {},
   "source": [
    "### Make 1D target coordinate arrays"
   ]
  },
  {
   "cell_type": "code",
   "execution_count": 130,
   "metadata": {
    "collapsed": false
   },
   "outputs": [],
   "source": [
    "xpmin = aux.rcoords2tcoords(parameters['xmax'], 0, 0)[0]\n",
    "xpmax = aux.rcoords2tcoords(parameters['xmin'], 0, 0)[0]\n",
    "ypmin = aux.rcoords2tcoords(0, parameters['ymin'], 0)[1]\n",
    "ypmax = aux.rcoords2tcoords(0, parameters['ymax'], 0)[1]\n",
    "zpmin = aux.rcoords2tcoords(0, 0, parameters['zmax'])[2]\n",
    "zpmax = aux.rcoords2tcoords(0, 0, parameters['zmin'])[2]\n",
    "\n",
    "xp = np.linspace(xpmin, xpmax, parameters['xres'])\n",
    "yp = np.linspace(ypmin, ypmax, parameters['yres'])\n",
    "zp = np.linspace(zpmin, zpmax, parameters['zres'])"
   ]
  },
  {
   "cell_type": "code",
   "execution_count": 131,
   "metadata": {
    "collapsed": false
   },
   "outputs": [],
   "source": [
    "extent_target_xy = [xpmin, xpmin,\\\n",
    "                    ypmin, ypmin]\n",
    "extent_target_xz = [xpmin, xpmin,\\\n",
    "                    zpmin, zpmin]\n",
    "extent_target_yz = [ypmin, ypmin,\\\n",
    "                    zpmin, zpmin]"
   ]
  },
  {
   "cell_type": "markdown",
   "metadata": {},
   "source": [
    "### Plot images for validation"
   ]
  },
  {
   "cell_type": "code",
   "execution_count": 132,
   "metadata": {
    "collapsed": false
   },
   "outputs": [
    {
     "data": {
      "image/png": "[encoded data removed]",
      "text/plain": [
       "<matplotlib.figure.Figure at 0x7ff8d5b1f5c0>"
      ]
     },
     "metadata": {},
     "output_type": "display_data"
    }
   ],
   "source": [
    "fig = plt.figure(figsize=(20,20))\n",
    "\n",
    "sub1 = fig.add_subplot(3, 3, 1, adjustable='datalim', aspect=1.)\n",
    "plt.plot(yp, edge(yp))\n",
    "plt.title('Edge function')\n",
    "plt.xlabel('Target y coordinate [m]')\n",
    "plt.ylabel('Target x coordinate [m]')\n",
    "sub1.get_xaxis().set_major_formatter(mtick.FormatStrFormatter('%.1e'))\n",
    "sub1.get_yaxis().set_major_formatter(mtick.FormatStrFormatter('%.1e'))\n",
    "\n",
    "sub2 = fig.add_subplot(3, 2, 2, adjustable='datalim', aspect=1.)\n",
    "plt.plot(yp, feature(yp))\n",
    "plt.title('Feature function')\n",
    "plt.xlabel('Target y coordinate [m]')\n",
    "plt.ylabel('Target x coordinate [m]')\n",
    "sub2.get_xaxis().set_major_formatter(mtick.FormatStrFormatter('%.1e'))\n",
    "sub2.get_yaxis().set_major_formatter(mtick.FormatStrFormatter('%.1e'))\n",
    "\n",
    "sub3 = fig.add_subplot(3, 2, 3, adjustable='datalim', aspect=1.)\n",
    "plt.plot(yp, grating_function(yp))\n",
    "plt.title('Grating function')\n",
    "plt.xlabel('Target y coordinate [m]')\n",
    "plt.ylabel('Target x coordinate [m]')\n",
    "sub3.get_xaxis().set_major_formatter(mtick.FormatStrFormatter('%.1e'))\n",
    "sub3.get_yaxis().set_major_formatter(mtick.FormatStrFormatter('%.1e'))\n",
    "\n",
    "sub4 = fig.add_subplot(3, 2, 4, adjustable='datalim', aspect=1.)\n",
    "plt.plot(jitter_function(zp), zp)\n",
    "plt.title('Jitter function')\n",
    "plt.xlabel('Target y coordinate [m]')\n",
    "plt.ylabel('Target z coordinate [m]')\n",
    "sub4.get_xaxis().set_major_formatter(mtick.FormatStrFormatter('%.1e'))\n",
    "sub4.get_yaxis().set_major_formatter(mtick.FormatStrFormatter('%.1e'))\n"
   ]
  },
  {
   "cell_type": "markdown",
   "metadata": {},
   "source": [
    "### Calculate and sum density slices along z axis"
   ]
  },
  {
   "cell_type": "code",
   "execution_count": 133,
   "metadata": {
    "collapsed": false
   },
   "outputs": [
    {
     "name": "stdout",
     "output_type": "stream",
     "text": [
      "CPU times: user 2min 1s, sys: 20 ms, total: 2min 1s\n",
      "Wall time: 2min 1s\n"
     ]
    }
   ],
   "source": [
    "xx, yy = np.meshgrid(x_guard, y_guard)\n",
    "\n",
    "def dens2D (xx, yy, z):\n",
    "    dd_sum = np.zeros(shape=[parameters['xres'], parameters['yres']])\n",
    "    for z in z_test:\n",
    "        xp, yp, zp = aux.rcoords2tcoords(xx, yy, z)\n",
    "        dd = density_function(xp, yp, zp)\n",
    "        dd, dde = imgg.smooth(dd, kernel_x.T, [parameters['xmin_guard'], parameters['xmax_guard'], parameters['ymin_guard'], parameters['ymax_guard']])\n",
    "        dd, dde = imgg.smooth(dd, kernel_y.T, dde)\n",
    "        dd_sum += dd\n",
    "        \n",
    "    return parameters['nelectrons'] * dd_sum\n",
    "\n",
    "%time dd_sum = dens2D(xx, yy, z_guard)"
   ]
  },
  {
   "cell_type": "markdown",
   "metadata": {},
   "source": [
    "### Save summed density to file"
   ]
  },
  {
   "cell_type": "code",
   "execution_count": 134,
   "metadata": {
    "collapsed": true
   },
   "outputs": [],
   "source": [
    "path = parameters['outfilename']\n",
    "if not aux.path_exists(path):\n",
    "    np.savetxt(path, dd_sum)"
   ]
  },
  {
   "cell_type": "markdown",
   "metadata": {},
   "source": [
    "### Plot summed density"
   ]
  },
  {
   "cell_type": "code",
   "execution_count": 135,
   "metadata": {
    "collapsed": false
   },
   "outputs": [
    {
     "data": {
      "text/plain": [
       "<matplotlib.colorbar.Colorbar at 0x7ff8e80277f0>"
      ]
     },
     "execution_count": 135,
     "metadata": {},
     "output_type": "execute_result"
    },
    {
     "data": {
      "image/png": "[encoded data removed]",
      "text/plain": [
       "<matplotlib.figure.Figure at 0x7ff8e7f6a198>"
      ]
     },
     "metadata": {},
     "output_type": "display_data"
    }
   ],
   "source": [
    "fig = plt.figure(figsize=(20, 6))\n",
    "sub1 = fig.add_subplot(1, 1, 1)\n",
    "\n",
    "aux.imshow(dd_sum.T, extent=transpose_extent(extent_laser_xy))\n",
    "sub1.get_xaxis().set_major_formatter(mtick.FormatStrFormatter('%.1e'))\n",
    "sub1.get_yaxis().set_major_formatter(mtick.FormatStrFormatter('%.1e'))\n",
    "plt.title('xy plot summed slices')\n",
    "plt.colorbar()"
   ]
  },
  {
   "cell_type": "markdown",
   "metadata": {},
   "source": [
    "### Calculate 3D density grid"
   ]
  },
  {
   "cell_type": "code",
   "execution_count": 136,
   "metadata": {
    "collapsed": false
   },
   "outputs": [
    {
     "name": "stdout",
     "output_type": "stream",
     "text": [
      "No 3D calculation\n"
     ]
    }
   ],
   "source": [
    "# Calculate 3D density grid\n",
    "if calc3d:\n",
    "    xxx, yyy, zzz = np.meshgrid(x_test, y_test, z_test)\n",
    "    xxxp, yyyp, zzzp = aux.rcoords2tcoords(xxx, yyy, zzz)\n",
    "    %time ddd = parameters['nelectrons'] * density_function(xxxp, yyyp, zzzp)\n",
    "    \n",
    "    print(\"done\")\n",
    "else:\n",
    "    print(\"No 3D calculation\")"
   ]
  },
  {
   "cell_type": "markdown",
   "metadata": {},
   "source": [
    "Strange behavior - x and y axes seem swapped in the 3D array (?!)"
   ]
  },
  {
   "cell_type": "markdown",
   "metadata": {},
   "source": [
    "### Plot slices of 3D density"
   ]
  },
  {
   "cell_type": "code",
   "execution_count": 137,
   "metadata": {
    "collapsed": false
   },
   "outputs": [
    {
     "name": "stdout",
     "output_type": "stream",
     "text": [
      "No 3D calculation\n"
     ]
    }
   ],
   "source": [
    "if calc3d:\n",
    "    fig = plt.figure(figsize=(20, 6))\n",
    "    \n",
    "    sub1 = fig.add_subplot(1, 3, 1)\n",
    "    aux.imshow(ddd[:, :, len(z_test)//8].T, extent = transpose_extent(extent_laser_xy), origin='upper')\n",
    "    sub1.get_xaxis().set_major_formatter(mtick.FormatStrFormatter('%.1e'))\n",
    "    sub1.get_yaxis().set_major_formatter(mtick.FormatStrFormatter('%.1e'))\n",
    "    plt.title('xy plot at 1/8 of z range')\n",
    "    plt.colorbar()\n",
    "    \n",
    "    sub2 = fig.add_subplot(1, 3, 2)\n",
    "    aux.imshow(ddd[:, :, len(z_test)//2].T, extent = transpose_extent(extent_laser_xy), origin='upper')\n",
    "    sub2.get_xaxis().set_major_formatter(mtick.FormatStrFormatter('%.1e'))\n",
    "    sub2.get_yaxis().set_major_formatter(mtick.FormatStrFormatter('%.1e'))\n",
    "    plt.title('xy plot at 1/2 of z range')\n",
    "    plt.colorbar()\n",
    "    \n",
    "    sub3 = fig.add_subplot(1, 3, 3)\n",
    "    aux.imshow(ddd[:, :, len(z_test)//8*7].T, extent = transpose_extent(extent_laser_xy), origin='upper')\n",
    "    sub3.get_xaxis().set_major_formatter(mtick.FormatStrFormatter('%.1e'))\n",
    "    sub3.get_yaxis().set_major_formatter(mtick.FormatStrFormatter('%.1e'))\n",
    "    plt.title('xy plot at 7/8 of z range')\n",
    "    plt.colorbar()\n",
    "else:\n",
    "    print(\"No 3D calculation\")\n"
   ]
  },
  {
   "cell_type": "code",
   "execution_count": null,
   "metadata": {
    "collapsed": false
   },
   "outputs": [],
   "source": []
  }
 ],
 "metadata": {
  "anaconda-cloud": {},
  "kernelspec": {
   "display_name": "Python [Root]",
   "language": "python",
   "name": "Python [Root]"
  },
  "language_info": {
   "codemirror_mode": {
    "name": "ipython",
    "version": 3
   },
   "file_extension": ".py",
   "mimetype": "text/x-python",
   "name": "python",
   "nbconvert_exporter": "python",
   "pygments_lexer": "ipython3",
   "version": "3.5.2"
  }
 },
 "nbformat": 4,
 "nbformat_minor": 0
}
