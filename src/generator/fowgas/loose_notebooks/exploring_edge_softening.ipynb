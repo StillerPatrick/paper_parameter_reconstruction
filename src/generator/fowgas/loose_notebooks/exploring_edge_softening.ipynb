{
 "cells": [
  {
   "cell_type": "code",
   "execution_count": 2,
   "metadata": {
    "collapsed": true
   },
   "outputs": [],
   "source": [
    "import numpy as np\n",
    "from matplotlib import pyplot as plt\n",
    "\n",
    "%matplotlib inline\n",
    "\n",
    "import sys\n",
    "sys.path.append(\"../packages\")\n",
    "\n",
    "import auxiliary as aux\n",
    "from auxiliary import theta\n",
    "import edges"
   ]
  },
  {
   "cell_type": "code",
   "execution_count": 3,
   "metadata": {
    "collapsed": true
   },
   "outputs": [],
   "source": [
    "x = np.linspace(-1, 1, 20)\n",
    "y = np.linspace(-1, 1, 20)\n",
    "\n",
    "yy, xx = np.meshgrid(y, x)"
   ]
  },
  {
   "cell_type": "code",
   "execution_count": 4,
   "metadata": {
    "collapsed": false
   },
   "outputs": [
    {
     "data": {
      "text/plain": [
       "<matplotlib.colorbar.Colorbar at 0x7fdae8284a20>"
      ]
     },
     "execution_count": 4,
     "metadata": {},
     "output_type": "execute_result"
    },
    {
     "data": {
      "image/png": "[encoded data removed]",
      "text/plain": [
       "<matplotlib.figure.Figure at 0x7fdaeca67898>"
      ]
     },
     "metadata": {},
     "output_type": "display_data"
    }
   ],
   "source": [
    "smoothing_function = edges.make_skewed_edge(0.3, 1)\n",
    "\n",
    "fig = plt.figure(figsize=(20, 6))\n",
    "sub1 = fig.add_subplot(1, 1, 1)\n",
    "aux.imshow(smoothing_function(-xx+yy), extent=[-1, 1, -1, 1])\n",
    "plt.colorbar()"
   ]
  },
  {
   "cell_type": "code",
   "execution_count": 5,
   "metadata": {
    "collapsed": false
   },
   "outputs": [
    {
     "data": {
      "text/plain": [
       "<matplotlib.colorbar.Colorbar at 0x7fdae81cc780>"
      ]
     },
     "execution_count": 5,
     "metadata": {},
     "output_type": "execute_result"
    },
    {
     "data": {
      "image/png": "[encoded data removed]",
      "text/plain": [
       "<matplotlib.figure.Figure at 0x7fdae82999e8>"
      ]
     },
     "metadata": {},
     "output_type": "display_data"
    }
   ],
   "source": [
    "# Circular density distribution\n",
    "dd = 1 - np.sqrt(xx**2+yy**2)\n",
    "\n",
    "fig = plt.figure(figsize=(20, 6))\n",
    "sub1 = fig.add_subplot(1, 1, 1)\n",
    "aux.imshow(smoothing_function(dd), extent=[-1, 1, -1, 1])\n",
    "plt.colorbar()"
   ]
  },
  {
   "cell_type": "code",
   "execution_count": 17,
   "metadata": {
    "collapsed": false
   },
   "outputs": [
    {
     "name": "stdout",
     "output_type": "stream",
     "text": [
      "10\n",
      "10\n"
     ]
    },
    {
     "data": {
      "image/png": "[encoded data removed]",
      "text/plain": [
       "<matplotlib.figure.Figure at 0x7fdae8198828>"
      ]
     },
     "metadata": {},
     "output_type": "display_data"
    }
   ],
   "source": [
    "# Rectangular density distribution\n",
    "ax = -0.4\n",
    "bx = 0.4\n",
    "ay = -0.3\n",
    "by = 0.3\n",
    "\n",
    "xres = 20\n",
    "xmin = -1\n",
    "xmax = 1\n",
    "yres = 20\n",
    "ymin = -1\n",
    "ymax = 1\n",
    "\n",
    "center_idx = int(xres * (0.5*(bx+ax)-xmin) / (xmax - xmin))\n",
    "center_idy = int(yres * (0.5*(by+ay)-ymin) / (ymax - ymin))\n",
    "print(center_idx)\n",
    "print(center_idy)\n",
    "\n",
    "\n",
    "dd = np.zeros(shape=xx.shape)\n",
    "dd[0:center_idy, 0:center_idx] = xx[0:center_idy, 0:center_idx] * yy[0:center_idy, 0:center_idx]\n",
    "dd[center_idy:dd.shape[0], center_idx:dd.shape[1]] = xx[0:center_idy, 0:center_idx][::-1] * yy[0:center_idy, 0:center_idx][::-1]\n",
    "aux.imshow(dd, extent=[-1,1,-1,1])"
   ]
  },
  {
   "cell_type": "code",
   "execution_count": 8,
   "metadata": {
    "collapsed": false
   },
   "outputs": [
    {
     "name": "stdout",
     "output_type": "stream",
     "text": [
      "[ 1.          0.89473684  0.78947368  0.68421053  0.57894737  0.47368421\n",
      "  0.36842105  0.26315789  0.15789474  0.05263158 -0.05263158 -0.15789474\n",
      " -0.26315789 -0.36842105 -0.47368421 -0.57894737 -0.68421053 -0.78947368\n",
      " -0.89473684 -1.        ]\n"
     ]
    }
   ],
   "source": [
    "print(x[::-1])"
   ]
  },
  {
   "cell_type": "code",
   "execution_count": null,
   "metadata": {
    "collapsed": false
   },
   "outputs": [],
   "source": [
    "edge_function = lambda x : 2*edges.make_skewed_edge(0.2, 1)(x)-1\n",
    "fig = plt.figure(figsize=(20, 6))\n",
    "sub1 = fig.add_subplot(1, 1, 1)\n",
    "aux.imshow(edge_function(yy)-xx, extent=[-1, 1, -1, 1])\n",
    "plt.colorbar()"
   ]
  },
  {
   "cell_type": "code",
   "execution_count": null,
   "metadata": {
    "collapsed": false
   },
   "outputs": [],
   "source": [
    "f = lambda x : 0.5*(1+np.sin(x*np.pi)) * (np.abs(x)<0.5) + 0.5*(np.sign(x)+1) * (np.abs(x)>=0.5)\n",
    "df = lambda x : 0.5*(1+np.cos(x*np.pi)) * (np.abs(x)<0.5)\n",
    "#plt.plot(x, f(x), x, df(x))\n",
    "\n",
    "fig = plt.figure(figsize=(20, 6))\n",
    "sub1 = fig.add_subplot(1, 1, 1)\n",
    "aux.imshow(theta(-xx+f(yy)), extent=[-1, 1, -1, 1])\n",
    "plt.colorbar()"
   ]
  },
  {
   "cell_type": "code",
   "execution_count": null,
   "metadata": {
    "collapsed": false
   },
   "outputs": [],
   "source": [
    "#dd = e(-xx + 2.*yy + 1.) * e(-xx) * e(-xx - 2.*yy + 1.)\n",
    "dd1 = e1(-0.5*xx + yy + 0.5) * e1(-xx) * e1(-0.5*xx - yy + 0.5)\n",
    "dd2 = e2(-0.5*xx + yy + 0.5) * e2(-xx) * e2(-0.5*xx - yy + 0.5) \n",
    "\n",
    "\n",
    "idx = 11\n",
    "idy = 10\n",
    "fig = plt.figure(figsize=(20, 10))\n",
    "\n",
    "sub1 = fig.add_subplot(2, 2, 1)\n",
    "aux.imshow(dd, extent=[-1, 1, -1, 1])\n",
    "plt.plot(y, x[idx]*np.ones(shape=y.shape), color='b')\n",
    "plt.plot(y[idy]*np.ones(shape=x.shape), x, color='g')\n",
    "plt.colorbar()\n",
    "\n",
    "sub2 = fig.add_subplot(2, 2, 2)\n",
    "plt.plot(dd[:, idy], x, color='g')\n",
    "sub2.set_xlim([0, 1])\n",
    "\n",
    "sub3 = fig.add_subplot(2, 2, 3)\n",
    "plt.plot(y, dd[idx, :], color='b')\n",
    "sub3.set_ylim([0, 1])\n",
    "\n",
    "\n",
    "print(dd1.sum())\n",
    "print(dd2.sum())"
   ]
  },
  {
   "cell_type": "code",
   "execution_count": null,
   "metadata": {
    "collapsed": true
   },
   "outputs": [],
   "source": []
  },
  {
   "cell_type": "code",
   "execution_count": null,
   "metadata": {
    "collapsed": false
   },
   "outputs": [],
   "source": [
    "import edges\n",
    "import grating\n",
    "import jitter\n",
    "\n",
    "xmin = -1e-6\n",
    "xmax =  1e-6\n",
    "xres =  256\n",
    "\n",
    "ymin = -1e-6\n",
    "ymax =  1e-6\n",
    "yres =  256\n",
    "\n",
    "zmin = -1e-6\n",
    "zmax =  1e-6\n",
    "zres =  256\n",
    "\n",
    "x = np.linspace(xmin, xmax, xres)\n",
    "y = np.linspace(xmin, xmax, xres)\n",
    "z = np.linspace(xmin, xmax, xres)\n",
    "\n",
    "xx, yy = np.meshgrid(x, y)\n",
    "xxx, yyy, zzz = np.meshgrid(x, y, z)\n",
    "\n",
    "edge_width = 50e-9\n",
    "pitch = 400e-9\n",
    "vfs = 0.5*pitch\n",
    "hfs = 0.5*pitch\n",
    "\n",
    "edge             = edges.make_erf_edge(edge_width, vfs)\n",
    "#edge             = edges.make_skewed_edge(parameters['edge_width'], parameters['vfs'])\n",
    "#edge             = edges.make_perf_edge(parameters['edge_width'], parameters['vfs'])\n",
    "feature          = grating.symm_feat(hfs, edge)\n",
    "grating_function = grating.feature_grating(pitch, feature)\n",
    "\n",
    "theta()\n",
    "\n",
    "fig = plt.figure(figsize=(20, 6))\n",
    "sub1 = fig.add_subplot(1, 1, 1)\n",
    "plt.plot(y, grating_function(y))\n"
   ]
  },
  {
   "cell_type": "code",
   "execution_count": null,
   "metadata": {
    "collapsed": false
   },
   "outputs": [],
   "source": [
    "print('{:03.1f}'.format(12.345))\n",
    "fig = plt.figure()\n",
    "plt.close(fig)"
   ]
  }
 ],
 "metadata": {
  "anaconda-cloud": {},
  "kernelspec": {
   "display_name": "Python [Root]",
   "language": "python",
   "name": "Python [Root]"
  },
  "language_info": {
   "codemirror_mode": {
    "name": "ipython",
    "version": 3
   },
   "file_extension": ".py",
   "mimetype": "text/x-python",
   "name": "python",
   "nbconvert_exporter": "python",
   "pygments_lexer": "ipython3",
   "version": "3.5.2"
  }
 },
 "nbformat": 4,
 "nbformat_minor": 0
}
