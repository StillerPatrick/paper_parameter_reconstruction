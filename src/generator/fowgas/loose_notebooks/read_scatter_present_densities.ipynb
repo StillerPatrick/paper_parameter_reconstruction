{
 "cells": [
  {
   "cell_type": "code",
   "execution_count": 2,
   "metadata": {
    "collapsed": true
   },
   "outputs": [],
   "source": [
    "# import packages\n",
    "import numpy as np\n",
    "from matplotlib import pyplot as plt\n",
    "from matplotlib import ticker as mtick\n",
    "from scipy import special\n",
    "\n",
    "# switch on inline plotting\n",
    "%matplotlib inline\n",
    "\n",
    "# append path for loading own packages\n",
    "import sys\n",
    "sys.path.append(\"../packages\")\n",
    "\n",
    "# import own packages\n",
    "import edges\n",
    "import grating\n",
    "import copy\n",
    "from auxiliary import theta\n",
    "import auxiliary as aux\n",
    "import jitter\n",
    "import density\n",
    "import scattering"
   ]
  },
  {
   "cell_type": "code",
   "execution_count": 3,
   "metadata": {
    "collapsed": true
   },
   "outputs": [],
   "source": [
    "def present_density_and_photons(a, s, **kwargs):\n",
    "    xmin    = kwargs.pop('xmin', -1e-6)\n",
    "    xmax    = kwargs.pop('xmax',  1e-6)\n",
    "    ymin    = kwargs.pop('ymin', -1e-6)\n",
    "    ymax    = kwargs.pop('ymax',  1e-6)\n",
    "    \n",
    "    dx      = (xmax-xmin)/(a.shape[0]-1)\n",
    "    dy      = (ymax-ymin)/(a.shape[1]-1)\n",
    "    \n",
    "    qxmin   = kwargs.pop('qxmin', -np.pi/dx)\n",
    "    qxmax   = kwargs.pop('qxmax',  np.pi/dx)\n",
    "    qymin   = kwargs.pop('qymin', -np.pi/dy)\n",
    "    qymax   = kwargs.pop('qymax',  np.pi/dy)\n",
    "    qy      = np.linspace(qymin*10e-9, qymax*10e-9, s.shape[0])\n",
    "    \n",
    "    comment = kwargs.pop('comment', '')\n",
    "    \n",
    "    \n",
    "    fig     = plt.figure(figsize=(20, 30))\n",
    "    \n",
    "    sub1 = fig.add_subplot(3, 2, 1)\n",
    "    aux.imshow(a.T, extent = [ymin/10e-6, ymax/10e-6, xmin/10e-6, xmax/10e-6])\n",
    "    #sub1.get_xaxis().set_major_formatter(mtick.FormatStrFormatter('%.1e'))\n",
    "    #sub1.get_yaxis().set_major_formatter(mtick.FormatStrFormatter('%.1e'))\n",
    "    sub1.set_xlabel('y (laser coordinates) [mu]', fontsize=18)\n",
    "    sub1.set_ylabel('x (laser coordinates) [mu]', fontsize=18)\n",
    "    plt.colorbar()\n",
    "    \n",
    "    sub2 = fig.add_subplot(3, 2, 2)\n",
    "    aux.imshow(np.log(s+1).T, extent = [qymin*10e-9, qymax*10e-9, qxmin*10e-9, qxmax*10e-9])\n",
    "    sub2.set_xlabel('q_y (laser coordinates) [1/nm]', fontsize=18)\n",
    "    sub2.set_ylabel('q_x (laser coordinates) [1/nm]', fontsize=18)\n",
    "    plt.colorbar()\n",
    "        \n",
    "    sub3 = fig.add_subplot(3, 2, 3)\n",
    "    plt.plot(qy, s[:, s.shape[1]//2], label='N(photons)')\n",
    "    plt.legend()\n",
    "    plt.title('Line-out of photon image along q_y at q_x = 0', fontsize=22)\n",
    "    sub3.set_xlabel('q_y (laser coordinates) [1/nm]', fontsize=18)\n",
    "    \n",
    "    sub4 = fig.add_subplot(3, 2, 4)\n",
    "    plt.plot(qy, np.log(s[:, s.shape[1]//2]+1), label='log(N(photons)+1)')\n",
    "    plt.legend()\n",
    "    plt.title('Line-out of photon image along q_y at q_x = 0\\nlog scale', fontsize=22)\n",
    "    sub4.set_xlabel('q_y (laser coordinates) [1/nm]', fontsize=18)\n",
    "    \n",
    "    sub5 = fig.add_subplot(3, 2, 5)\n",
    "    plt.axis('off')\n",
    "    sub5.text(0.05, 0.95, comment,\n",
    "        verticalalignment='top', horizontalalignment='left',\n",
    "        transform=sub5.transAxes, fontsize=18)\n",
    "    \n",
    "    return fig\n",
    "    "
   ]
  },
  {
   "cell_type": "code",
   "execution_count": 10,
   "metadata": {
    "collapsed": false
   },
   "outputs": [
    {
     "name": "stdout",
     "output_type": "stream",
     "text": [
      "../results/Scan5_Test/020perfedge_400pitch_015jampl_050jwl_000sigma_only_foil_summeddensity.txt\n",
      "../results/Scan5_Test/020perfedge_400pitch_015jampl_050jwl_020sigma_both_summeddensity.txt\n",
      "../results/Scan5_Test/020perfedge_400pitch_015jampl_050jwl_020sigma_only_feat_summeddensity.txt\n",
      "../results/Scan5_Test/020perfedge_400pitch_015jampl_050jwl_020sigma_only_foil_summeddensity.txt\n"
     ]
    }
   ],
   "source": [
    "# Load densities\n",
    "\n",
    "dirpath             = \"../results/Scan5_Test/\"\n",
    "density_fns_list_fn  = \"density_filenames.txt\"\n",
    "\n",
    "density_fns         = [dirpath+line.rstrip('\\n') for line in open(dirpath+density_fns_list_fn)]\n",
    "\n",
    "dfns = density_fns\n",
    "densities = {}\n",
    "for dfn in dfns:\n",
    "    densities[dfn] = np.loadtxt(dfn)\n",
    "    print(dfn)"
   ]
  },
  {
   "cell_type": "code",
   "execution_count": 11,
   "metadata": {
    "collapsed": false
   },
   "outputs": [],
   "source": [
    "only_foil_sharp  = densities[density_fns[0]] * 5.95e3\n",
    "both             = densities[density_fns[1]] * 5.95e3\n",
    "only_feat        = densities[density_fns[2]] * 5.95e3\n",
    "only_foil_smooth = densities[density_fns[3]] * 5.95e3"
   ]
  },
  {
   "cell_type": "code",
   "execution_count": 14,
   "metadata": {
    "collapsed": true
   },
   "outputs": [],
   "source": [
    "d = [(both,                              'both'),\\\n",
    "     (only_feat+only_foil_sharp,         'only_feat+only_foil_sharp'),\\\n",
    "     (only_feat+only_foil_smooth,        'only_feat+only_foil_smooth'),\\\n",
    "     (both-(only_feat+only_foil_sharp),  'both-(only_feat+only_foil_sharp)'),\\\n",
    "     (both-(only_feat+only_foil_smooth), 'both-(only_feat+only_foil_smooth)')\n",
    "    ]\n",
    "\n",
    "for i in d:\n",
    "    a = i[0]\n",
    "    s = scattering.propagate(a, 1e10, 0.155e-9, 2e-6, 1, 1)\n",
    "    \n",
    "    kwargs = {}\n",
    "    kwargs['comment'] =\\\n",
    "        ''\n",
    "    fig = present_density_and_photons(a.T, s.T, **kwargs)\n",
    "    fig.suptitle(i[1], fontsize=24, fontweight='bold')\n",
    "    \n",
    "    path = dirpath + i[1] + '_presentation.pdf'\n",
    "    if not aux.path_exists(path):\n",
    "        fig.savefig(path)\n",
    "    plt.close(fig)\n"
   ]
  },
  {
   "cell_type": "code",
   "execution_count": 129,
   "metadata": {
    "collapsed": false
   },
   "outputs": [],
   "source": [
    "# Scatter and present\n",
    "\n",
    "for dfn in dfns:\n",
    "    # pitch: 50 nm\n",
    "    #deltaz = 2.035\n",
    "    #dV     = 7.58\n",
    "    #dn     = 5.31\n",
    "    \n",
    "    # pitch: 100 nm\n",
    "    #deltaz = 2.071\n",
    "    #dV     = 7.72\n",
    "    #dn     = 5.40\n",
    "    \n",
    "    # pitch: 200 nm\n",
    "    #deltaz = 2.141\n",
    "    #dV     = 7.98\n",
    "    #dn     = 5.59\n",
    "    \n",
    "    # pitch: 400 nm\n",
    "    deltaz = 2.282\n",
    "    dV     = 8.50\n",
    "    dn     = 5.95\n",
    "    \n",
    "    a = densities[dfn] * dn * 1e3\n",
    "    s = scattering.propagate(a, 1e10, 0.155e-9, 2e-6, 1, 1)\n",
    "    \n",
    "    kwargs = {}\n",
    "    kwargs['comment'] =\\\n",
    "        'X-Ray: I_total = 1e10 photons, lambda = 0.155nm\\n\\n\\\n",
    "Normalization factor for density: Number of electrons per voxel for silicon\\n\\\n",
    "Focus size = (2 mu)**2;   focus resolution = (1024)**2\\n\\\n",
    "distance between density slices = {} mu / 1024 (value depends on pitch)\\n\\\n",
    "=> voxel volume = {} (nm)**3    => #electrons per voxel for silicon = {}e3'.format(deltaz, dV, dn)\n",
    "    fig = present_density_and_photons(a.T, s.T, **kwargs)\n",
    "    fig.suptitle(dfn, fontsize=24, fontweight='bold')\n",
    "    \n",
    "    path = dfn + '_presentation.pdf'\n",
    "    if not aux.path_exists(path):\n",
    "        fig.savefig(path)\n",
    "    plt.close(fig)\n",
    "    "
   ]
  }
 ],
 "metadata": {
  "anaconda-cloud": {},
  "kernelspec": {
   "display_name": "Python [Root]",
   "language": "python",
   "name": "Python [Root]"
  },
  "language_info": {
   "codemirror_mode": {
    "name": "ipython",
    "version": 3
   },
   "file_extension": ".py",
   "mimetype": "text/x-python",
   "name": "python",
   "nbconvert_exporter": "python",
   "pygments_lexer": "ipython3",
   "version": "3.5.2"
  }
 },
 "nbformat": 4,
 "nbformat_minor": 0
}
