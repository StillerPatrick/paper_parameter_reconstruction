{
 "cells": [
  {
   "cell_type": "code",
   "execution_count": 4,
   "metadata": {
    "collapsed": false
   },
   "outputs": [],
   "source": [
    "# Import packages\n",
    "import numpy as np\n",
    "from matplotlib import pyplot as plt\n",
    "from matplotlib.colors import LogNorm\n",
    "\n",
    "# Append path for loading own packages\n",
    "import sys\n",
    "sys.path.append(\"../packages\")\n",
    "\n",
    "# Switch on inline plotting\n",
    "%matplotlib inline"
   ]
  },
  {
   "cell_type": "markdown",
   "metadata": {},
   "source": [
    "## Parameter set"
   ]
  },
  {
   "cell_type": "code",
   "execution_count": 5,
   "metadata": {
    "collapsed": false
   },
   "outputs": [],
   "source": [
    "# Horizontal feature pattern length in m\n",
    "#pitch = np.array([50e-9, 100e-9, 400e-9])\n",
    "pitch = np.array([100e-9])\n",
    "\n",
    "# Horizontal feature size in m\n",
    "hfs = 0.5 * pitch\n",
    "\n",
    "# Vertical feature size\n",
    "vfs = 0.5 * pitch\n",
    "\n",
    "# 3D density of silicon in electrons per m^3\n",
    "dens3_silicon = 7e29\n",
    "\n",
    "# 3D density of grating in electrons per m^3\n",
    "dens3_grating = dens3_silicon\n",
    "\n",
    "# 3D density of foil (without grating) in electrons per m^3\n",
    "dens3_foil = dens3_silicon\n",
    "\n",
    "# Focus size (edge length) in m\n",
    "focus_size = 2e-6\n",
    "\n",
    "# Number of incoming photons\n",
    "Nin = 10e10\n",
    "\n",
    "# Target array resolution\n",
    "#resolution = np.array([64, 128, 256])\n",
    "resolution = np.array([256])"
   ]
  },
  {
   "cell_type": "markdown",
   "metadata": {},
   "source": [
    "## Prepare target arrays"
   ]
  },
  {
   "cell_type": "code",
   "execution_count": 6,
   "metadata": {
    "collapsed": false
   },
   "outputs": [],
   "source": [
    "import edges\n",
    "import grating\n",
    "import auxiliary as aux\n",
    "\n",
    "# List (of lists) of target arrays\n",
    "a = []\n",
    "\n",
    "# Number of different target resolutions\n",
    "R = len(resolution)\n",
    "\n",
    "# Number of different pitches\n",
    "P = len(pitch)\n",
    "\n",
    "for i in range(R):\n",
    "    # List of target arrays\n",
    "    aa = []\n",
    "    \n",
    "    # Create target coordinate array\n",
    "    x  = np.linspace(0., focus_size, resolution[i], endpoint=False)\n",
    "    xx = np.meshgrid(x, x)[0]\n",
    "    \n",
    "    for j in range(P):\n",
    "        # Create grating function\n",
    "        grating_function = grating.feature_grating(pitch[j], grating.symm_feat(hfs[j], edges.make_circular_edge(0.)))\n",
    "        #grating_function = grating.feature_grating(pitch[j], grating.symm_feat(hfs[j], edges.perf_edge))\n",
    "        \n",
    "        # Create and enlist target array\n",
    "        aa.append(grating_function(xx))\n",
    "        \n",
    "        # Apply physical factors to target array. Result: Pixel values are number of electrons within each pixel\n",
    "        #   number_density * vertical_feature_size * projection_stretching * pixel_area\n",
    "        aa[j] = aa[j] * dens3_grating * vfs[j] * np.sqrt(2) * (focus_size/resolution[i])**2\n",
    "    \n",
    "    # Enlist target array list\n",
    "    a.append(aa)"
   ]
  },
  {
   "cell_type": "code",
   "execution_count": 7,
   "metadata": {
    "collapsed": false
   },
   "outputs": [
    {
     "data": {
      "image/png": "[encoded data removed]",
      "text/plain": [
       "<matplotlib.figure.Figure at 0x7f2fe00d66d8>"
      ]
     },
     "metadata": {},
     "output_type": "display_data"
    }
   ],
   "source": [
    "# Show target arrays\n",
    "fig = plt.figure(figsize=(20, 4))\n",
    "for i in range(R):\n",
    "    for j in range(P):\n",
    "        fig.add_subplot(R, P, i*P+j+1)\n",
    "        aux.imshow(a[i][j])\n",
    "        plt.colorbar()"
   ]
  },
  {
   "cell_type": "code",
   "execution_count": 8,
   "metadata": {
    "collapsed": false
   },
   "outputs": [],
   "source": [
    "# Save target array\n",
    "#np.savetxt('grating_electrons.txt', a[0][0])"
   ]
  },
  {
   "cell_type": "markdown",
   "metadata": {},
   "source": [
    "## Calculate scattering images"
   ]
  },
  {
   "cell_type": "code",
   "execution_count": 13,
   "metadata": {
    "collapsed": false
   },
   "outputs": [
    {
     "name": "stdout",
     "output_type": "stream",
     "text": [
      "\n",
      "resol:  256    pitch:  1e-07\n",
      "sum Sct:  23050755.2803 =  0.999999995495 * sum Sct by Melanies formula\n"
     ]
    },
    {
     "name": "stderr",
     "output_type": "stream",
     "text": [
      "/opt/pkg/devel/anaconda3/lib/python3.5/site-packages/scipy/fftpack/basic.py:150: VisibleDeprecationWarning: using a non-integer number instead of an integer will result in an error in the future\n",
      "  z = zeros(s,x.dtype.char)\n"
     ]
    }
   ],
   "source": [
    "import scattering\n",
    "\n",
    "# List (of lists) of scattering images\n",
    "b  = []\n",
    "\n",
    "# List (of lists) of scattering images calculated using Melanies formula\n",
    "bM = []\n",
    "for i in range(R):\n",
    "    \n",
    "    # List of scattering images\n",
    "    bb  = []\n",
    "    \n",
    "    # List of scattering images calculated using Melanies formula\n",
    "    bbM = []\n",
    "    for j in range(int(P)):\n",
    "        print(\"\")\n",
    "        print(\"resol: \", resolution[i], \"   pitch: \", pitch[j])\n",
    "        \n",
    "        # Calculate and enlist scattering image\n",
    "        bb.append(scattering.propagate(a[i][j], Nin, 155e-12, focus_size, 1., 1.))\n",
    "        \n",
    "        # Calculate and enlist scattering image, Melanies formula\n",
    "        bbM.append(scattering.propagate_Melanie(a[i][j], Nin, focus_size/resolution[i], 1., 1., 1., 155e-12))\n",
    "        print(\"sum Sct: \", np.sum(bb[i]), \"= \", np.sum(bb[i])/np.sum(bbM[i]), \"* sum Sct by Melanies formula\")\n",
    "    \n",
    "    # Enlist lists\n",
    "    b.append(bb)\n",
    "    bM.append(bbM)"
   ]
  },
  {
   "cell_type": "code",
   "execution_count": 15,
   "metadata": {
    "collapsed": false
   },
   "outputs": [
    {
     "data": {
      "image/png": "[encoded data removed]",
      "text/plain": [
       "<matplotlib.figure.Figure at 0x7f2fdacf0a90>"
      ]
     },
     "metadata": {},
     "output_type": "display_data"
    }
   ],
   "source": [
    "# Show scattering images\n",
    "#fig = plt.figure(figsize=(20,20))\n",
    "#plt.imshow(b, norm=LogNorm(vmin=1, vmax=1e2))\n",
    "#plt.colorbar()\n",
    "\n",
    "plt.plot(x, np.sum(b[0][0], axis=0))\n",
    "plt.show()"
   ]
  },
  {
   "cell_type": "code",
   "execution_count": null,
   "metadata": {
    "collapsed": false
   },
   "outputs": [],
   "source": [
    "# Save scattering image\n",
    "#np.savetxt('scattered_photons.txt', b[0])"
   ]
  },
  {
   "cell_type": "code",
   "execution_count": null,
   "metadata": {
    "collapsed": false
   },
   "outputs": [],
   "source": [
    "aux.imshow(np.log(b[0]+1))"
   ]
  }
 ],
 "metadata": {
  "anaconda-cloud": {},
  "kernelspec": {
   "display_name": "Python [Root]",
   "language": "python",
   "name": "Python [Root]"
  },
  "language_info": {
   "codemirror_mode": {
    "name": "ipython",
    "version": 3
   },
   "file_extension": ".py",
   "mimetype": "text/x-python",
   "name": "python",
   "nbconvert_exporter": "python",
   "pygments_lexer": "ipython3",
   "version": "3.5.2"
  }
 },
 "nbformat": 4,
 "nbformat_minor": 0
}
