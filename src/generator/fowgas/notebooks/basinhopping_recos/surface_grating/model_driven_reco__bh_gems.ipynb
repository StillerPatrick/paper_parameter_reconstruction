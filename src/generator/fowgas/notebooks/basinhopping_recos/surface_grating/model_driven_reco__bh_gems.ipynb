{
 "cells": [
  {
   "cell_type": "markdown",
   "metadata": {},
   "source": [
    "## Import stuff"
   ]
  },
  {
   "cell_type": "code",
   "execution_count": 1,
   "metadata": {
    "collapsed": true
   },
   "outputs": [],
   "source": [
    "import numpy as np\n",
    "from mysticetus.model_driven_reco import *"
   ]
  },
  {
   "cell_type": "markdown",
   "metadata": {},
   "source": [
    "## NonNegativityTest\n",
    "\n",
    "Returns `True` if all values in keyword argument `x_new` are not negativ. Otherwise it returns `False`."
   ]
  },
  {
   "cell_type": "code",
   "execution_count": 2,
   "metadata": {
    "collapsed": false
   },
   "outputs": [
    {
     "name": "stdout",
     "output_type": "stream",
     "text": [
      "[ 0.39025366 -0.41808109  0.9457882 ]\n",
      "False\n"
     ]
    }
   ],
   "source": [
    "nnt = NonNegativityTest()\n",
    "p1 = np.random.uniform(-0.5, 1.5, [3,])\n",
    "print(p1)\n",
    "print(nnt(x_new=p1))"
   ]
  },
  {
   "cell_type": "markdown",
   "metadata": {},
   "source": [
    "## ConsistencyTest\n",
    "\n",
    "Returns `True` if holds:\n",
    "\n",
    "1. The first value (sigma) in keyword argument `x_new` is smaller than the second value (pitch) and\n",
    "1. The third value (fsize) in keyword argument `x_new` is smaller than pitch.\n",
    "\n",
    "Otherwise it returns `False`."
   ]
  },
  {
   "cell_type": "code",
   "execution_count": 3,
   "metadata": {
    "collapsed": false
   },
   "outputs": [
    {
     "name": "stdout",
     "output_type": "stream",
     "text": [
      "True\n",
      "False\n",
      "False\n"
     ]
    }
   ],
   "source": [
    "ct = ConsistencyTest()\n",
    "p2 = np.array([0.1, 1., 0.1])\n",
    "p3 = np.array([1., 1., 0.1])\n",
    "p4 = np.array([0.1, 1., 1.])\n",
    "print(ct(x_new=p2))\n",
    "print(ct(x_new=p3))\n",
    "print(ct(x_new=p4))"
   ]
  },
  {
   "cell_type": "markdown",
   "metadata": {},
   "source": [
    "## BoundsTest\n",
    "\n",
    "Returns `True` if all values in keyword argument `x_new` are in between or the same as their corresponding bounds the test object was initialized with. Otherwise it returns `False`."
   ]
  },
  {
   "cell_type": "code",
   "execution_count": 4,
   "metadata": {
    "collapsed": false
   },
   "outputs": [
    {
     "name": "stdout",
     "output_type": "stream",
     "text": [
      "True\n",
      "False\n",
      "False\n",
      "False\n",
      "True\n"
     ]
    }
   ],
   "source": [
    "pmin = [0., 1., 2.]\n",
    "pmax = [1., 9., 8.]\n",
    "bt   = BoundsTest(pmin, pmax)\n",
    "p5   = np.array([0.5, 9., 3.])\n",
    "p6   = np.array([1.1, 5., 3.])\n",
    "p7   = np.array([0.5, 10., 3.])\n",
    "p8   = np.array([0.5, 5., 9.])\n",
    "# carefull with lists - they're weird:\n",
    "p9   =          [0.5, 5., 9.]\n",
    "print(bt(x_new=p5))\n",
    "print(bt(x_new=p6))\n",
    "print(bt(x_new=p7))\n",
    "print(bt(x_new=p8))\n",
    "print(bt(x_new=p9))"
   ]
  },
  {
   "cell_type": "markdown",
   "metadata": {},
   "source": [
    "## UpperBoundTest\n",
    "\n",
    "Just like `BoundsTest` but only with an upper boundary."
   ]
  },
  {
   "cell_type": "markdown",
   "metadata": {},
   "source": [
    "## HardTest\n",
    "\n",
    "`HardTest` combines `NonNegativityTest` with `ConsistencyTest`: If keyword argument `x_new` fails any of those to tests, `HardTest` returns `False`. Otherwise it returns `True`."
   ]
  },
  {
   "cell_type": "code",
   "execution_count": 5,
   "metadata": {
    "collapsed": false
   },
   "outputs": [
    {
     "name": "stdout",
     "output_type": "stream",
     "text": [
      "True\n",
      "False\n",
      "False\n"
     ]
    }
   ],
   "source": [
    "ht = HardTest()\n",
    "p10 = np.array([0.5, 1., 0.8])\n",
    "p11 = np.array([-0.5, 1., 0.8])\n",
    "p12 = np.array([0.5, 1., 1.1])\n",
    "print(ht(x_new=p10))\n",
    "print(ht(x_new=p11))\n",
    "print(ht(x_new=p12))"
   ]
  },
  {
   "cell_type": "markdown",
   "metadata": {},
   "source": [
    "## SoftTest\n",
    "\n",
    "`SoftTest` combines `BoundsTest` with `UpperBoundTest`. Though this might seem useless as the same effect can be achieved with only `BoundsTest` and the right initialization values, it's a good idea still as the `BoundsTest` implements a guess or knowledge of the parameter volume wherin the global minimum should be and, orthogonally, `UpperBoundsTest` implements the size of the real space domain that is taken into account during reconstruction."
   ]
  },
  {
   "cell_type": "code",
   "execution_count": 6,
   "metadata": {
    "collapsed": false
   },
   "outputs": [
    {
     "name": "stdout",
     "output_type": "stream",
     "text": [
      "True\n",
      "False\n"
     ]
    }
   ],
   "source": [
    "domain_size = np.array([5., 5., 5.])\n",
    "pmin        = np.array([0., 0.1, 0.05])\n",
    "pmax        = np.array([1., 2.5, 1.25])\n",
    "st          = SoftTest(domain_size, pmin, pmax)\n",
    "p13         = np.array([0.1, 0.3, 0.35])\n",
    "p14         = np.array([1.1, 0.3, 0.35])\n",
    "print(st(x_new=p13))\n",
    "print(st(x_new=p14))"
   ]
  },
  {
   "cell_type": "markdown",
   "metadata": {},
   "source": [
    "## CombinedTest\n",
    "\n",
    "Combines `HardTest` and `SoftTest`."
   ]
  },
  {
   "cell_type": "code",
   "execution_count": 7,
   "metadata": {
    "collapsed": false
   },
   "outputs": [
    {
     "name": "stdout",
     "output_type": "stream",
     "text": [
      "False\n",
      "False\n",
      "True\n"
     ]
    }
   ],
   "source": [
    "domain_size = np.array([5., 5., 5.])\n",
    "pmin        = np.array([0., 0.1, 0.05])\n",
    "pmax        = np.array([1., 2.5, 1.25])\n",
    "cbt         = CombinedTest(domain_size, pmin, pmax)\n",
    "p15         = np.array([0.1, 0.3, 0.35])\n",
    "p16         = np.array([1.1, 0.3, 0.35])\n",
    "p17         = np.array([0.1, 2.3, 1.2])\n",
    "print(cbt(x_new=p15))\n",
    "print(cbt(x_new=p16))\n",
    "print(cbt(x_new=p17))"
   ]
  },
  {
   "cell_type": "markdown",
   "metadata": {},
   "source": [
    "## ScaledAxesDisplacement\n",
    "\n",
    "Like `basinhopping`'s `RandomDisplacement` but with a scaling parameter for each axis."
   ]
  },
  {
   "cell_type": "code",
   "execution_count": 8,
   "metadata": {
    "collapsed": false
   },
   "outputs": [
    {
     "name": "stdout",
     "output_type": "stream",
     "text": [
      "[  0.31708692   3.65298578  43.83939149]\n"
     ]
    }
   ],
   "source": [
    "scales = np.array([1., 10., 100.])\n",
    "sd     = ScaledAxesDisplacement(scales, stepsize=1.)\n",
    "p18    = np.array([0., 0., 0.])\n",
    "print(sd(p18))"
   ]
  },
  {
   "cell_type": "markdown",
   "metadata": {},
   "source": [
    "## TestedDisplacement\n",
    "\n",
    "This is a `take_step` functor: It wraps an existing functor of this type and additionally enforces that the returned parametersets pass an `accept_test`-like test."
   ]
  },
  {
   "cell_type": "code",
   "execution_count": 9,
   "metadata": {
    "collapsed": false
   },
   "outputs": [
    {
     "name": "stdout",
     "output_type": "stream",
     "text": [
      "[  3.68462673e+01   3.58797943e+02   4.67416253e-02]\n"
     ]
    }
   ],
   "source": [
    "ht     = HardTest()\n",
    "scales = np.array([1., 100., 1.])\n",
    "sd     = ScaledAxesDisplacement(scales, stepsize=1.)\n",
    "td     = TestedDisplacement(sd, ht)\n",
    "p19    = np.array([0., 0., 0.])\n",
    "print(td(p19))"
   ]
  }
 ],
 "metadata": {
  "anaconda-cloud": {},
  "kernelspec": {
   "display_name": "Python [conda env:my_root]",
   "language": "python",
   "name": "conda-env-my_root-py"
  },
  "language_info": {
   "codemirror_mode": {
    "name": "ipython",
    "version": 3
   },
   "file_extension": ".py",
   "mimetype": "text/x-python",
   "name": "python",
   "nbconvert_exporter": "python",
   "pygments_lexer": "ipython3",
   "version": "3.5.2"
  }
 },
 "nbformat": 4,
 "nbformat_minor": 2
}
